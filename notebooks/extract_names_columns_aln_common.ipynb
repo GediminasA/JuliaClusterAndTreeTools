{
 "cells": [
  {
   "cell_type": "code",
   "execution_count": 1,
   "id": "881dba9a-ec09-4b60-bdea-e926b7db13c0",
   "metadata": {},
   "outputs": [
    {
     "name": "stderr",
     "output_type": "stream",
     "text": [
      "\u001b[32m\u001b[1m  Activating\u001b[22m\u001b[39m project at `./scripts/julia_modules/JuliaClusterAndTreeTools`\n",
      "┌ Warning: RCall.jl: Loading required package: MASS\n",
      "│ Loading required package: survival\n",
      "└ @ RCall /home/user1/.julia/packages/RCall/Wyd74/src/io.jl:172\n",
      "┌ Warning: RCall.jl: \n",
      "│ Attaching package: ‘patchwork’\n",
      "│ \n",
      "│ The following object is masked from ‘package:MASS’:\n",
      "│ \n",
      "│     area\n",
      "│ \n",
      "└ @ RCall /home/user1/.julia/packages/RCall/Wyd74/src/io.jl:172\n"
     ]
    },
    {
     "data": {
      "text/plain": [
       "RObject{StrSxp}\n",
       " [1] \"data.table\"   \"patchwork\"    \"fitdistrplus\" \"survival\"     \"MASS\"        \n",
       " [6] \"ggplot2\"      \"stats\"        \"graphics\"     \"grDevices\"    \"utils\"       \n",
       "[11] \"datasets\"     \"methods\"      \"base\"        \n"
      ]
     },
     "execution_count": 1,
     "metadata": {},
     "output_type": "execute_result"
    }
   ],
   "source": [
    "using Pkg\n",
    "using Revise\n",
    "Pkg.activate(\"./scripts/julia_modules/JuliaClusterAndTreeTools\")\n",
    "using JuliaClusterAndTreeTools\n",
    "using Statistics\n",
    "using Pkg\n",
    "using RCall\n",
    "using DataFrames\n",
    "using StatsBase\n",
    "using CSV\n",
    "R\"\"\"\n",
    "library(ggplot2)\n",
    "library(fitdistrplus)\n",
    "library(patchwork)\n",
    "library(fitdistrplus)\n",
    "library(data.table)\n",
    "\n",
    "\"\"\"\n",
    "\n"
   ]
  },
  {
   "cell_type": "code",
   "execution_count": 38,
   "id": "aa816971-47e0-4e86-b872-19f1afc96c56",
   "metadata": {
    "tags": [
     "parameters"
    ]
   },
   "outputs": [
    {
     "data": {
      "text/plain": [
       "\"/mnt/raid/covid-phylogeny/audines11/rez/lineages/Q.1/ref_pair.fasta.gz\""
      ]
     },
     "execution_count": 38,
     "metadata": {},
     "output_type": "execute_result"
    }
   ],
   "source": [
    "columns_chosen = \"/mnt/raid/covid-phylogeny/audines11/rez/lineages/Q.1/kept_columns_reference_based.txt\"\n",
    "rows_chosen_id = \"/mnt/raid/covid-phylogeny/audines11/rez/lineages/Q.1/alignment_nextclade_filtered_keptrows_0.8_20.txt\"\n",
    "rows_chosen_reference = \"/mnt/raid/covid-phylogeny/audines11/rez/lineages/BA.2/alignment_nextclade_filtered_keptrows_0.8_20.txt\"\n",
    "aln_id = \"/mnt/raid/covid-phylogeny/audines11/rez/lineages/Q.1/alignment_nextclade.fasta.gz\"\n",
    "aln_ref = \"/mnt/raid/covid-phylogeny/audines11/rez/lineages/BA.2/alignment_nextclade.fasta.gz\"\n",
    "output_id = \"/mnt/raid/covid-phylogeny/audines11/rez/lineages/Q.1/id_pair.fasta.gz\"\n",
    "output_ref = \"/mnt/raid/covid-phylogeny/audines11/rez/lineages/Q.1/ref_pair.fasta.gz\"\n",
    "\n"
   ]
  },
  {
   "cell_type": "code",
   "execution_count": 11,
   "id": "6747005d-9295-4270-8b26-9feba7d18c7b",
   "metadata": {},
   "outputs": [
    {
     "data": {
      "text/plain": [
       "416523-element Vector{String}:\n",
       " \"Germany/BW-RKI-I-667524/2022\"\n",
       " \"Germany/BW-RKI-I-667902/2022\"\n",
       " \"Denmark/DCGC-455290/2022\"\n",
       " \"Germany/BW-RKI-I-667089/2022\"\n",
       " \"Denmark/DCGC-455610/2022\"\n",
       " \"England/ALDP-3C3F6D4/2022\"\n",
       " \"England/QEUH-3C5DA7A/2022\"\n",
       " \"England/QEUH-3C5EB3A/2022\"\n",
       " \"Germany/BW-RKI-I-667526/2022\"\n",
       " \"Germany/BW-RKI-I-667525/2022\"\n",
       " \"England/MILK-353C805/2022\"\n",
       " \"England/QEUH-3C5D98C/2022\"\n",
       " \"England/ALDP-3C3E9FA/2022\"\n",
       " ⋮\n",
       " \"England/LSPA-3C3FC5A/2022\"\n",
       " \"Denmark/DCGC-455287/2022\"\n",
       " \"England/PLYM-3C48FA0/2022\"\n",
       " \"Germany/BW-RKI-I-667522/2022\"\n",
       " \"England/ALDP-3C3F3A0/2022\"\n",
       " \"Germany/BW-RKI-I-667901/2022\"\n",
       " \"Denmark/DCGC-455605/2022\"\n",
       " \"Denmark/DCGC-455604/2022\"\n",
       " \"England/LSPA-3C3FCE1/2022\"\n",
       " \"England/LSPA-3C3EEFB/2022\"\n",
       " \"England/ALDP-3C4A296/2022\"\n",
       " \"MN908947\""
      ]
     },
     "execution_count": 11,
     "metadata": {},
     "output_type": "execute_result"
    }
   ],
   "source": [
    "columns_chosen_vals = DataFrame(CSV.File(columns_chosen, header=[\"Position\"])).Position\n",
    "rows_chosen_id_vals = DataFrame(CSV.File(rows_chosen_id, header=[\"Name\"])).Name\n",
    "rows_chosen_reference_vals = DataFrame(CSV.File(rows_chosen_reference, header=[\"Name\"])).Name"
   ]
  },
  {
   "cell_type": "code",
   "execution_count": 19,
   "id": "54c3231a-b9bf-4303-a85a-ce50b0d6604a",
   "metadata": {},
   "outputs": [
    {
     "name": "stderr",
     "output_type": "stream",
     "text": [
      "Reading aligment /mnt/raid/covid-phylogeny/audines11/rez/lineages/Q.1/alignment_nextclade.fasta.gz\n",
      "\n",
      "Parsed 3000 sequences \r"
     ]
    },
    {
     "name": "stdout",
     "output_type": "stream",
     "text": [
      "Alignment parsed, dimentions:\n",
      "(3592, 29903)\n"
     ]
    }
   ],
   "source": [
    "aln_id_val = JuliaClusterAndTreeTools.Alignment(aln_id)\n",
    "#aln = JuliaClusterAndTreeTools.Alignment(\"/mnt/raid/covid-phylogeny/audines11/rez/lineages/BA.2/alignment_nextclade.fasta.gz\")\n",
    "println(\"Alignment parsed, dimentions:\")\n",
    "println(size(aln_id_val.M))"
   ]
  },
  {
   "cell_type": "code",
   "execution_count": 30,
   "id": "c8c408ed-1f0a-4512-81be-baccc914cd3b",
   "metadata": {},
   "outputs": [
    {
     "ename": "LoadError",
     "evalue": "BoundsError: attempt to access 2872×20542 Matrix{BioSymbols.DNA} at index [1:2872, [1950, 1951, 1952, 1953, 1954, 1955, 1956, 1957, 1958, 1959  …  27180, 27181, 27182, 27183, 27184, 27185, 27186, 27187, 27188, 27189]]",
     "output_type": "error",
     "traceback": [
      "BoundsError: attempt to access 2872×20542 Matrix{BioSymbols.DNA} at index [1:2872, [1950, 1951, 1952, 1953, 1954, 1955, 1956, 1957, 1958, 1959  …  27180, 27181, 27182, 27183, 27184, 27185, 27186, 27187, 27188, 27189]]",
      "",
      "Stacktrace:",
      " [1] throw_boundserror(A::Matrix{BioSymbols.DNA}, I::Tuple{Base.Slice{Base.OneTo{Int64}}, Vector{Int64}})",
      "   @ Base ./abstractarray.jl:703",
      " [2] checkbounds",
      "   @ ./abstractarray.jl:668 [inlined]",
      " [3] _getindex",
      "   @ ./multidimensional.jl:874 [inlined]",
      " [4] getindex",
      "   @ ./abstractarray.jl:1241 [inlined]",
      " [5] sub_alignment_columnwise!(aln::Alignment, columns::Vector{Int64})",
      "   @ JuliaClusterAndTreeTools ./scripts/julia_modules/JuliaClusterAndTreeTools/src/AlignmentMatrix.jl:147",
      " [6] top-level scope",
      "   @ In[30]:2",
      " [7] eval",
      "   @ ./boot.jl:368 [inlined]",
      " [8] include_string(mapexpr::typeof(REPL.softscope), mod::Module, code::String, filename::String)",
      "   @ Base ./loading.jl:1428"
     ]
    }
   ],
   "source": [
    "#subsampling\n",
    "sub_alignment_columnwise!(aln_id_val, columns_chosen_vals)\n",
    "sub_alignment!(aln_id_val,rows_chosen_id_vals)\n",
    "println(\"Alignment subsampled, dimentions:\")\n",
    "println(size(aln_id_val.M))"
   ]
  },
  {
   "cell_type": "code",
   "execution_count": 27,
   "id": "41c19b60-2a4a-4bd0-a49f-d8fb725a1a4c",
   "metadata": {},
   "outputs": [
    {
     "name": "stdout",
     "output_type": "stream",
     "text": [
      "Wrinting out to /mnt/raid/covid-phylogeny/audines11/rez/lineages/Q.1/id_pair.fasta.gz\n"
     ]
    },
    {
     "data": {
      "text/plain": [
       "0"
      ]
     },
     "execution_count": 27,
     "metadata": {},
     "output_type": "execute_result"
    }
   ],
   "source": [
    "println(\"Wrinting out to \",output_id)\n",
    "JuliaClusterAndTreeTools.write_to_fasta(aln_id_val, output_id)"
   ]
  },
  {
   "cell_type": "code",
   "execution_count": 39,
   "id": "fc32d938-7b95-42ee-9647-701395260aeb",
   "metadata": {},
   "outputs": [
    {
     "name": "stderr",
     "output_type": "stream",
     "text": [
      "Reading aligment /mnt/raid/covid-phylogeny/audines11/rez/lineages/BA.2/alignment_nextclade.fasta.gz\n",
      "\n",
      "Parsed 615000 sequences \r"
     ]
    },
    {
     "name": "stdout",
     "output_type": "stream",
     "text": [
      "Alignment parsed, dimentions:\n",
      "(615034, 29903)\n"
     ]
    }
   ],
   "source": [
    "aln_id_val = NaN\n",
    "aln_ref_val = JuliaClusterAndTreeTools.Alignment(aln_ref)\n",
    "#aln = JuliaClusterAndTreeTools.Alignment(\"/mnt/raid/covid-phylogeny/audines11/rez/lineages/BA.2/alignment_nextclade.fasta.gz\")\n",
    "println(\"Alignment parsed, dimentions:\")\n",
    "println(size(aln_ref_val.M))"
   ]
  },
  {
   "cell_type": "code",
   "execution_count": 40,
   "id": "e2e5d826-f971-46d2-9e7e-c392c6c55523",
   "metadata": {},
   "outputs": [
    {
     "name": "stdout",
     "output_type": "stream",
     "text": [
      "Alignment subsampled, dimentions:\n",
      "(416523, 20542)\n"
     ]
    }
   ],
   "source": [
    "#subsampling\n",
    "sub_alignment_columnwise!(aln_ref_val, columns_chosen_vals)\n",
    "sub_alignment!(aln_ref_val,rows_chosen_reference_vals)\n",
    "println(\"Alignment subsampled, dimentions:\")\n",
    "println(size(aln_ref_val.M))"
   ]
  },
  {
   "cell_type": "code",
   "execution_count": 41,
   "id": "ab0d6740-505a-4738-83a0-43509d680a8a",
   "metadata": {},
   "outputs": [
    {
     "name": "stdout",
     "output_type": "stream",
     "text": [
      "Wrinting out to /mnt/raid/covid-phylogeny/audines11/rez/lineages/Q.1/ref_pair.fasta.gz\n"
     ]
    },
    {
     "data": {
      "text/plain": [
       "0"
      ]
     },
     "execution_count": 41,
     "metadata": {},
     "output_type": "execute_result"
    }
   ],
   "source": [
    "println(\"Wrinting out to \",output_ref)\n",
    "JuliaClusterAndTreeTools.write_to_fasta(aln_ref_val, output_ref)"
   ]
  }
 ],
 "metadata": {
  "kernelspec": {
   "display_name": "Julia 1.9.2",
   "language": "julia",
   "name": "julia-1.9"
  },
  "language_info": {
   "file_extension": ".jl",
   "mimetype": "application/julia",
   "name": "julia",
   "version": "1.9.2"
  }
 },
 "nbformat": 4,
 "nbformat_minor": 5
}
