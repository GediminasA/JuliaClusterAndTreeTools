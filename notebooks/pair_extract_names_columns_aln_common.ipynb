{
 "cells": [
  {
   "cell_type": "code",
   "execution_count": 1,
   "id": "881dba9a-ec09-4b60-bdea-e926b7db13c0",
   "metadata": {
    "papermill": {},
    "tags": []
   },
   "outputs": [
    {
     "name": "stderr",
     "output_type": "stream",
     "text": [
      "\u001b[32m\u001b[1m  Activating\u001b[22m\u001b[39m project at `./scripts/julia_modules/JuliaClusterAndTreeTools`\n",
      "┌ Warning: RCall.jl: Loading required package: MASS\n",
      "│ Loading required package: survival\n",
      "└ @ RCall /home/user1/.julia/packages/RCall/Wyd74/src/io.jl:172\n",
      "┌ Warning: RCall.jl: \n",
      "│ Attaching package: ‘patchwork’\n",
      "│ \n",
      "│ The following object is masked from ‘package:MASS’:\n",
      "│ \n",
      "│     area\n",
      "│ \n",
      "└ @ RCall /home/user1/.julia/packages/RCall/Wyd74/src/io.jl:172\n"
     ]
    },
    {
     "data": {
      "text/plain": [
       "RObject{StrSxp}\n",
       " [1] \"data.table\"   \"patchwork\"    \"fitdistrplus\" \"survival\"     \"MASS\"        \n",
       " [6] \"ggplot2\"      \"stats\"        \"graphics\"     \"grDevices\"    \"utils\"       \n",
       "[11] \"datasets\"     \"methods\"      \"base\"        \n"
      ]
     },
     "execution_count": 1,
     "metadata": {},
     "output_type": "execute_result"
    }
   ],
   "source": [
    "using Pkg\n",
    "using Revise\n",
    "Pkg.activate(\"./scripts/julia_modules/JuliaClusterAndTreeTools\")\n",
    "using JuliaClusterAndTreeTools\n",
    "using Statistics\n",
    "using Pkg\n",
    "using RCall\n",
    "using DataFrames\n",
    "using StatsBase\n",
    "using CSV\n",
    "R\"\"\"\n",
    "library(ggplot2)\n",
    "library(fitdistrplus)\n",
    "library(patchwork)\n",
    "library(fitdistrplus)\n",
    "library(data.table)\n",
    "\n",
    "\"\"\"\n",
    "\n"
   ]
  },
  {
   "cell_type": "code",
   "execution_count": 47,
   "id": "aa816971-47e0-4e86-b872-19f1afc96c56",
   "metadata": {
    "papermill": {},
    "tags": [
     "parameters"
    ]
   },
   "outputs": [
    {
     "data": {
      "text/plain": [
       "\"audines11/rez/lineages/Q.1/common_id.fasta.gz\""
      ]
     },
     "execution_count": 47,
     "metadata": {},
     "output_type": "execute_result"
    }
   ],
   "source": [
    "columns_chosen = \"audines11/rez/lineages/AY.4.5/kept_columns_reference_based.txt audines11/rez/lineages/Q.1/kept_columns_reference_based.txt audines11/rez/lineages/B.1.1.7/kept_columns_reference_based.txt audines11/rez/lineages/B.1.177.60/kept_columns_reference_based.txt audines11/rez/lineages/BA.2/kept_columns_reference_based.txt audines11/rez/lineages/BA.2.9/kept_columns_reference_based.txt\"\n",
    "rows_chosen_id = \"audines11/rez/lineages/Q.1/alignment_nextclade_filtered_keptrows_0.8_20.txt\"\n",
    "aln_id = \"audines11/rez/lineages/Q.1/alignment_nextclade.fasta.gz\"\n",
    "output_id = \"audines11/rez/lineages/Q.1/common_id.fasta.gz\"\n",
    "\n"
   ]
  },
  {
   "cell_type": "code",
   "execution_count": 49,
   "id": "ebec8b82-55c3-4dc6-a810-9a0100e5c705",
   "metadata": {},
   "outputs": [
    {
     "data": {
      "text/plain": [
       "8632-element Vector{Int64}:\n",
       " 11012\n",
       " 11950\n",
       " 20448\n",
       " 14215\n",
       " 12372\n",
       " 12778\n",
       " 15889\n",
       " 18638\n",
       " 12427\n",
       " 14288\n",
       " 16540\n",
       " 18755\n",
       " 18374\n",
       "     ⋮\n",
       " 12084\n",
       " 15138\n",
       " 15892\n",
       " 15930\n",
       " 21616\n",
       " 12278\n",
       " 14082\n",
       " 15271\n",
       " 17984\n",
       " 19700\n",
       " 21664\n",
       " 11668"
      ]
     },
     "execution_count": 49,
     "metadata": {},
     "output_type": "execute_result"
    }
   ],
   "source": [
    "# get common columns\n",
    "clms_data = Array{Array{Int64,1},1}()\n",
    "for clmf in split(columns_chosen,\" \")\n",
    "    push!(clms_data, DataFrame(CSV.File(clmf, header=[\"Position\"])).Position)\n",
    "end\n",
    "clm_s1 = Set(clms_data[1])\n",
    "for s in clms_data\n",
    "    clm_s1 = intersect(clm_s1,Set(s))\n",
    "end\n",
    "columns_chosen_vals = collect(clm_s1)\n"
   ]
  },
  {
   "cell_type": "code",
   "execution_count": 50,
   "id": "6747005d-9295-4270-8b26-9feba7d18c7b",
   "metadata": {
    "papermill": {},
    "tags": []
   },
   "outputs": [
    {
     "data": {
      "text/plain": [
       "2872-element Vector{String}:\n",
       " \"Lithuania/LTU000_NMRVI58883/2021\"\n",
       " \"Denmark/DCGC-79916/2021\"\n",
       " \"Denmark/DCGC-79319/2021\"\n",
       " \"Denmark/DCGC-79094/2021\"\n",
       " \"Denmark/DCGC-82771/2021\"\n",
       " \"Denmark/DCGC-83721/2021\"\n",
       " \"Denmark/DCGC-83380/2021\"\n",
       " \"Lithuania/S21D1398/2021\"\n",
       " \"Lithuania/S21D1395/2021\"\n",
       " \"Lithuania/S21D1439/2021\"\n",
       " \"Lithuania/S21D1429/2021\"\n",
       " \"Lithuania/S21D1356/2021\"\n",
       " \"Lithuania/S21D1340/2021\"\n",
       " ⋮\n",
       " \"Denmark/DCGC-59703/2021\"\n",
       " \"Denmark/DCGC-59443/2021\"\n",
       " \"Denmark/DCGC-59463/2021\"\n",
       " \"Denmark/DCGC-57089/2021\"\n",
       " \"Denmark/DCGC-55869/2021\"\n",
       " \"Denmark/DCGC-62057/2021\"\n",
       " \"Denmark/DCGC-61769/2021\"\n",
       " \"Denmark/DCGC-63603/2021\"\n",
       " \"Denmark/DCGC-67613/2021\"\n",
       " \"Denmark/DCGC-71296/2021\"\n",
       " \"Denmark/DCGC-70556/2021\"\n",
       " \"MN908947\""
      ]
     },
     "execution_count": 50,
     "metadata": {},
     "output_type": "execute_result"
    }
   ],
   "source": [
    "\n",
    "rows_chosen_id_vals = DataFrame(CSV.File(rows_chosen_id, header=[\"Name\"])).Name"
   ]
  },
  {
   "cell_type": "code",
   "execution_count": 51,
   "id": "54c3231a-b9bf-4303-a85a-ce50b0d6604a",
   "metadata": {
    "papermill": {},
    "tags": []
   },
   "outputs": [
    {
     "name": "stderr",
     "output_type": "stream",
     "text": [
      "Reading aligment audines11/rez/lineages/Q.1/alignment_nextclade.fasta.gz\n",
      "\n",
      "Parsed 3000 sequences \r"
     ]
    },
    {
     "name": "stdout",
     "output_type": "stream",
     "text": [
      "Alignment parsed, dimentions:\n",
      "(3592, 29903)\n"
     ]
    }
   ],
   "source": [
    "aln_id_val = JuliaClusterAndTreeTools.Alignment(aln_id)\n",
    "#aln = JuliaClusterAndTreeTools.Alignment(\"/mnt/raid/covid-phylogeny/audines11/rez/lineages/BA.2/alignment_nextclade.fasta.gz\")\n",
    "println(\"Alignment parsed, dimentions:\")\n",
    "println(size(aln_id_val.M))"
   ]
  },
  {
   "cell_type": "code",
   "execution_count": 52,
   "id": "c8c408ed-1f0a-4512-81be-baccc914cd3b",
   "metadata": {
    "papermill": {},
    "tags": []
   },
   "outputs": [
    {
     "name": "stdout",
     "output_type": "stream",
     "text": [
      "Alignment subsampled, dimentions:\n",
      "(2872, 8632)\n"
     ]
    }
   ],
   "source": [
    "#subsampling\n",
    "sub_alignment_columnwise!(aln_id_val, columns_chosen_vals)\n",
    "sub_alignment!(aln_id_val,Vector{String}(rows_chosen_id_vals))\n",
    "println(\"Alignment subsampled, dimentions:\")\n",
    "println(size(aln_id_val.M))"
   ]
  },
  {
   "cell_type": "code",
   "execution_count": 53,
   "id": "41c19b60-2a4a-4bd0-a49f-d8fb725a1a4c",
   "metadata": {
    "papermill": {},
    "tags": []
   },
   "outputs": [
    {
     "name": "stdout",
     "output_type": "stream",
     "text": [
      "Wrinting out to audines11/rez/lineages/Q.1/common_id.fasta.gz\n"
     ]
    },
    {
     "data": {
      "text/plain": [
       "0"
      ]
     },
     "execution_count": 53,
     "metadata": {},
     "output_type": "execute_result"
    }
   ],
   "source": [
    "println(\"Wrinting out to \",output_id)\n",
    "JuliaClusterAndTreeTools.write_to_fasta(aln_id_val, output_id)"
   ]
  }
 ],
 "metadata": {
  "kernelspec": {
   "display_name": "Julia 1.9.2",
   "language": "julia",
   "name": "julia-1.9"
  },
  "language_info": {
   "file_extension": ".jl",
   "mimetype": "application/julia",
   "name": "julia",
   "version": "1.9.2"
  },
  "papermill": {
   "default_parameters": {},
   "environment_variables": {},
   "input_path": "scripts/julia_modules/JuliaClusterAndTreeTools/notebooks/extract_names_columns_aln_common.ipynb",
   "output_path": "audines11/rez/lineages/Q.1/pair_extract_names_columns_aln_common.ipynb",
   "parameters": {
    "aln_id": "audines11/rez/lineages/Q.1/alignment_nextclade.fasta.gz",
    "columns_chosen": "audines11/rez/lineages/AY.4.5/kept_columns_reference_based.txt audines11/rez/lineages/Q.1/kept_columns_reference_based.txt audines11/rez/lineages/B.1.1.7/kept_columns_reference_based.txt audines11/rez/lineages/B.1.177.60/kept_columns_reference_based.txt audines11/rez/lineages/BA.2/kept_columns_reference_based.txt audines11/rez/lineages/BA.2.9/kept_columns_reference_based.txt",
    "output_id": "audines11/rez/lineages/Q.1/common_id.fasta.gz",
    "rows_chosen_id": "audines11/rez/lineages/AY.4.5/alignment_nextclade_filtered_keptrows_0.8_20.txt audines11/rez/lineages/Q.1/alignment_nextclade_filtered_keptrows_0.8_20.txt audines11/rez/lineages/B.1.1.7/alignment_nextclade_filtered_keptrows_0.8_20.txt audines11/rez/lineages/B.1.177.60/alignment_nextclade_filtered_keptrows_0.8_20.txt audines11/rez/lineages/BA.2/alignment_nextclade_filtered_keptrows_0.8_20.txt audines11/rez/lineages/BA.2.9/alignment_nextclade_filtered_keptrows_0.8_20.txt"
   },
   "version": "2.4.0"
  }
 },
 "nbformat": 4,
 "nbformat_minor": 5
}
