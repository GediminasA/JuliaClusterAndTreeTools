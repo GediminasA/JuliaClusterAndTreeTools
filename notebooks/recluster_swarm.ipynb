{
 "cells": [
  {
   "cell_type": "code",
   "execution_count": 2,
   "id": "881dba9a-ec09-4b60-bdea-e926b7db13c0",
   "metadata": {
    "papermill": {
     "duration": 11.321659,
     "end_time": "2022-12-19T14:42:27.184073",
     "exception": false,
     "start_time": "2022-12-19T14:42:15.862414",
     "status": "completed"
    },
    "tags": []
   },
   "outputs": [
    {
     "name": "stderr",
     "output_type": "stream",
     "text": [
      "\u001b[32m\u001b[1m  Activating\u001b[22m\u001b[39m project at `/mnt/raid/covid-phylogeny/scripts/julia_modules/JuliaClusterAndTreeTools`\n"
     ]
    },
    {
     "data": {
      "text/plain": [
       "RObject{StrSxp}\n",
       " [1] \"data.table\" \"dplyr\"      \"ggplot2\"    \"stats\"      \"graphics\"  \n",
       " [6] \"grDevices\"  \"utils\"      \"datasets\"   \"methods\"    \"base\"      \n"
      ]
     },
     "execution_count": 2,
     "metadata": {},
     "output_type": "execute_result"
    }
   ],
   "source": [
    "using Pkg\n",
    "using Revise\n",
    "Pkg.activate(\"..\")\n",
    "using JuliaClusterAndTreeTools\n",
    "using Statistics\n",
    "using Pkg\n",
    "using RCall\n",
    "using DataFrames\n",
    "using StatsBase\n",
    "using Distances\n",
    "using CSV\n",
    "using BioSymbols\n",
    "using Clustering\n",
    "R\"\"\"\n",
    "library(ggplot2)\n",
    "library(dplyr)\n",
    "library(data.table)\n",
    "\n",
    "\"\"\"\n",
    "\n"
   ]
  },
  {
   "cell_type": "code",
   "execution_count": 3,
   "id": "aa816971-47e0-4e86-b872-19f1afc96c56",
   "metadata": {
    "papermill": {
     "duration": 3.131468,
     "end_time": "2022-12-19T14:42:30.320061",
     "exception": false,
     "start_time": "2022-12-19T14:42:27.188593",
     "status": "completed"
    },
    "tags": [
     "parameters"
    ]
   },
   "outputs": [
    {
     "data": {
      "text/plain": [
       "\"/mnt/raid/covid-phylogeny/audines11/rez/lineages/B.1.1.7/pair_id_Gap2a_derep1_swarm.fasta.swarminfo.cleaned_single.txt\""
      ]
     },
     "execution_count": 3,
     "metadata": {},
     "output_type": "execute_result"
    }
   ],
   "source": [
    "swarm_clusters = \"/mnt/raid/covid-phylogeny/audines11/rez/lineages/B.1.1.7/pair_id_Gap2a_derep1_swarm.fasta.swarminfo.cleaned.txt\"\n",
    "fasta = \"/mnt/raid/covid-phylogeny/audines11/rez/lineages/B.1.1.7/pair_id_Gap2a_derep1.fasta\"\n",
    "cleaned_output = \"/mnt/raid/covid-phylogeny/audines11/rez/lineages/B.1.1.7/pair_id_Gap2a_derep1_swarm.fasta.swarminfo.cleaned_single.txt\""
   ]
  },
  {
   "cell_type": "code",
   "execution_count": null,
   "id": "f1b2985c-8a8c-4fa1-9ea9-cb338749e3bf",
   "metadata": {},
   "outputs": [],
   "source": [
    "function hclust_aln(m::Matrix{DNA},cut_distance=3,verbose=true)\n",
    "    D = pairwise(hamming,m, dims=1)\n",
    "    tr = hclust(D,:complete)\n",
    "    cut = cutree(tr,h=cut_distance)\n",
    "    return(cut)\n",
    "end\n",
    "    "
   ]
  },
  {
   "cell_type": "code",
   "execution_count": 6,
   "id": "43e9075e",
   "metadata": {
    "papermill": {
     "duration": 0.018056,
     "end_time": "2022-12-19T14:42:30.342525",
     "exception": false,
     "start_time": "2022-12-19T14:42:30.324469",
     "status": "completed"
    },
    "tags": [
     "injected-parameters"
    ]
   },
   "outputs": [
    {
     "name": "stderr",
     "output_type": "stream",
     "text": [
      "Reading aligment /mnt/raid/covid-phylogeny/audines11/rez/lineages/B.1.1.7/pair_id_Gap2a_derep1.fasta\n",
      "\n",
      "Parsed 61000 sequences \r"
     ]
    },
    {
     "data": {
      "text/plain": [
       "Alignment([\"Denmark/DCGC-72547/2021\", \"USA/UT-UPHL-210811214020/2021\", \"Canada/Qc-L00331960001/2021\", \"Denmark/DCGC-72146/2021\", \"Denmark/DCGC-72492/2021\", \"Japan/PG-34525/2021\", \"Denmark/DCGC-72539/2021\", \"Denmark/DCGC-73912/2021\", \"Lithuania/NMVRI76159/2021\", \"Denmark/DCGC-74028/2021\"  …  \"Wales/PHWC-PYYRU5/2021\", \"Wales/QEUH-131C636/2021\", \"Wales/QEUH-13278BA/2021\", \"Wales/RAND-12D6F89/2021\", \"Zambia/SP32/2021\", \"env/Austria/CeMM5659/2021\", \"env/Austria/CeMM5673/2021\", \"env/Austria/CeMM6146/2021\", \"otter/USA/GA-21-011485-007/2021\", \"romania/SV_SJU_36296/2021\"], DNA[DNA_G DNA_G … DNA_C DNA_T; DNA_G DNA_G … DNA_C DNA_T; … ; DNA_G DNA_G … DNA_C DNA_T; DNA_G DNA_G … DNA_C DNA_T], Int32[98597, 21858, 7221, 5395, 4822, 4747, 2917, 2875, 2741, 2575  …  1, 1, 1, 1, 1, 1, 1, 1, 1, 1], Dict{String, Int32}(\"England/QEUH-1345CAB/2021\" => 32015, \"France/ARA-HCL021063203301/2021\" => 34246, \"Netherlands/ZE-RIVM-26468/2021\" => 44861, \"Germany/SN-RKI-I-143744/2021\" => 38403, \"England/ALDP-133A113/2021\" => 27925, \"Norway/6118/2021\" => 45551, \"Croatia/1822/2021\" => 15724, \"Gabon/BB0238/2021\" => 35715, \"Germany/HH-RKI-I-097740/2021\" => 36750, \"Estonia/C113831/2021\" => 33558…))"
      ]
     },
     "execution_count": 6,
     "metadata": {},
     "output_type": "execute_result"
    }
   ],
   "source": [
    "aln = JuliaClusterAndTreeTools.Alignment(fasta)"
   ]
  },
  {
   "cell_type": "code",
   "execution_count": 9,
   "id": "f647f0c8-bf3b-483a-b3a5-1d01b77562e2",
   "metadata": {},
   "outputs": [
    {
     "data": {
      "text/html": [
       "<p><b>GroupedDataFrame with 1157 groups based on key: Cluster</b></p><div><div style = \"float: left;\"><span>First Group (3 rows): Cluster = &quot;Argentina/PAIS-A0549/2021&quot;</span></div><div style = \"clear: both;\"></div></div><div class = \"data-frame\" style = \"overflow-x: scroll;\"><table class = \"data-frame\" style = \"margin-bottom: 6px;\"><thead><tr class = \"header\"><th class = \"rowNumber\" style = \"font-weight: bold; text-align: right;\">Row</th><th style = \"text-align: left;\">Member</th><th style = \"text-align: left;\">Cluster</th></tr><tr class = \"subheader headerLastRow\"><th class = \"rowNumber\" style = \"font-weight: bold; text-align: right;\"></th><th title = \"String\" style = \"text-align: left;\">String</th><th title = \"String\" style = \"text-align: left;\">String</th></tr></thead><tbody><tr><td class = \"rowNumber\" style = \"font-weight: bold; text-align: right;\">1</td><td style = \"text-align: left;\">Argentina/PAIS-A0549/2021</td><td style = \"text-align: left;\">Argentina/PAIS-A0549/2021</td></tr><tr><td class = \"rowNumber\" style = \"font-weight: bold; text-align: right;\">2</td><td style = \"text-align: left;\">USA/FL-CDC-STM-000053295/2021</td><td style = \"text-align: left;\">Argentina/PAIS-A0549/2021</td></tr><tr><td class = \"rowNumber\" style = \"font-weight: bold; text-align: right;\">3</td><td style = \"text-align: left;\">USA/NJ-CDC-ASC210026528/2021</td><td style = \"text-align: left;\">Argentina/PAIS-A0549/2021</td></tr></tbody></table></div><p>&vellip;</p><div><div style = \"float: left;\"><span>Last Group (2 rows): Cluster = &quot;Wales/PHWC-PYYE99/2021&quot;</span></div><div style = \"clear: both;\"></div></div><div class = \"data-frame\" style = \"overflow-x: scroll;\"><table class = \"data-frame\" style = \"margin-bottom: 6px;\"><thead><tr class = \"header\"><th class = \"rowNumber\" style = \"font-weight: bold; text-align: right;\">Row</th><th style = \"text-align: left;\">Member</th><th style = \"text-align: left;\">Cluster</th></tr><tr class = \"subheader headerLastRow\"><th class = \"rowNumber\" style = \"font-weight: bold; text-align: right;\"></th><th title = \"String\" style = \"text-align: left;\">String</th><th title = \"String\" style = \"text-align: left;\">String</th></tr></thead><tbody><tr><td class = \"rowNumber\" style = \"font-weight: bold; text-align: right;\">1</td><td style = \"text-align: left;\">Wales/PHWC-PYYE99/2021</td><td style = \"text-align: left;\">Wales/PHWC-PYYE99/2021</td></tr><tr><td class = \"rowNumber\" style = \"font-weight: bold; text-align: right;\">2</td><td style = \"text-align: left;\">Wales/PHWC-4DE0CB/2021</td><td style = \"text-align: left;\">Wales/PHWC-PYYE99/2021</td></tr></tbody></table></div>"
      ],
      "text/latex": [
       "GroupedDataFrame with 1157 groups based on key: Cluster\n",
       "\n",
       "First Group (3 rows): Cluster = \"Argentina/PAIS-A0549/2021\"\n",
       "\n",
       "\\begin{tabular}{r|cc}\n",
       "\t& Member & Cluster\\\\\n",
       "\t\\hline\n",
       "\t& String & String\\\\\n",
       "\t\\hline\n",
       "\t1 & Argentina/PAIS-A0549/2021 & Argentina/PAIS-A0549/2021 \\\\\n",
       "\t2 & USA/FL-CDC-STM-000053295/2021 & Argentina/PAIS-A0549/2021 \\\\\n",
       "\t3 & USA/NJ-CDC-ASC210026528/2021 & Argentina/PAIS-A0549/2021 \\\\\n",
       "\\end{tabular}\n",
       "\n",
       "$\\dots$\n",
       "\n",
       "Last Group (2 rows): Cluster = \"Wales/PHWC-PYYE99/2021\"\n",
       "\n",
       "\\begin{tabular}{r|cc}\n",
       "\t& Member & Cluster\\\\\n",
       "\t\\hline\n",
       "\t& String & String\\\\\n",
       "\t\\hline\n",
       "\t1 & Wales/PHWC-PYYE99/2021 & Wales/PHWC-PYYE99/2021 \\\\\n",
       "\t2 & Wales/PHWC-4DE0CB/2021 & Wales/PHWC-PYYE99/2021 \\\\\n",
       "\\end{tabular}\n"
      ],
      "text/plain": [
       "GroupedDataFrame with 1157 groups based on key: Cluster\n",
       "First Group (3 rows): Cluster = \"Argentina/PAIS-A0549/2021\"\n",
       "\u001b[1m Row \u001b[0m│\u001b[1m Member                        \u001b[0m\u001b[1m Cluster                   \u001b[0m\n",
       "     │\u001b[90m String                        \u001b[0m\u001b[90m String                    \u001b[0m\n",
       "─────┼──────────────────────────────────────────────────────────\n",
       "   1 │ Argentina/PAIS-A0549/2021      Argentina/PAIS-A0549/2021\n",
       "   2 │ USA/FL-CDC-STM-000053295/2021  Argentina/PAIS-A0549/2021\n",
       "   3 │ USA/NJ-CDC-ASC210026528/2021   Argentina/PAIS-A0549/2021\n",
       "⋮\n",
       "Last Group (2 rows): Cluster = \"Wales/PHWC-PYYE99/2021\"\n",
       "\u001b[1m Row \u001b[0m│\u001b[1m Member                 \u001b[0m\u001b[1m Cluster                \u001b[0m\n",
       "     │\u001b[90m String                 \u001b[0m\u001b[90m String                 \u001b[0m\n",
       "─────┼────────────────────────────────────────────────\n",
       "   1 │ Wales/PHWC-PYYE99/2021  Wales/PHWC-PYYE99/2021\n",
       "   2 │ Wales/PHWC-4DE0CB/2021  Wales/PHWC-PYYE99/2021"
      ]
     },
     "execution_count": 9,
     "metadata": {},
     "output_type": "execute_result"
    }
   ],
   "source": [
    "clusters = DataFrame(CSV.File(swarm_clusters))\n",
    "clusters_grouped = groupby(clusters, :Cluster)"
   ]
  },
  {
   "cell_type": "code",
   "execution_count": 19,
   "id": "abd54505-3af4-4f60-a73d-d98cb3fa8e82",
   "metadata": {},
   "outputs": [
    {
     "data": {
      "text/html": [
       "<p><b>GroupedDataFrame with 2 groups based on key: Cluster</b></p><div><div style = \"float: left;\"><span>First Group (2289 rows): Cluster = &quot;Canada/Qc-L00331960001/2021&quot;</span></div><div style = \"float: right;\"><span style = \"font-style: italic;\">2264 rows omitted</span></div><div style = \"clear: both;\"></div></div><div class = \"data-frame\" style = \"overflow-x: scroll;\"><table class = \"data-frame\" style = \"margin-bottom: 6px;\"><thead><tr class = \"header\"><th class = \"rowNumber\" style = \"font-weight: bold; text-align: right;\">Row</th><th style = \"text-align: left;\">Member</th><th style = \"text-align: left;\">Cluster</th></tr><tr class = \"subheader headerLastRow\"><th class = \"rowNumber\" style = \"font-weight: bold; text-align: right;\"></th><th title = \"String\" style = \"text-align: left;\">String</th><th title = \"String\" style = \"text-align: left;\">String</th></tr></thead><tbody><tr><td class = \"rowNumber\" style = \"font-weight: bold; text-align: right;\">1</td><td style = \"text-align: left;\">Canada/Qc-L00331960001/2021</td><td style = \"text-align: left;\">Canada/Qc-L00331960001/2021</td></tr><tr><td class = \"rowNumber\" style = \"font-weight: bold; text-align: right;\">2</td><td style = \"text-align: left;\">USA/FL-CDC-STM-000056449/2021</td><td style = \"text-align: left;\">Canada/Qc-L00331960001/2021</td></tr><tr><td class = \"rowNumber\" style = \"font-weight: bold; text-align: right;\">3</td><td style = \"text-align: left;\">USA/AZ-CDC-STM-000057461/2021</td><td style = \"text-align: left;\">Canada/Qc-L00331960001/2021</td></tr><tr><td class = \"rowNumber\" style = \"font-weight: bold; text-align: right;\">4</td><td style = \"text-align: left;\">USA/MN-MDH-6345/2021</td><td style = \"text-align: left;\">Canada/Qc-L00331960001/2021</td></tr><tr><td class = \"rowNumber\" style = \"font-weight: bold; text-align: right;\">5</td><td style = \"text-align: left;\">USA/NY-P11E7/2021</td><td style = \"text-align: left;\">Canada/Qc-L00331960001/2021</td></tr><tr><td class = \"rowNumber\" style = \"font-weight: bold; text-align: right;\">6</td><td style = \"text-align: left;\">USA/PA-CDC-QDX24042180/2021</td><td style = \"text-align: left;\">Canada/Qc-L00331960001/2021</td></tr><tr><td class = \"rowNumber\" style = \"font-weight: bold; text-align: right;\">7</td><td style = \"text-align: left;\">USA/SC-DHEC-1592/2021</td><td style = \"text-align: left;\">Canada/Qc-L00331960001/2021</td></tr><tr><td class = \"rowNumber\" style = \"font-weight: bold; text-align: right;\">8</td><td style = \"text-align: left;\">USA/NY-Wadsworth-21046273-01/2021</td><td style = \"text-align: left;\">Canada/Qc-L00331960001/2021</td></tr><tr><td class = \"rowNumber\" style = \"font-weight: bold; text-align: right;\">9</td><td style = \"text-align: left;\">USA/KY-KSPHL-100525/2021</td><td style = \"text-align: left;\">Canada/Qc-L00331960001/2021</td></tr><tr><td class = \"rowNumber\" style = \"font-weight: bold; text-align: right;\">10</td><td style = \"text-align: left;\">USA/IL-S21WGS1275/2021</td><td style = \"text-align: left;\">Canada/Qc-L00331960001/2021</td></tr><tr><td class = \"rowNumber\" style = \"font-weight: bold; text-align: right;\">11</td><td style = \"text-align: left;\">USA/NY-P18H7/2021</td><td style = \"text-align: left;\">Canada/Qc-L00331960001/2021</td></tr><tr><td class = \"rowNumber\" style = \"font-weight: bold; text-align: right;\">12</td><td style = \"text-align: left;\">USA/PA-VSP2093/2021</td><td style = \"text-align: left;\">Canada/Qc-L00331960001/2021</td></tr><tr><td class = \"rowNumber\" style = \"font-weight: bold; text-align: right;\">13</td><td style = \"text-align: left;\">USA/MN-Mayo9618/2021</td><td style = \"text-align: left;\">Canada/Qc-L00331960001/2021</td></tr><tr><td style = \"text-align: right;\">&vellip;</td><td style = \"text-align: right;\">&vellip;</td><td style = \"text-align: right;\">&vellip;</td></tr><tr><td class = \"rowNumber\" style = \"font-weight: bold; text-align: right;\">2278</td><td style = \"text-align: left;\">USA/FL-CDC-ASC210022553/2021</td><td style = \"text-align: left;\">Canada/Qc-L00331960001/2021</td></tr><tr><td class = \"rowNumber\" style = \"font-weight: bold; text-align: right;\">2279</td><td style = \"text-align: left;\">USA/IL-CDC-LC0038664/2021</td><td style = \"text-align: left;\">Canada/Qc-L00331960001/2021</td></tr><tr><td class = \"rowNumber\" style = \"font-weight: bold; text-align: right;\">2280</td><td style = \"text-align: left;\">USA/FL-CDC-QDX23654894/2021</td><td style = \"text-align: left;\">Canada/Qc-L00331960001/2021</td></tr><tr><td class = \"rowNumber\" style = \"font-weight: bold; text-align: right;\">2281</td><td style = \"text-align: left;\">USA/OH-CDC-QDX24520314/2021</td><td style = \"text-align: left;\">Canada/Qc-L00331960001/2021</td></tr><tr><td class = \"rowNumber\" style = \"font-weight: bold; text-align: right;\">2282</td><td style = \"text-align: left;\">USA/PA-CDC-STM-000051469/2021</td><td style = \"text-align: left;\">Canada/Qc-L00331960001/2021</td></tr><tr><td class = \"rowNumber\" style = \"font-weight: bold; text-align: right;\">2283</td><td style = \"text-align: left;\">USA/PA-CDC-QDX23760603/2021</td><td style = \"text-align: left;\">Canada/Qc-L00331960001/2021</td></tr><tr><td class = \"rowNumber\" style = \"font-weight: bold; text-align: right;\">2284</td><td style = \"text-align: left;\">USA/FL-BPHL-0902/2021</td><td style = \"text-align: left;\">Canada/Qc-L00331960001/2021</td></tr><tr><td class = \"rowNumber\" style = \"font-weight: bold; text-align: right;\">2285</td><td style = \"text-align: left;\">USA/CA-LACPHL-AF01122/2021</td><td style = \"text-align: left;\">Canada/Qc-L00331960001/2021</td></tr><tr><td class = \"rowNumber\" style = \"font-weight: bold; text-align: right;\">2286</td><td style = \"text-align: left;\">USA/IL-S21WGS494/2021</td><td style = \"text-align: left;\">Canada/Qc-L00331960001/2021</td></tr><tr><td class = \"rowNumber\" style = \"font-weight: bold; text-align: right;\">2287</td><td style = \"text-align: left;\">USA/MI-CDC-STM-000067165/2021</td><td style = \"text-align: left;\">Canada/Qc-L00331960001/2021</td></tr><tr><td class = \"rowNumber\" style = \"font-weight: bold; text-align: right;\">2288</td><td style = \"text-align: left;\">USA/FL-CDC-STM-000054034/2021</td><td style = \"text-align: left;\">Canada/Qc-L00331960001/2021</td></tr><tr><td class = \"rowNumber\" style = \"font-weight: bold; text-align: right;\">2289</td><td style = \"text-align: left;\">USA/FL-BPHL-0714/2021</td><td style = \"text-align: left;\">Canada/Qc-L00331960001/2021</td></tr></tbody></table></div><p>&vellip;</p><div><div style = \"float: left;\"><span>Last Group (46745 rows): Cluster = &quot;Denmark/DCGC-72547/2021&quot;</span></div><div style = \"float: right;\"><span style = \"font-style: italic;\">46720 rows omitted</span></div><div style = \"clear: both;\"></div></div><div class = \"data-frame\" style = \"overflow-x: scroll;\"><table class = \"data-frame\" style = \"margin-bottom: 6px;\"><thead><tr class = \"header\"><th class = \"rowNumber\" style = \"font-weight: bold; text-align: right;\">Row</th><th style = \"text-align: left;\">Member</th><th style = \"text-align: left;\">Cluster</th></tr><tr class = \"subheader headerLastRow\"><th class = \"rowNumber\" style = \"font-weight: bold; text-align: right;\"></th><th title = \"String\" style = \"text-align: left;\">String</th><th title = \"String\" style = \"text-align: left;\">String</th></tr></thead><tbody><tr><td class = \"rowNumber\" style = \"font-weight: bold; text-align: right;\">1</td><td style = \"text-align: left;\">Denmark/DCGC-72547/2021</td><td style = \"text-align: left;\">Denmark/DCGC-72547/2021</td></tr><tr><td class = \"rowNumber\" style = \"font-weight: bold; text-align: right;\">2</td><td style = \"text-align: left;\">USA/UT-UPHL-210811214020/2021</td><td style = \"text-align: left;\">Denmark/DCGC-72547/2021</td></tr><tr><td class = \"rowNumber\" style = \"font-weight: bold; text-align: right;\">3</td><td style = \"text-align: left;\">Denmark/DCGC-72146/2021</td><td style = \"text-align: left;\">Denmark/DCGC-72547/2021</td></tr><tr><td class = \"rowNumber\" style = \"font-weight: bold; text-align: right;\">4</td><td style = \"text-align: left;\">Denmark/DCGC-72492/2021</td><td style = \"text-align: left;\">Denmark/DCGC-72547/2021</td></tr><tr><td class = \"rowNumber\" style = \"font-weight: bold; text-align: right;\">5</td><td style = \"text-align: left;\">Japan/PG-34525/2021</td><td style = \"text-align: left;\">Denmark/DCGC-72547/2021</td></tr><tr><td class = \"rowNumber\" style = \"font-weight: bold; text-align: right;\">6</td><td style = \"text-align: left;\">Denmark/DCGC-72539/2021</td><td style = \"text-align: left;\">Denmark/DCGC-72547/2021</td></tr><tr><td class = \"rowNumber\" style = \"font-weight: bold; text-align: right;\">7</td><td style = \"text-align: left;\">Denmark/DCGC-73912/2021</td><td style = \"text-align: left;\">Denmark/DCGC-72547/2021</td></tr><tr><td class = \"rowNumber\" style = \"font-weight: bold; text-align: right;\">8</td><td style = \"text-align: left;\">Lithuania/NMVRI76159/2021</td><td style = \"text-align: left;\">Denmark/DCGC-72547/2021</td></tr><tr><td class = \"rowNumber\" style = \"font-weight: bold; text-align: right;\">9</td><td style = \"text-align: left;\">Denmark/DCGC-74028/2021</td><td style = \"text-align: left;\">Denmark/DCGC-72547/2021</td></tr><tr><td class = \"rowNumber\" style = \"font-weight: bold; text-align: right;\">10</td><td style = \"text-align: left;\">Canada/QC-L00348430001A/2021</td><td style = \"text-align: left;\">Denmark/DCGC-72547/2021</td></tr><tr><td class = \"rowNumber\" style = \"font-weight: bold; text-align: right;\">11</td><td style = \"text-align: left;\">Denmark/DCGC-74460/2021</td><td style = \"text-align: left;\">Denmark/DCGC-72547/2021</td></tr><tr><td class = \"rowNumber\" style = \"font-weight: bold; text-align: right;\">12</td><td style = \"text-align: left;\">Germany/RP-RKI-I-021112/2021</td><td style = \"text-align: left;\">Denmark/DCGC-72547/2021</td></tr><tr><td class = \"rowNumber\" style = \"font-weight: bold; text-align: right;\">13</td><td style = \"text-align: left;\">Denmark/DCGC-71150/2021</td><td style = \"text-align: left;\">Denmark/DCGC-72547/2021</td></tr><tr><td style = \"text-align: right;\">&vellip;</td><td style = \"text-align: right;\">&vellip;</td><td style = \"text-align: right;\">&vellip;</td></tr><tr><td class = \"rowNumber\" style = \"font-weight: bold; text-align: right;\">46734</td><td style = \"text-align: left;\">England/CAMC-1253528/2021</td><td style = \"text-align: left;\">Denmark/DCGC-72547/2021</td></tr><tr><td class = \"rowNumber\" style = \"font-weight: bold; text-align: right;\">46735</td><td style = \"text-align: left;\">England/MILK-12CC232/2021</td><td style = \"text-align: left;\">Denmark/DCGC-72547/2021</td></tr><tr><td class = \"rowNumber\" style = \"font-weight: bold; text-align: right;\">46736</td><td style = \"text-align: left;\">USA/NY-P7H9/2021</td><td style = \"text-align: left;\">Denmark/DCGC-72547/2021</td></tr><tr><td class = \"rowNumber\" style = \"font-weight: bold; text-align: right;\">46737</td><td style = \"text-align: left;\">USA/NJ-CDC-LC0026792/2021</td><td style = \"text-align: left;\">Denmark/DCGC-72547/2021</td></tr><tr><td class = \"rowNumber\" style = \"font-weight: bold; text-align: right;\">46738</td><td style = \"text-align: left;\">USA/NY-PRL-2021_03_03_00G22/2021</td><td style = \"text-align: left;\">Denmark/DCGC-72547/2021</td></tr><tr><td class = \"rowNumber\" style = \"font-weight: bold; text-align: right;\">46739</td><td style = \"text-align: left;\">USA/MI-UM-10039401354/2021</td><td style = \"text-align: left;\">Denmark/DCGC-72547/2021</td></tr><tr><td class = \"rowNumber\" style = \"font-weight: bold; text-align: right;\">46740</td><td style = \"text-align: left;\">USA/PA-CDC-STM-000056237/2021</td><td style = \"text-align: left;\">Denmark/DCGC-72547/2021</td></tr><tr><td class = \"rowNumber\" style = \"font-weight: bold; text-align: right;\">46741</td><td style = \"text-align: left;\">USA/TX-CDC-STM-000066607/2021</td><td style = \"text-align: left;\">Denmark/DCGC-72547/2021</td></tr><tr><td class = \"rowNumber\" style = \"font-weight: bold; text-align: right;\">46742</td><td style = \"text-align: left;\">USA/VA-DCLS-4515/2021</td><td style = \"text-align: left;\">Denmark/DCGC-72547/2021</td></tr><tr><td class = \"rowNumber\" style = \"font-weight: bold; text-align: right;\">46743</td><td style = \"text-align: left;\">Belgium/ULG-12360/2021</td><td style = \"text-align: left;\">Denmark/DCGC-72547/2021</td></tr><tr><td class = \"rowNumber\" style = \"font-weight: bold; text-align: right;\">46744</td><td style = \"text-align: left;\">Ghana/WACCBIP-GS681/2021</td><td style = \"text-align: left;\">Denmark/DCGC-72547/2021</td></tr><tr><td class = \"rowNumber\" style = \"font-weight: bold; text-align: right;\">46745</td><td style = \"text-align: left;\">Austria/CeMM8415/2021</td><td style = \"text-align: left;\">Denmark/DCGC-72547/2021</td></tr></tbody></table></div>"
      ],
      "text/latex": [
       "GroupedDataFrame with 2 groups based on key: Cluster\n",
       "\n",
       "First Group (2289 rows): Cluster = \"Canada/Qc-L00331960001/2021\"\n",
       "\n",
       "\\begin{tabular}{r|cc}\n",
       "\t& Member & Cluster\\\\\n",
       "\t\\hline\n",
       "\t& String & String\\\\\n",
       "\t\\hline\n",
       "\t1 & Canada/Qc-L00331960001/2021 & Canada/Qc-L00331960001/2021 \\\\\n",
       "\t2 & USA/FL-CDC-STM-000056449/2021 & Canada/Qc-L00331960001/2021 \\\\\n",
       "\t3 & USA/AZ-CDC-STM-000057461/2021 & Canada/Qc-L00331960001/2021 \\\\\n",
       "\t4 & USA/MN-MDH-6345/2021 & Canada/Qc-L00331960001/2021 \\\\\n",
       "\t5 & USA/NY-P11E7/2021 & Canada/Qc-L00331960001/2021 \\\\\n",
       "\t6 & USA/PA-CDC-QDX24042180/2021 & Canada/Qc-L00331960001/2021 \\\\\n",
       "\t7 & USA/SC-DHEC-1592/2021 & Canada/Qc-L00331960001/2021 \\\\\n",
       "\t8 & USA/NY-Wadsworth-21046273-01/2021 & Canada/Qc-L00331960001/2021 \\\\\n",
       "\t9 & USA/KY-KSPHL-100525/2021 & Canada/Qc-L00331960001/2021 \\\\\n",
       "\t10 & USA/IL-S21WGS1275/2021 & Canada/Qc-L00331960001/2021 \\\\\n",
       "\t11 & USA/NY-P18H7/2021 & Canada/Qc-L00331960001/2021 \\\\\n",
       "\t12 & USA/PA-VSP2093/2021 & Canada/Qc-L00331960001/2021 \\\\\n",
       "\t13 & USA/MN-Mayo9618/2021 & Canada/Qc-L00331960001/2021 \\\\\n",
       "\t14 & USA/NC-UNCC-000536/2021 & Canada/Qc-L00331960001/2021 \\\\\n",
       "\t15 & USA/MN-CDC-ASC210069554/2021 & Canada/Qc-L00331960001/2021 \\\\\n",
       "\t16 & USA/FL-CDC-STM-000057173/2021 & Canada/Qc-L00331960001/2021 \\\\\n",
       "\t17 & USA/MN-1107/2021 & Canada/Qc-L00331960001/2021 \\\\\n",
       "\t18 & USA/TX-HHD-758236-04/2021 & Canada/Qc-L00331960001/2021 \\\\\n",
       "\t19 & USA/NY-P17D4/2021 & Canada/Qc-L00331960001/2021 \\\\\n",
       "\t20 & USA/IL-CDC-ASC210069383/2021 & Canada/Qc-L00331960001/2021 \\\\\n",
       "\t21 & USA/NJ-CDC-2-4282815/2021 & Canada/Qc-L00331960001/2021 \\\\\n",
       "\t22 & USA/MI-MDHHS-SC27462/2021 & Canada/Qc-L00331960001/2021 \\\\\n",
       "\t23 & USA/IL-CDC-ASC210055480/2021 & Canada/Qc-L00331960001/2021 \\\\\n",
       "\t24 & USA/MA-CDCBI-CRSP\\_EOIFT2JYHFOBDB2F/2021 & Canada/Qc-L00331960001/2021 \\\\\n",
       "\t25 & USA/NY-NYGC-2451-VTM2-JBGY852/2021 & Canada/Qc-L00331960001/2021 \\\\\n",
       "\t26 & USA/NY-P17G11/2021 & Canada/Qc-L00331960001/2021 \\\\\n",
       "\t27 & USA/TX-HHD-771528-04/2021 & Canada/Qc-L00331960001/2021 \\\\\n",
       "\t28 & USA/NJ-CDC-LC0051205/2021 & Canada/Qc-L00331960001/2021 \\\\\n",
       "\t29 & USA/OR-CDC-LC0052872/2021 & Canada/Qc-L00331960001/2021 \\\\\n",
       "\t30 & USA/MN-CDC-IBX640855704526/2021 & Canada/Qc-L00331960001/2021 \\\\\n",
       "\t$\\dots$ & $\\dots$ & $\\dots$ \\\\\n",
       "\\end{tabular}\n",
       "\n",
       "$\\dots$\n",
       "\n",
       "Last Group (46745 rows): Cluster = \"Denmark/DCGC-72547/2021\"\n",
       "\n",
       "\\begin{tabular}{r|cc}\n",
       "\t& Member & Cluster\\\\\n",
       "\t\\hline\n",
       "\t& String & String\\\\\n",
       "\t\\hline\n",
       "\t1 & Denmark/DCGC-72547/2021 & Denmark/DCGC-72547/2021 \\\\\n",
       "\t2 & USA/UT-UPHL-210811214020/2021 & Denmark/DCGC-72547/2021 \\\\\n",
       "\t3 & Denmark/DCGC-72146/2021 & Denmark/DCGC-72547/2021 \\\\\n",
       "\t4 & Denmark/DCGC-72492/2021 & Denmark/DCGC-72547/2021 \\\\\n",
       "\t5 & Japan/PG-34525/2021 & Denmark/DCGC-72547/2021 \\\\\n",
       "\t6 & Denmark/DCGC-72539/2021 & Denmark/DCGC-72547/2021 \\\\\n",
       "\t7 & Denmark/DCGC-73912/2021 & Denmark/DCGC-72547/2021 \\\\\n",
       "\t8 & Lithuania/NMVRI76159/2021 & Denmark/DCGC-72547/2021 \\\\\n",
       "\t9 & Denmark/DCGC-74028/2021 & Denmark/DCGC-72547/2021 \\\\\n",
       "\t10 & Canada/QC-L00348430001A/2021 & Denmark/DCGC-72547/2021 \\\\\n",
       "\t11 & Denmark/DCGC-74460/2021 & Denmark/DCGC-72547/2021 \\\\\n",
       "\t12 & Germany/RP-RKI-I-021112/2021 & Denmark/DCGC-72547/2021 \\\\\n",
       "\t13 & Denmark/DCGC-71150/2021 & Denmark/DCGC-72547/2021 \\\\\n",
       "\t14 & Denmark/DCGC-70922/2021 & Denmark/DCGC-72547/2021 \\\\\n",
       "\t15 & Denmark/DCGC-78607/2021 & Denmark/DCGC-72547/2021 \\\\\n",
       "\t16 & Spain/CT-HUGTiPM013OD1E7/2021 & Denmark/DCGC-72547/2021 \\\\\n",
       "\t17 & Finland/THL-202114008/2021 & Denmark/DCGC-72547/2021 \\\\\n",
       "\t18 & Denmark/DCGC-70721/2021 & Denmark/DCGC-72547/2021 \\\\\n",
       "\t19 & England/ALDP-1304C7B/2021 & Denmark/DCGC-72547/2021 \\\\\n",
       "\t20 & Japan/PG-36697/2021 & Denmark/DCGC-72547/2021 \\\\\n",
       "\t21 & Spain/CT-HUGTiPM013OD1G4/2021 & Denmark/DCGC-72547/2021 \\\\\n",
       "\t22 & Ireland/WH-NVRL-89IRL30300/2021 & Denmark/DCGC-72547/2021 \\\\\n",
       "\t23 & Denmark/DCGC-72556/2021 & Denmark/DCGC-72547/2021 \\\\\n",
       "\t24 & Denmark/DCGC-73227/2021 & Denmark/DCGC-72547/2021 \\\\\n",
       "\t25 & England/MILK-1542608/2021 & Denmark/DCGC-72547/2021 \\\\\n",
       "\t26 & Germany/HH-RKI-I-107649/2021 & Denmark/DCGC-72547/2021 \\\\\n",
       "\t27 & Denmark/DCGC-73686/2021 & Denmark/DCGC-72547/2021 \\\\\n",
       "\t28 & Germany/un-RKI-I-108262/2021 & Denmark/DCGC-72547/2021 \\\\\n",
       "\t29 & USA/MA-UMASSMED-P021C5/2021 & Denmark/DCGC-72547/2021 \\\\\n",
       "\t30 & Sweden/15258442P/2021 & Denmark/DCGC-72547/2021 \\\\\n",
       "\t$\\dots$ & $\\dots$ & $\\dots$ \\\\\n",
       "\\end{tabular}\n"
      ],
      "text/plain": [
       "GroupedDataFrame with 2 groups based on key: Cluster\n",
       "First Group (2289 rows): Cluster = \"Canada/Qc-L00331960001/2021\"\n",
       "\u001b[1m  Row \u001b[0m│\u001b[1m Member                        \u001b[0m\u001b[1m Cluster                     \u001b[0m\n",
       "      │\u001b[90m String                        \u001b[0m\u001b[90m String                      \u001b[0m\n",
       "──────┼────────────────────────────────────────────────────────────\n",
       "    1 │ Canada/Qc-L00331960001/2021    Canada/Qc-L00331960001/2021\n",
       "    2 │ USA/FL-CDC-STM-000056449/2021  Canada/Qc-L00331960001/2021\n",
       "    3 │ USA/AZ-CDC-STM-000057461/2021  Canada/Qc-L00331960001/2021\n",
       "    4 │ USA/MN-MDH-6345/2021           Canada/Qc-L00331960001/2021\n",
       "  ⋮   │               ⋮                             ⋮\n",
       " 2287 │ USA/MI-CDC-STM-000067165/2021  Canada/Qc-L00331960001/2021\n",
       " 2288 │ USA/FL-CDC-STM-000054034/2021  Canada/Qc-L00331960001/2021\n",
       " 2289 │ USA/FL-BPHL-0714/2021          Canada/Qc-L00331960001/2021\n",
       "\u001b[36m                                                  2282 rows omitted\u001b[0m\n",
       "⋮\n",
       "Last Group (46745 rows): Cluster = \"Denmark/DCGC-72547/2021\"\n",
       "\u001b[1m   Row \u001b[0m│\u001b[1m Member                        \u001b[0m\u001b[1m Cluster                 \u001b[0m\n",
       "       │\u001b[90m String                        \u001b[0m\u001b[90m String                  \u001b[0m\n",
       "───────┼────────────────────────────────────────────────────────\n",
       "     1 │ Denmark/DCGC-72547/2021        Denmark/DCGC-72547/2021\n",
       "     2 │ USA/UT-UPHL-210811214020/2021  Denmark/DCGC-72547/2021\n",
       "     3 │ Denmark/DCGC-72146/2021        Denmark/DCGC-72547/2021\n",
       "   ⋮   │               ⋮                           ⋮\n",
       " 46743 │ Belgium/ULG-12360/2021         Denmark/DCGC-72547/2021\n",
       " 46744 │ Ghana/WACCBIP-GS681/2021       Denmark/DCGC-72547/2021\n",
       " 46745 │ Austria/CeMM8415/2021          Denmark/DCGC-72547/2021\n",
       "\u001b[36m                                              46739 rows omitted\u001b[0m"
      ]
     },
     "execution_count": 19,
     "metadata": {},
     "output_type": "execute_result"
    }
   ],
   "source": [
    "clusters_grouped_big = filter(x -> length(x.Member) > 1000, clusters_grouped)[1:2]"
   ]
  },
  {
   "cell_type": "code",
   "execution_count": 17,
   "id": "5347d9ae-8e09-44b8-bf03-598dec1d08d1",
   "metadata": {},
   "outputs": [
    {
     "data": {
      "text/plain": [
       "(2289, 2)"
      ]
     },
     "execution_count": 17,
     "metadata": {},
     "output_type": "execute_result"
    }
   ],
   "source": [
    "size(clusters_grouped_big)"
   ]
  },
  {
   "cell_type": "code",
   "execution_count": 21,
   "id": "5af074ec-45a5-4325-b539-290d6c84ceee",
   "metadata": {},
   "outputs": [
    {
     "name": "stdout",
     "output_type": "stream",
     "text": [
      "Canada/Qc-L00331960001/2021\n"
     ]
    }
   ],
   "source": [
    "ct =0 \n",
    "for group in collect(SubDataFrame, clusters_grouped_big)\n",
    "    ct += 1\n",
    "    names = group.Member\n",
    "    aln_cluster = JuliaClusterAndTreeTools.sub_alignment()\n",
    "    if ct > 0\n",
    "        break\n",
    "    end\n",
    "end"
   ]
  },
  {
   "cell_type": "code",
   "execution_count": null,
   "id": "8c713864-d2f4-4b51-a3a0-53ef6b3e9a92",
   "metadata": {},
   "outputs": [],
   "source": [
    "\n",
    "names = collect(clusters_grouped_big[1].Member)\n",
    "print(aln.name_sequence_map[names[1]])\n",
    "print(\"\")\n",
    "\n",
    "\n",
    "n = length(names)\n",
    "D = Array{Int64,2}(undef,n,n)\n",
    "ct = 0\n",
    "print(ct)\n",
    "for i in 1:n\n",
    "    for j in  i:n\n",
    "        ct += 1\n",
    "        idxi = aln.name_sequence_map[names[i]]\n",
    "        idxj = aln.name_sequence_map[names[j]]\n",
    "        si = aln.M[idxi,:]\n",
    "        sj = aln.M[idxj,:]\n",
    "        d = hamming(si,sj)\n",
    "        D[i,j]=d\n",
    "        \n",
    "    end\n",
    "    println(\"Done \", ct/(n*n/2),\"\\r\")\n",
    "end\n",
    "tr = hclust(D,:complete,:U)\n",
    "cut = cutree(tr,h=3)\n",
    "print(cut)\n"
   ]
  }
 ],
 "metadata": {
  "kernelspec": {
   "display_name": "Julia 1.8.3",
   "language": "julia",
   "name": "julia-1.8"
  },
  "language_info": {
   "file_extension": ".jl",
   "mimetype": "application/julia",
   "name": "julia",
   "version": "1.8.3"
  },
  "papermill": {
   "default_parameters": {},
   "duration": 42.675655,
   "end_time": "2022-12-19T14:42:55.324600",
   "environment_variables": {},
   "exception": null,
   "input_path": "scripts/julia_modules/JuliaClusterAndTreeTools/notebooks/test_aln.ipynb",
   "output_path": "scripts/julia_modules/JuliaClusterAndTreeTools/notebooks/test_aln_parsed.ipynb",
   "parameters": {
    "in_file_name": "/mnt/raid/covid-phylogeny/audines11/rez/lineages/BA.2/alignment_nextclade_1000.fasta.gz",
    "output_file_name": "/mnt/raid/covid-phylogeny/audines11/rez/lineages/BA.2/alignment_nextclade_filteredsmall.fasta.gz"
   },
   "start_time": "2022-12-19T14:42:12.648945",
   "version": "2.4.0"
  }
 },
 "nbformat": 4,
 "nbformat_minor": 5
}
