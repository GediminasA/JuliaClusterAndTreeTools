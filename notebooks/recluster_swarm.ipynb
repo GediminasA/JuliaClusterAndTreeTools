{
 "cells": [
  {
   "cell_type": "code",
   "execution_count": 1,
   "id": "881dba9a-ec09-4b60-bdea-e926b7db13c0",
   "metadata": {
    "papermill": {
     "duration": 11.321659,
     "end_time": "2022-12-19T14:42:27.184073",
     "exception": false,
     "start_time": "2022-12-19T14:42:15.862414",
     "status": "completed"
    },
    "tags": []
   },
   "outputs": [
    {
     "name": "stderr",
     "output_type": "stream",
     "text": [
      "\u001b[32m\u001b[1m  Activating\u001b[22m\u001b[39m project at `~/JuliaClusterAndTreeTools`\n",
      "┌ Warning: RCall.jl: \n",
      "│ Attaching package: ‘dplyr’\n",
      "│ \n",
      "│ The following objects are masked from ‘package:stats’:\n",
      "│ \n",
      "│     filter, lag\n",
      "│ \n",
      "│ The following objects are masked from ‘package:base’:\n",
      "│ \n",
      "│     intersect, setdiff, setequal, union\n",
      "│ \n",
      "└ @ RCall /home/galzbutas/.julia/packages/RCall/Wyd74/src/io.jl:172\n",
      "┌ Warning: RCall.jl: \n",
      "│ Attaching package: ‘data.table’\n",
      "│ \n",
      "│ The following objects are masked from ‘package:dplyr’:\n",
      "│ \n",
      "│     between, first, last\n",
      "│ \n",
      "└ @ RCall /home/galzbutas/.julia/packages/RCall/Wyd74/src/io.jl:172\n"
     ]
    },
    {
     "data": {
      "text/plain": [
       "RObject{StrSxp}\n",
       " [1] \"data.table\" \"dplyr\"      \"ggplot2\"    \"stats\"      \"graphics\"  \n",
       " [6] \"grDevices\"  \"utils\"      \"datasets\"   \"methods\"    \"base\"      \n"
      ]
     },
     "execution_count": 1,
     "metadata": {},
     "output_type": "execute_result"
    }
   ],
   "source": [
    "using Pkg\n",
    "using Revise\n",
    "Pkg.activate(\"..\")\n",
    "using JuliaClusterAndTreeTools\n",
    "using Statistics\n",
    "using Pkg\n",
    "using RCall\n",
    "using DataFrames\n",
    "using StatsBase\n",
    "using Distances\n",
    "using CSV\n",
    "using BioSymbols\n",
    "using Clustering\n",
    "R\"\"\"\n",
    "library(ggplot2)\n",
    "library(dplyr)\n",
    "library(data.table)\n",
    "\n",
    "\"\"\"\n",
    "\n"
   ]
  },
  {
   "cell_type": "code",
   "execution_count": 2,
   "id": "aa816971-47e0-4e86-b872-19f1afc96c56",
   "metadata": {
    "papermill": {
     "duration": 3.131468,
     "end_time": "2022-12-19T14:42:30.320061",
     "exception": false,
     "start_time": "2022-12-19T14:42:27.188593",
     "status": "completed"
    },
    "tags": [
     "parameters"
    ]
   },
   "outputs": [
    {
     "data": {
      "text/plain": [
       "\"../test/playdata/set4clustering_swarm_cluster.fasta\""
      ]
     },
     "execution_count": 2,
     "metadata": {},
     "output_type": "execute_result"
    }
   ],
   "source": [
    "fastafile = \"../test/playdata/set4clustering_swarm_cluster.fasta\""
   ]
  },
  {
   "cell_type": "code",
   "execution_count": 3,
   "id": "43e9075e",
   "metadata": {
    "papermill": {
     "duration": 0.018056,
     "end_time": "2022-12-19T14:42:30.342525",
     "exception": false,
     "start_time": "2022-12-19T14:42:30.324469",
     "status": "completed"
    },
    "tags": [
     "injected-parameters"
    ]
   },
   "outputs": [
    {
     "name": "stderr",
     "output_type": "stream",
     "text": [
      "Reading aligment ../test/playdata/set4clustering_swarm_cluster.fasta\n",
      "\n",
      "Parsed 2000 sequences \r"
     ]
    },
    {
     "data": {
      "text/plain": [
       "Alignment([\"England/PHEC-YYD6CWM/2022\", \"Canada/BC-BCCDC-397740/2022\", \"Denmark/DCGC-367899/2022\", \"Denmark/DCGC-456368/2022\", \"Denmark/DCGC-457050/2022\", \"Denmark/DCGC-458589/2022\", \"Denmark/DCGC-459973/2022\", \"Denmark/DCGC-460645/2022\", \"Denmark/DCGC-460676/2022\", \"Denmark/DCGC-463361/2022\"  …  \"USA/VA-CDC-QDX35092910/2022\", \"USA/WA-CDC-UW22031476887/2022\", \"USA/WI-CDC-ASC210720895/2022\", \"Wales/PHWC-PE97PE/2022\", \"Wales/PHWC-PESQ5C/2022\", \"Wales/PHWC-PJIYMH/2022\", \"Wales/PHWC-PJK6A4/2022\", \"Wales/PHWC-PJQ7KO/2022\", \"Wales/PHWC-PJQTOX/2022\", \"Wales/PHWC-PJUFJ9/2022\"], DNA[DNA_T DNA_A … DNA_G DNA_T; DNA_T DNA_A … DNA_G DNA_T; … ; DNA_T DNA_A … DNA_G DNA_T; DNA_T DNA_A … DNA_G DNA_T], Int32[27, 9, 9, 9, 9, 9, 9, 9, 9, 9  …  2, 2, 2, 2, 2, 2, 2, 2, 2, 2], Dict{String, Int32}(\"England/LSPA-3BB0E5C/2022\" => 1613, \"Denmark/DCGC-440613/2022\" => 817, \"Scotland/QEUH-3C731E2/2022\" => 658, \"Denmark/DCGC-473582/2022\" => 871, \"England/LSPA-3C8FBC7/2022\" => 272, \"Denmark/DCGC-351454/2022\" => 737, \"Wales/PHWC-PE97PE/2022\" => 1996, \"England/QEUH-3973437/2022\" => 291, \"England/ALDP-39332EE/2022\" => 884, \"England/MILK-37ABCA9/2022\" => 1044…))"
      ]
     },
     "execution_count": 3,
     "metadata": {},
     "output_type": "execute_result"
    }
   ],
   "source": [
    "aln = JuliaClusterAndTreeTools.Alignment(fastafile)\n",
    "aln"
   ]
  },
  {
   "cell_type": "code",
   "execution_count": 11,
   "id": "f647f0c8-bf3b-483a-b3a5-1d01b77562e2",
   "metadata": {},
   "outputs": [
    {
     "name": "stdout",
     "output_type": "stream",
     "text": [
      "2002\n",
      "1976\n"
     ]
    }
   ],
   "source": [
    "function hclust_aln(m::Matrix{DNA},cut_distance=3,verbose=true)\n",
    "    D = pairwise(hamming,m, dims=1)\n",
    "    tr = hclust(D,:complete)\n",
    "    cut = cutree(tr,h=cut_distance)\n",
    "    return(cut)\n",
    "end\n",
    "    "
   ]
  }
 ],
 "metadata": {
  "kernelspec": {
   "display_name": "Julia 1.8.3",
   "language": "julia",
   "name": "julia-1.8"
  },
  "language_info": {
   "file_extension": ".jl",
   "mimetype": "application/julia",
   "name": "julia",
   "version": "1.8.3"
  },
  "papermill": {
   "default_parameters": {},
   "duration": 42.675655,
   "end_time": "2022-12-19T14:42:55.324600",
   "environment_variables": {},
   "exception": null,
   "input_path": "scripts/julia_modules/JuliaClusterAndTreeTools/notebooks/test_aln.ipynb",
   "output_path": "scripts/julia_modules/JuliaClusterAndTreeTools/notebooks/test_aln_parsed.ipynb",
   "parameters": {
    "in_file_name": "/mnt/raid/covid-phylogeny/audines11/rez/lineages/BA.2/alignment_nextclade_1000.fasta.gz",
    "output_file_name": "/mnt/raid/covid-phylogeny/audines11/rez/lineages/BA.2/alignment_nextclade_filteredsmall.fasta.gz"
   },
   "start_time": "2022-12-19T14:42:12.648945",
   "version": "2.4.0"
  }
 },
 "nbformat": 4,
 "nbformat_minor": 5
}
