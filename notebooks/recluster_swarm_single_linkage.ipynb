{
 "cells": [
  {
   "cell_type": "code",
   "execution_count": 1,
   "id": "881dba9a-ec09-4b60-bdea-e926b7db13c0",
   "metadata": {},
   "outputs": [
    {
     "name": "stderr",
     "output_type": "stream",
     "text": [
      "\u001b[32m\u001b[1m  Activating\u001b[22m\u001b[39m project at `/mnt/raid/covid-phylogeny/scripts/julia_modules/JuliaClusterAndTreeTools`\n",
      "┌ Warning: RCall.jl: Loading required package: MASS\n",
      "│ Loading required package: survival\n",
      "└ @ RCall /home/user1/.julia/packages/RCall/Wyd74/src/io.jl:172\n",
      "┌ Warning: RCall.jl: \n",
      "│ Attaching package: ‘patchwork’\n",
      "│ \n",
      "│ The following object is masked from ‘package:MASS’:\n",
      "│ \n",
      "│     area\n",
      "│ \n",
      "└ @ RCall /home/user1/.julia/packages/RCall/Wyd74/src/io.jl:172\n"
     ]
    },
    {
     "data": {
      "text/plain": [
       "RObject{StrSxp}\n",
       " [1] \"data.table\"   \"patchwork\"    \"fitdistrplus\" \"survival\"     \"MASS\"        \n",
       " [6] \"ggplot2\"      \"stats\"        \"graphics\"     \"grDevices\"    \"utils\"       \n",
       "[11] \"datasets\"     \"methods\"      \"base\"        \n"
      ]
     },
     "execution_count": 1,
     "metadata": {},
     "output_type": "execute_result"
    }
   ],
   "source": [
    "using Pkg\n",
    "using Revise\n",
    "Pkg.activate(\"/mnt/raid/covid-phylogeny/scripts/julia_modules/JuliaClusterAndTreeTools\")\n",
    "using JuliaClusterAndTreeTools\n",
    "using Statistics\n",
    "using Pkg\n",
    "using RCall\n",
    "using DataFrames\n",
    "using StatsBase\n",
    "using CSV\n",
    "using FASTX\n",
    "using CodecZlib\n",
    "R\"\"\"\n",
    "library(ggplot2)\n",
    "library(fitdistrplus)\n",
    "library(patchwork)\n",
    "library(fitdistrplus)\n",
    "library(data.table)\n",
    "\n",
    "\"\"\"\n",
    "\n"
   ]
  },
  {
   "cell_type": "code",
   "execution_count": 3,
   "id": "aa816971-47e0-4e86-b872-19f1afc96c56",
   "metadata": {
    "tags": [
     "parameters"
    ]
   },
   "outputs": [
    {
     "data": {
      "text/plain": [
       "\"/mnt/raid/covid-phylogeny/audines11/rez/lineages/B.1.1.7/pair_id_Gap2a_derep1_swarm.fasta.swarminfo.cleaned_single.txt\""
      ]
     },
     "execution_count": 3,
     "metadata": {},
     "output_type": "execute_result"
    }
   ],
   "source": [
    "swarm_clusters = \"/mnt/raid/covid-phylogeny/audines11/rez/lineages/B.1.1.7/pair_id_Gap2a_derep1_swarm.fasta.swarminfo.cleaned.txt\"\n",
    "fasta = \"/mnt/raid/covid-phylogeny/audines11/rez/lineages/B.1.1.7/pair_id_Gap2a_derep1.fasta\"\n",
    "cleaned_output = \"/mnt/raid/covid-phylogeny/audines11/rez/lineages/B.1.1.7/pair_id_Gap2a_derep1_swarm.fasta.swarminfo.cleaned_single.txt\""
   ]
  },
  {
   "cell_type": "code",
   "execution_count": 4,
   "id": "54c3231a-b9bf-4303-a85a-ce50b0d6604a",
   "metadata": {},
   "outputs": [
    {
     "name": "stderr",
     "output_type": "stream",
     "text": [
      "Reading aligment /mnt/raid/covid-phylogeny/audines11/rez/lineages/B.1.1.7/pair_id_Gap2a_derep1.fasta\n",
      "\n",
      "Parsed 61000 sequences \r"
     ]
    },
    {
     "data": {
      "text/plain": [
       "Alignment([\"Denmark/DCGC-72547/2021\", \"USA/UT-UPHL-210811214020/2021\", \"Canada/Qc-L00331960001/2021\", \"Denmark/DCGC-72146/2021\", \"Denmark/DCGC-72492/2021\", \"Japan/PG-34525/2021\", \"Denmark/DCGC-72539/2021\", \"Denmark/DCGC-73912/2021\", \"Lithuania/NMVRI76159/2021\", \"Denmark/DCGC-74028/2021\"  …  \"Wales/PHWC-PYYRU5/2021\", \"Wales/QEUH-131C636/2021\", \"Wales/QEUH-13278BA/2021\", \"Wales/RAND-12D6F89/2021\", \"Zambia/SP32/2021\", \"env/Austria/CeMM5659/2021\", \"env/Austria/CeMM5673/2021\", \"env/Austria/CeMM6146/2021\", \"otter/USA/GA-21-011485-007/2021\", \"romania/SV_SJU_36296/2021\"], BioSymbols.DNA[DNA_G DNA_G … DNA_C DNA_T; DNA_G DNA_G … DNA_C DNA_T; … ; DNA_G DNA_G … DNA_C DNA_T; DNA_G DNA_G … DNA_C DNA_T], Int32[98597, 21858, 7221, 5395, 4822, 4747, 2917, 2875, 2741, 2575  …  1, 1, 1, 1, 1, 1, 1, 1, 1, 1], Dict{String, Int32}(\"England/QEUH-1345CAB/2021\" => 32015, \"France/ARA-HCL021063203301/2021\" => 34246, \"Netherlands/ZE-RIVM-26468/2021\" => 44861, \"Germany/SN-RKI-I-143744/2021\" => 38403, \"England/ALDP-133A113/2021\" => 27925, \"Norway/6118/2021\" => 45551, \"Croatia/1822/2021\" => 15724, \"Gabon/BB0238/2021\" => 35715, \"Germany/HH-RKI-I-097740/2021\" => 36750, \"Estonia/C113831/2021\" => 33558…))"
      ]
     },
     "execution_count": 4,
     "metadata": {},
     "output_type": "execute_result"
    }
   ],
   "source": [
    "aln = JuliaClusterAndTreeTools.Alignment(fasta)\n"
   ]
  }
 ],
 "metadata": {
  "kernelspec": {
   "display_name": "Julia 1.8.3",
   "language": "julia",
   "name": "julia-1.8"
  },
  "language_info": {
   "file_extension": ".jl",
   "mimetype": "application/julia",
   "name": "julia",
   "version": "1.8.3"
  }
 },
 "nbformat": 4,
 "nbformat_minor": 5
}
