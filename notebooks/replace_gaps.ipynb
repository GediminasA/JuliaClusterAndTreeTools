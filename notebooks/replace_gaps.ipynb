{
 "cells": [
  {
   "cell_type": "code",
   "execution_count": 1,
   "id": "881dba9a-ec09-4b60-bdea-e926b7db13c0",
   "metadata": {},
   "outputs": [
    {
     "name": "stderr",
     "output_type": "stream",
     "text": [
      "\u001b[32m\u001b[1m  Activating\u001b[22m\u001b[39m project at `./scripts/julia_modules/JuliaClusterAndTreeTools`\n",
      "┌ Warning: RCall.jl: Loading required package: MASS\n",
      "│ Loading required package: survival\n",
      "└ @ RCall /home/user1/.julia/packages/RCall/Wyd74/src/io.jl:172\n",
      "┌ Warning: RCall.jl: \n",
      "│ Attaching package: ‘patchwork’\n",
      "│ \n",
      "│ The following object is masked from ‘package:MASS’:\n",
      "│ \n",
      "│     area\n",
      "│ \n",
      "└ @ RCall /home/user1/.julia/packages/RCall/Wyd74/src/io.jl:172\n"
     ]
    },
    {
     "data": {
      "text/plain": [
       "RObject{StrSxp}\n",
       " [1] \"data.table\"   \"patchwork\"    \"fitdistrplus\" \"survival\"     \"MASS\"        \n",
       " [6] \"ggplot2\"      \"stats\"        \"graphics\"     \"grDevices\"    \"utils\"       \n",
       "[11] \"datasets\"     \"methods\"      \"base\"        \n"
      ]
     },
     "execution_count": 1,
     "metadata": {},
     "output_type": "execute_result"
    }
   ],
   "source": [
    "using Pkg\n",
    "using Revise\n",
    "Pkg.activate(\"./scripts/julia_modules/JuliaClusterAndTreeTools\")\n",
    "using JuliaClusterAndTreeTools\n",
    "using Statistics\n",
    "using Pkg\n",
    "using RCall\n",
    "using DataFrames\n",
    "using StatsBase\n",
    "using CSV\n",
    "using FASTX\n",
    "using CodecZlib\n",
    "R\"\"\"\n",
    "library(ggplot2)\n",
    "library(fitdistrplus)\n",
    "library(patchwork)\n",
    "library(fitdistrplus)\n",
    "library(data.table)\n",
    "\n",
    "\"\"\"\n",
    "\n"
   ]
  },
  {
   "cell_type": "code",
   "execution_count": 7,
   "id": "aa816971-47e0-4e86-b872-19f1afc96c56",
   "metadata": {
    "tags": [
     "parameters"
    ]
   },
   "outputs": [
    {
     "data": {
      "text/plain": [
       "\"/mnt/raid/covid-phylogeny/audines11/rez/lineages/Q.1/alignment_nextclade_filtered_0.8_20.fasta_clean.gz\""
      ]
     },
     "execution_count": 7,
     "metadata": {},
     "output_type": "execute_result"
    }
   ],
   "source": [
    "in_file_name = \"/mnt/raid/covid-phylogeny/audines11/rez/lineages/Q.1/id_pair.fasta.gz\"\n",
    "output_file_name = \"/mnt/raid/covid-phylogeny/audines11/rez/lineages/Q.1/alignment_nextclade_filtered_0.8_20.fasta_clean.gz\""
   ]
  },
  {
   "cell_type": "code",
   "execution_count": 14,
   "id": "54c3231a-b9bf-4303-a85a-ce50b0d6604a",
   "metadata": {},
   "outputs": [],
   "source": [
    "ct = 0 \n",
    "reader = FASTA.Reader(GzipDecompressorStream(open(in_file_name)))\n",
    "writer = FASTA.Writer(GzipCompressorStream(open(output_file_name,\"w\")), width = 0)\n",
    "for record in reader\n",
    "    ct = ct + 1\n",
    "    id = identifier(record)\n",
    "    seq = replace(string(sequence(record)),'-' => 'a')\n",
    "    rec_out = FASTA.Record(id,seq)\n",
    "    write(writer, rec_out)\n",
    "end\n",
    "close(reader)\n",
    "close(writer)"
   ]
  }
 ],
 "metadata": {
  "kernelspec": {
   "display_name": "Julia 1.9.2",
   "language": "julia",
   "name": "julia-1.9"
  },
  "language_info": {
   "file_extension": ".jl",
   "mimetype": "application/julia",
   "name": "julia",
   "version": "1.9.2"
  }
 },
 "nbformat": 4,
 "nbformat_minor": 5
}
