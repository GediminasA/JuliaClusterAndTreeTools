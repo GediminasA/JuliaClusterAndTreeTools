{
 "cells": [
  {
   "cell_type": "code",
   "execution_count": 1,
   "id": "881dba9a-ec09-4b60-bdea-e926b7db13c0",
   "metadata": {},
   "outputs": [
    {
     "name": "stderr",
     "output_type": "stream",
     "text": [
      "\u001b[32m\u001b[1m  Activating\u001b[22m\u001b[39m project at `~/JuliaClusterAndTreeTools`\n",
      "┌ Warning: RCall.jl: \n",
      "│ Attaching package: ‘dplyr’\n",
      "│ \n",
      "│ The following objects are masked from ‘package:data.table’:\n",
      "│ \n",
      "│     between, first, last\n",
      "│ \n",
      "│ The following objects are masked from ‘package:stats’:\n",
      "│ \n",
      "│     filter, lag\n",
      "│ \n",
      "│ The following objects are masked from ‘package:base’:\n",
      "│ \n",
      "│     intersect, setdiff, setequal, union\n",
      "│ \n",
      "└ @ RCall /home/galzbutas/.julia/packages/RCall/Wyd74/src/io.jl:172\n"
     ]
    },
    {
     "data": {
      "text/plain": [
       "RObject{StrSxp}\n",
       " [1] \"dtplyr\"     \"dplyr\"      \"data.table\" \"ggplot2\"    \"stats\"     \n",
       " [6] \"graphics\"   \"grDevices\"  \"utils\"      \"datasets\"   \"methods\"   \n",
       "[11] \"base\"      \n"
      ]
     },
     "execution_count": 1,
     "metadata": {},
     "output_type": "execute_result"
    }
   ],
   "source": [
    "using Pkg\n",
    "Pkg.activate(\"./scripts/julia_modules/JuliaClusterAndTreeTools\")\n",
    "using JuliaClusterAndTreeTools\n",
    "using Statistics\n",
    "using Pkg\n",
    "using RCall\n",
    "using DataFrames\n",
    "using StatsBase\n",
    "using CSV\n",
    "using FASTX\n",
    "using CodecZlib\n",
    "R\"\"\"\n",
    "library(ggplot2)\n",
    "library(data.table)\n",
    "library(dplyr)\n",
    "library(dtplyr)\n",
    "\"\"\"\n",
    "\n"
   ]
  },
  {
   "cell_type": "code",
   "execution_count": 39,
   "id": "aa816971-47e0-4e86-b872-19f1afc96c56",
   "metadata": {
    "tags": [
     "parameters"
    ]
   },
   "outputs": [
    {
     "data": {
      "text/plain": [
       "\"../test/playdata/proteinaln_conservation_all.csv\""
      ]
     },
     "execution_count": 39,
     "metadata": {},
     "output_type": "execute_result"
    }
   ],
   "source": [
    "fasta = \"../test/playdata/proteinaln.fasta.gz\"\n",
    "output = \"../test/playdata/proteinaln_conservation_all.csv\""
   ]
  },
  {
   "cell_type": "code",
   "execution_count": null,
   "id": "465b6ed2-d2fb-43c4-860d-40900a2aa650",
   "metadata": {},
   "outputs": [],
   "source": [
    "aln = JuliaClusterAndTreeTools.Alignmentprot(fasta) \n",
    "gaps = JuliaClusterAndTreeTools.get_statistics_on_Gaps_Ns_collumnwise(aln)\n",
    "cons = JuliaClusterAndTreeTools.aln_conservation(aln,ignore=['X'])\n",
    "ref_seq_aln = aln.M[end,:]\n",
    "print(\"\")"
   ]
  },
  {
   "cell_type": "code",
   "execution_count": null,
   "id": "20592035-9f23-44a2-8df2-f524919c6521",
   "metadata": {},
   "outputs": [
    {
     "data": {
      "text/plain": [
       "\"../test/playdata/proteinaln_conservation_all.csv\""
      ]
     },
     "execution_count": 40,
     "metadata": {},
     "output_type": "execute_result"
    }
   ],
   "source": [
    "addD = DataFrame(Reference = string.(ref_seq_aln),Entropy=cons[1],Conservation=cons[2])\n",
    "out = hcat(gaps,addD)\n",
    "out = filter(:Reference => x -> x!=\"-\", out)\n",
    "out.Position = 1:length(out.Position)\n",
    "CSV.write(output, out)"
   ]
  }
 ],
 "metadata": {
  "kernelspec": {
   "display_name": "Julia 1.9.2",
   "language": "julia",
   "name": "julia-1.9"
  },
  "language_info": {
   "file_extension": ".jl",
   "mimetype": "application/julia",
   "name": "julia",
   "version": "1.9.2"
  }
 },
 "nbformat": 4,
 "nbformat_minor": 5
}
