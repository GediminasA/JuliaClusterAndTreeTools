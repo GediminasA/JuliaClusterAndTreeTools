{
 "cells": [
  {
   "cell_type": "code",
   "execution_count": 243,
   "id": "881dba9a-ec09-4b60-bdea-e926b7db13c0",
   "metadata": {},
   "outputs": [
    {
     "name": "stderr",
     "output_type": "stream",
     "text": [
      "\u001b[32m\u001b[1m  Activating\u001b[22m\u001b[39m project at `/mnt/raid/covid-phylogeny/scripts/julia_modules/JuliaClusterAndTreeTools`\n"
     ]
    }
   ],
   "source": [
    "using Revise\n",
    "using Pkg\n",
    "using RCall\n",
    "using StatsBase\n",
    "using FreqTables\n",
    "using BioSymbols\n",
    "using DataFrames\n",
    "R\"\"\"\n",
    "library('ggplot2')\n",
    "\"\"\"\n",
    "Pkg.activate(\"/mnt/raid/covid-phylogeny/scripts/julia_modules/JuliaClusterAndTreeTools\")\n",
    "using JuliaClusterAndTreeTools"
   ]
  },
  {
   "cell_type": "code",
   "execution_count": 246,
   "id": "54c3231a-b9bf-4303-a85a-ce50b0d6604a",
   "metadata": {},
   "outputs": [
    {
     "name": "stderr",
     "output_type": "stream",
     "text": [
      "Reading aligment /mnt/raid/covid-phylogeny/audines11/rez/lineages/BA.2/alignment_nextclade_1000.fasta.gz\n",
      "\n",
      "\n",
      "Reading alignment finished, 193 sequences were skipped due to atypical symbols\n",
      "\n"
     ]
    },
    {
     "data": {
      "text/plain": [
       "Alignment([\"Scotland/QEUH-3C4E405/2022\", \"England/QEUH-3C5A530/2022\", \"Scotland/QEUH-3C5A7C1/2022\", \"England/ALDP-3C2902A/2022\", \"England/QEUH-3C5A8FB/2022\", \"Scotland/QEUH-3C2E7A8/2022\", \"England/PHEP-YYRT8NQ/2022\", \"Italy/EMR_AUSLRomagna_C030-22-29/2022\", \"Norway/11020/2022\", \"Netherlands/UT-RIVM-93929/2022\"  …  \"Germany/BW-RKI-I-665987/2022\", \"England/QEUH-3C5CE06/2022\", \"Germany/BY-RKI-I-665045/2022\", \"England/LSPA-3C6C841/2022\", \"England/QEUH-3C7570C/2022\", \"England/ALDP-3C3EA51/2022\", \"England/ALDP-3C3F4E9/2022\", \"Germany/BW-RKI-I-666726/2022\", \"England/LSPA-3C3D2B4/2022\", \"Germany/BW-RKI-I-667351/2022\"], DNA[DNA_Gap DNA_Gap … DNA_Gap DNA_Gap; DNA_Gap DNA_Gap … DNA_Gap DNA_Gap; … ; DNA_Gap DNA_Gap … DNA_Gap DNA_Gap; DNA_Gap DNA_Gap … DNA_Gap DNA_Gap], Int32[1, 1, 1, 1, 1, 1, 1, 1, 1, 1  …  1, 1, 1, 1, 1, 1, 1, 1, 1, 1], Dict{String, Int32}(\"France/PDL-IPP14448/2022\" => 24, \"Germany/BW-RKI-I-637936/2022\" => 713, \"Germany/BW-RKI-I-632143/2022\" => 703, \"France/BFC-HMN-22042110415/2022\" => 478, \"France/NAQ-HCL722000715801/2022\" => 227, \"Germany/NW-RKI-I-591048/2022\" => 529, \"England/ALDP-39C970C/2022\" => 408, \"Slovakia/BA_22_00022057/2022\" => 119, \"England/LSPA-3898A95/2022\" => 204, \"Netherlands/UT-RIVM-97240/2022\" => 247…))"
      ]
     },
     "execution_count": 246,
     "metadata": {},
     "output_type": "execute_result"
    }
   ],
   "source": [
    "aln = JuliaClusterAndTreeTools.Alignment(\"/mnt/raid/covid-phylogeny/audines11/rez/lineages/BA.2/alignment_nextclade_1000.fasta.gz\")\n"
   ]
  },
  {
   "cell_type": "code",
   "execution_count": 247,
   "id": "61e03a0c-95ea-4f04-94d9-75a74d8e10e4",
   "metadata": {},
   "outputs": [
    {
     "name": "stdout",
     "output_type": "stream",
     "text": [
      "Doing transposition...\n",
      "Done. Converting to a data frame...\n",
      "Done\n"
     ]
    },
    {
     "data": {
      "text/html": [
       "<div><div style = \"float: left;\"><span>29903×4 DataFrame</span></div><div style = \"float: right;\"><span style = \"font-style: italic;\">29878 rows omitted</span></div><div style = \"clear: both;\"></div></div><div class = \"data-frame\" style = \"overflow-x: scroll;\"><table class = \"data-frame\" style = \"margin-bottom: 6px;\"><thead><tr class = \"header\"><th class = \"rowNumber\" style = \"font-weight: bold; text-align: right;\">Row</th><th style = \"text-align: left;\">N</th><th style = \"text-align: left;\">Gap</th><th style = \"text-align: left;\">Total</th><th style = \"text-align: left;\">Position</th></tr><tr class = \"subheader headerLastRow\"><th class = \"rowNumber\" style = \"font-weight: bold; text-align: right;\"></th><th title = \"Int64\" style = \"text-align: left;\">Int64</th><th title = \"Int64\" style = \"text-align: left;\">Int64</th><th title = \"Int64\" style = \"text-align: left;\">Int64</th><th title = \"Int64\" style = \"text-align: left;\">Int64</th></tr></thead><tbody><tr><td class = \"rowNumber\" style = \"font-weight: bold; text-align: right;\">1</td><td style = \"text-align: right;\">0</td><td style = \"text-align: right;\">788</td><td style = \"text-align: right;\">794</td><td style = \"text-align: right;\">1</td></tr><tr><td class = \"rowNumber\" style = \"font-weight: bold; text-align: right;\">2</td><td style = \"text-align: right;\">1</td><td style = \"text-align: right;\">788</td><td style = \"text-align: right;\">794</td><td style = \"text-align: right;\">2</td></tr><tr><td class = \"rowNumber\" style = \"font-weight: bold; text-align: right;\">3</td><td style = \"text-align: right;\">1</td><td style = \"text-align: right;\">785</td><td style = \"text-align: right;\">794</td><td style = \"text-align: right;\">3</td></tr><tr><td class = \"rowNumber\" style = \"font-weight: bold; text-align: right;\">4</td><td style = \"text-align: right;\">0</td><td style = \"text-align: right;\">784</td><td style = \"text-align: right;\">794</td><td style = \"text-align: right;\">4</td></tr><tr><td class = \"rowNumber\" style = \"font-weight: bold; text-align: right;\">5</td><td style = \"text-align: right;\">0</td><td style = \"text-align: right;\">775</td><td style = \"text-align: right;\">794</td><td style = \"text-align: right;\">5</td></tr><tr><td class = \"rowNumber\" style = \"font-weight: bold; text-align: right;\">6</td><td style = \"text-align: right;\">0</td><td style = \"text-align: right;\">774</td><td style = \"text-align: right;\">794</td><td style = \"text-align: right;\">6</td></tr><tr><td class = \"rowNumber\" style = \"font-weight: bold; text-align: right;\">7</td><td style = \"text-align: right;\">1</td><td style = \"text-align: right;\">772</td><td style = \"text-align: right;\">794</td><td style = \"text-align: right;\">7</td></tr><tr><td class = \"rowNumber\" style = \"font-weight: bold; text-align: right;\">8</td><td style = \"text-align: right;\">1</td><td style = \"text-align: right;\">768</td><td style = \"text-align: right;\">794</td><td style = \"text-align: right;\">8</td></tr><tr><td class = \"rowNumber\" style = \"font-weight: bold; text-align: right;\">9</td><td style = \"text-align: right;\">0</td><td style = \"text-align: right;\">765</td><td style = \"text-align: right;\">794</td><td style = \"text-align: right;\">9</td></tr><tr><td class = \"rowNumber\" style = \"font-weight: bold; text-align: right;\">10</td><td style = \"text-align: right;\">2</td><td style = \"text-align: right;\">765</td><td style = \"text-align: right;\">794</td><td style = \"text-align: right;\">10</td></tr><tr><td class = \"rowNumber\" style = \"font-weight: bold; text-align: right;\">11</td><td style = \"text-align: right;\">1</td><td style = \"text-align: right;\">765</td><td style = \"text-align: right;\">794</td><td style = \"text-align: right;\">11</td></tr><tr><td class = \"rowNumber\" style = \"font-weight: bold; text-align: right;\">12</td><td style = \"text-align: right;\">1</td><td style = \"text-align: right;\">763</td><td style = \"text-align: right;\">794</td><td style = \"text-align: right;\">12</td></tr><tr><td class = \"rowNumber\" style = \"font-weight: bold; text-align: right;\">13</td><td style = \"text-align: right;\">0</td><td style = \"text-align: right;\">759</td><td style = \"text-align: right;\">794</td><td style = \"text-align: right;\">13</td></tr><tr><td style = \"text-align: right;\">&vellip;</td><td style = \"text-align: right;\">&vellip;</td><td style = \"text-align: right;\">&vellip;</td><td style = \"text-align: right;\">&vellip;</td><td style = \"text-align: right;\">&vellip;</td></tr><tr><td class = \"rowNumber\" style = \"font-weight: bold; text-align: right;\">29892</td><td style = \"text-align: right;\">2</td><td style = \"text-align: right;\">727</td><td style = \"text-align: right;\">794</td><td style = \"text-align: right;\">29892</td></tr><tr><td class = \"rowNumber\" style = \"font-weight: bold; text-align: right;\">29893</td><td style = \"text-align: right;\">4</td><td style = \"text-align: right;\">728</td><td style = \"text-align: right;\">794</td><td style = \"text-align: right;\">29893</td></tr><tr><td class = \"rowNumber\" style = \"font-weight: bold; text-align: right;\">29894</td><td style = \"text-align: right;\">2</td><td style = \"text-align: right;\">728</td><td style = \"text-align: right;\">794</td><td style = \"text-align: right;\">29894</td></tr><tr><td class = \"rowNumber\" style = \"font-weight: bold; text-align: right;\">29895</td><td style = \"text-align: right;\">1</td><td style = \"text-align: right;\">728</td><td style = \"text-align: right;\">794</td><td style = \"text-align: right;\">29895</td></tr><tr><td class = \"rowNumber\" style = \"font-weight: bold; text-align: right;\">29896</td><td style = \"text-align: right;\">1</td><td style = \"text-align: right;\">729</td><td style = \"text-align: right;\">794</td><td style = \"text-align: right;\">29896</td></tr><tr><td class = \"rowNumber\" style = \"font-weight: bold; text-align: right;\">29897</td><td style = \"text-align: right;\">2</td><td style = \"text-align: right;\">729</td><td style = \"text-align: right;\">794</td><td style = \"text-align: right;\">29897</td></tr><tr><td class = \"rowNumber\" style = \"font-weight: bold; text-align: right;\">29898</td><td style = \"text-align: right;\">2</td><td style = \"text-align: right;\">729</td><td style = \"text-align: right;\">794</td><td style = \"text-align: right;\">29898</td></tr><tr><td class = \"rowNumber\" style = \"font-weight: bold; text-align: right;\">29899</td><td style = \"text-align: right;\">1</td><td style = \"text-align: right;\">729</td><td style = \"text-align: right;\">794</td><td style = \"text-align: right;\">29899</td></tr><tr><td class = \"rowNumber\" style = \"font-weight: bold; text-align: right;\">29900</td><td style = \"text-align: right;\">1</td><td style = \"text-align: right;\">730</td><td style = \"text-align: right;\">794</td><td style = \"text-align: right;\">29900</td></tr><tr><td class = \"rowNumber\" style = \"font-weight: bold; text-align: right;\">29901</td><td style = \"text-align: right;\">0</td><td style = \"text-align: right;\">730</td><td style = \"text-align: right;\">794</td><td style = \"text-align: right;\">29901</td></tr><tr><td class = \"rowNumber\" style = \"font-weight: bold; text-align: right;\">29902</td><td style = \"text-align: right;\">0</td><td style = \"text-align: right;\">732</td><td style = \"text-align: right;\">794</td><td style = \"text-align: right;\">29902</td></tr><tr><td class = \"rowNumber\" style = \"font-weight: bold; text-align: right;\">29903</td><td style = \"text-align: right;\">0</td><td style = \"text-align: right;\">735</td><td style = \"text-align: right;\">794</td><td style = \"text-align: right;\">29903</td></tr></tbody></table></div>"
      ],
      "text/latex": [
       "\\begin{tabular}{r|cccc}\n",
       "\t& N & Gap & Total & Position\\\\\n",
       "\t\\hline\n",
       "\t& Int64 & Int64 & Int64 & Int64\\\\\n",
       "\t\\hline\n",
       "\t1 & 0 & 788 & 794 & 1 \\\\\n",
       "\t2 & 1 & 788 & 794 & 2 \\\\\n",
       "\t3 & 1 & 785 & 794 & 3 \\\\\n",
       "\t4 & 0 & 784 & 794 & 4 \\\\\n",
       "\t5 & 0 & 775 & 794 & 5 \\\\\n",
       "\t6 & 0 & 774 & 794 & 6 \\\\\n",
       "\t7 & 1 & 772 & 794 & 7 \\\\\n",
       "\t8 & 1 & 768 & 794 & 8 \\\\\n",
       "\t9 & 0 & 765 & 794 & 9 \\\\\n",
       "\t10 & 2 & 765 & 794 & 10 \\\\\n",
       "\t11 & 1 & 765 & 794 & 11 \\\\\n",
       "\t12 & 1 & 763 & 794 & 12 \\\\\n",
       "\t13 & 0 & 759 & 794 & 13 \\\\\n",
       "\t14 & 1 & 759 & 794 & 14 \\\\\n",
       "\t15 & 1 & 758 & 794 & 15 \\\\\n",
       "\t16 & 1 & 758 & 794 & 16 \\\\\n",
       "\t17 & 1 & 758 & 794 & 17 \\\\\n",
       "\t18 & 1 & 757 & 794 & 18 \\\\\n",
       "\t19 & 0 & 757 & 794 & 19 \\\\\n",
       "\t20 & 1 & 756 & 794 & 20 \\\\\n",
       "\t21 & 1 & 756 & 794 & 21 \\\\\n",
       "\t22 & 1 & 755 & 794 & 22 \\\\\n",
       "\t23 & 1 & 749 & 794 & 23 \\\\\n",
       "\t24 & 1 & 743 & 794 & 24 \\\\\n",
       "\t25 & 1 & 729 & 794 & 25 \\\\\n",
       "\t26 & 1 & 720 & 794 & 26 \\\\\n",
       "\t27 & 1 & 720 & 794 & 27 \\\\\n",
       "\t28 & 1 & 720 & 794 & 28 \\\\\n",
       "\t29 & 1 & 719 & 794 & 29 \\\\\n",
       "\t30 & 1 & 718 & 794 & 30 \\\\\n",
       "\t$\\dots$ & $\\dots$ & $\\dots$ & $\\dots$ & $\\dots$ \\\\\n",
       "\\end{tabular}\n"
      ],
      "text/plain": [
       "\u001b[1m29903×4 DataFrame\u001b[0m\n",
       "\u001b[1m   Row \u001b[0m│\u001b[1m N     \u001b[0m\u001b[1m Gap   \u001b[0m\u001b[1m Total \u001b[0m\u001b[1m Position \u001b[0m\n",
       "       │\u001b[90m Int64 \u001b[0m\u001b[90m Int64 \u001b[0m\u001b[90m Int64 \u001b[0m\u001b[90m Int64    \u001b[0m\n",
       "───────┼───────────────────────────────\n",
       "     1 │     0    788    794         1\n",
       "     2 │     1    788    794         2\n",
       "     3 │     1    785    794         3\n",
       "     4 │     0    784    794         4\n",
       "     5 │     0    775    794         5\n",
       "     6 │     0    774    794         6\n",
       "     7 │     1    772    794         7\n",
       "     8 │     1    768    794         8\n",
       "     9 │     0    765    794         9\n",
       "    10 │     2    765    794        10\n",
       "    11 │     1    765    794        11\n",
       "   ⋮   │   ⋮      ⋮      ⋮       ⋮\n",
       " 29894 │     2    728    794     29894\n",
       " 29895 │     1    728    794     29895\n",
       " 29896 │     1    729    794     29896\n",
       " 29897 │     2    729    794     29897\n",
       " 29898 │     2    729    794     29898\n",
       " 29899 │     1    729    794     29899\n",
       " 29900 │     1    730    794     29900\n",
       " 29901 │     0    730    794     29901\n",
       " 29902 │     0    732    794     29902\n",
       " 29903 │     0    735    794     29903\n",
       "\u001b[36m                     29882 rows omitted\u001b[0m"
      ]
     },
     "execution_count": 247,
     "metadata": {},
     "output_type": "execute_result"
    }
   ],
   "source": [
    "dr = JuliaClusterAndTreeTools.get_statistics_on_Gaps_Ns_collumnwise(aln)"
   ]
  },
  {
   "cell_type": "code",
   "execution_count": 245,
   "id": "45436858-896f-4342-9f53-a52003aa09a7",
   "metadata": {},
   "outputs": [
    {
     "name": "stdout",
     "output_type": "stream",
     "text": [
      "Doing transposition...\n",
      "Done. Converting to a data frame...\n",
      "Done\n"
     ]
    },
    {
     "data": {
      "text/html": [
       "<div><div style = \"float: left;\"><span>29903×4 DataFrame</span></div><div style = \"float: right;\"><span style = \"font-style: italic;\">29878 rows omitted</span></div><div style = \"clear: both;\"></div></div><div class = \"data-frame\" style = \"overflow-x: scroll;\"><table class = \"data-frame\" style = \"margin-bottom: 6px;\"><thead><tr class = \"header\"><th class = \"rowNumber\" style = \"font-weight: bold; text-align: right;\">Row</th><th style = \"text-align: left;\">N</th><th style = \"text-align: left;\">Gap</th><th style = \"text-align: left;\">Total</th><th style = \"text-align: left;\">Position</th></tr><tr class = \"subheader headerLastRow\"><th class = \"rowNumber\" style = \"font-weight: bold; text-align: right;\"></th><th title = \"Int64\" style = \"text-align: left;\">Int64</th><th title = \"Int64\" style = \"text-align: left;\">Int64</th><th title = \"Int64\" style = \"text-align: left;\">Int64</th><th title = \"Int64\" style = \"text-align: left;\">Int64</th></tr></thead><tbody><tr><td class = \"rowNumber\" style = \"font-weight: bold; text-align: right;\">1</td><td style = \"text-align: right;\">0</td><td style = \"text-align: right;\">788</td><td style = \"text-align: right;\">794</td><td style = \"text-align: right;\">1</td></tr><tr><td class = \"rowNumber\" style = \"font-weight: bold; text-align: right;\">2</td><td style = \"text-align: right;\">1</td><td style = \"text-align: right;\">788</td><td style = \"text-align: right;\">794</td><td style = \"text-align: right;\">2</td></tr><tr><td class = \"rowNumber\" style = \"font-weight: bold; text-align: right;\">3</td><td style = \"text-align: right;\">1</td><td style = \"text-align: right;\">785</td><td style = \"text-align: right;\">794</td><td style = \"text-align: right;\">3</td></tr><tr><td class = \"rowNumber\" style = \"font-weight: bold; text-align: right;\">4</td><td style = \"text-align: right;\">0</td><td style = \"text-align: right;\">784</td><td style = \"text-align: right;\">794</td><td style = \"text-align: right;\">4</td></tr><tr><td class = \"rowNumber\" style = \"font-weight: bold; text-align: right;\">5</td><td style = \"text-align: right;\">0</td><td style = \"text-align: right;\">775</td><td style = \"text-align: right;\">794</td><td style = \"text-align: right;\">5</td></tr><tr><td class = \"rowNumber\" style = \"font-weight: bold; text-align: right;\">6</td><td style = \"text-align: right;\">0</td><td style = \"text-align: right;\">774</td><td style = \"text-align: right;\">794</td><td style = \"text-align: right;\">6</td></tr><tr><td class = \"rowNumber\" style = \"font-weight: bold; text-align: right;\">7</td><td style = \"text-align: right;\">1</td><td style = \"text-align: right;\">772</td><td style = \"text-align: right;\">794</td><td style = \"text-align: right;\">7</td></tr><tr><td class = \"rowNumber\" style = \"font-weight: bold; text-align: right;\">8</td><td style = \"text-align: right;\">1</td><td style = \"text-align: right;\">768</td><td style = \"text-align: right;\">794</td><td style = \"text-align: right;\">8</td></tr><tr><td class = \"rowNumber\" style = \"font-weight: bold; text-align: right;\">9</td><td style = \"text-align: right;\">0</td><td style = \"text-align: right;\">765</td><td style = \"text-align: right;\">794</td><td style = \"text-align: right;\">9</td></tr><tr><td class = \"rowNumber\" style = \"font-weight: bold; text-align: right;\">10</td><td style = \"text-align: right;\">2</td><td style = \"text-align: right;\">765</td><td style = \"text-align: right;\">794</td><td style = \"text-align: right;\">10</td></tr><tr><td class = \"rowNumber\" style = \"font-weight: bold; text-align: right;\">11</td><td style = \"text-align: right;\">1</td><td style = \"text-align: right;\">765</td><td style = \"text-align: right;\">794</td><td style = \"text-align: right;\">11</td></tr><tr><td class = \"rowNumber\" style = \"font-weight: bold; text-align: right;\">12</td><td style = \"text-align: right;\">1</td><td style = \"text-align: right;\">763</td><td style = \"text-align: right;\">794</td><td style = \"text-align: right;\">12</td></tr><tr><td class = \"rowNumber\" style = \"font-weight: bold; text-align: right;\">13</td><td style = \"text-align: right;\">0</td><td style = \"text-align: right;\">759</td><td style = \"text-align: right;\">794</td><td style = \"text-align: right;\">13</td></tr><tr><td style = \"text-align: right;\">&vellip;</td><td style = \"text-align: right;\">&vellip;</td><td style = \"text-align: right;\">&vellip;</td><td style = \"text-align: right;\">&vellip;</td><td style = \"text-align: right;\">&vellip;</td></tr><tr><td class = \"rowNumber\" style = \"font-weight: bold; text-align: right;\">29892</td><td style = \"text-align: right;\">2</td><td style = \"text-align: right;\">727</td><td style = \"text-align: right;\">794</td><td style = \"text-align: right;\">29892</td></tr><tr><td class = \"rowNumber\" style = \"font-weight: bold; text-align: right;\">29893</td><td style = \"text-align: right;\">4</td><td style = \"text-align: right;\">728</td><td style = \"text-align: right;\">794</td><td style = \"text-align: right;\">29893</td></tr><tr><td class = \"rowNumber\" style = \"font-weight: bold; text-align: right;\">29894</td><td style = \"text-align: right;\">2</td><td style = \"text-align: right;\">728</td><td style = \"text-align: right;\">794</td><td style = \"text-align: right;\">29894</td></tr><tr><td class = \"rowNumber\" style = \"font-weight: bold; text-align: right;\">29895</td><td style = \"text-align: right;\">1</td><td style = \"text-align: right;\">728</td><td style = \"text-align: right;\">794</td><td style = \"text-align: right;\">29895</td></tr><tr><td class = \"rowNumber\" style = \"font-weight: bold; text-align: right;\">29896</td><td style = \"text-align: right;\">1</td><td style = \"text-align: right;\">729</td><td style = \"text-align: right;\">794</td><td style = \"text-align: right;\">29896</td></tr><tr><td class = \"rowNumber\" style = \"font-weight: bold; text-align: right;\">29897</td><td style = \"text-align: right;\">2</td><td style = \"text-align: right;\">729</td><td style = \"text-align: right;\">794</td><td style = \"text-align: right;\">29897</td></tr><tr><td class = \"rowNumber\" style = \"font-weight: bold; text-align: right;\">29898</td><td style = \"text-align: right;\">2</td><td style = \"text-align: right;\">729</td><td style = \"text-align: right;\">794</td><td style = \"text-align: right;\">29898</td></tr><tr><td class = \"rowNumber\" style = \"font-weight: bold; text-align: right;\">29899</td><td style = \"text-align: right;\">1</td><td style = \"text-align: right;\">729</td><td style = \"text-align: right;\">794</td><td style = \"text-align: right;\">29899</td></tr><tr><td class = \"rowNumber\" style = \"font-weight: bold; text-align: right;\">29900</td><td style = \"text-align: right;\">1</td><td style = \"text-align: right;\">730</td><td style = \"text-align: right;\">794</td><td style = \"text-align: right;\">29900</td></tr><tr><td class = \"rowNumber\" style = \"font-weight: bold; text-align: right;\">29901</td><td style = \"text-align: right;\">0</td><td style = \"text-align: right;\">730</td><td style = \"text-align: right;\">794</td><td style = \"text-align: right;\">29901</td></tr><tr><td class = \"rowNumber\" style = \"font-weight: bold; text-align: right;\">29902</td><td style = \"text-align: right;\">0</td><td style = \"text-align: right;\">732</td><td style = \"text-align: right;\">794</td><td style = \"text-align: right;\">29902</td></tr><tr><td class = \"rowNumber\" style = \"font-weight: bold; text-align: right;\">29903</td><td style = \"text-align: right;\">0</td><td style = \"text-align: right;\">735</td><td style = \"text-align: right;\">794</td><td style = \"text-align: right;\">29903</td></tr></tbody></table></div>"
      ],
      "text/latex": [
       "\\begin{tabular}{r|cccc}\n",
       "\t& N & Gap & Total & Position\\\\\n",
       "\t\\hline\n",
       "\t& Int64 & Int64 & Int64 & Int64\\\\\n",
       "\t\\hline\n",
       "\t1 & 0 & 788 & 794 & 1 \\\\\n",
       "\t2 & 1 & 788 & 794 & 2 \\\\\n",
       "\t3 & 1 & 785 & 794 & 3 \\\\\n",
       "\t4 & 0 & 784 & 794 & 4 \\\\\n",
       "\t5 & 0 & 775 & 794 & 5 \\\\\n",
       "\t6 & 0 & 774 & 794 & 6 \\\\\n",
       "\t7 & 1 & 772 & 794 & 7 \\\\\n",
       "\t8 & 1 & 768 & 794 & 8 \\\\\n",
       "\t9 & 0 & 765 & 794 & 9 \\\\\n",
       "\t10 & 2 & 765 & 794 & 10 \\\\\n",
       "\t11 & 1 & 765 & 794 & 11 \\\\\n",
       "\t12 & 1 & 763 & 794 & 12 \\\\\n",
       "\t13 & 0 & 759 & 794 & 13 \\\\\n",
       "\t14 & 1 & 759 & 794 & 14 \\\\\n",
       "\t15 & 1 & 758 & 794 & 15 \\\\\n",
       "\t16 & 1 & 758 & 794 & 16 \\\\\n",
       "\t17 & 1 & 758 & 794 & 17 \\\\\n",
       "\t18 & 1 & 757 & 794 & 18 \\\\\n",
       "\t19 & 0 & 757 & 794 & 19 \\\\\n",
       "\t20 & 1 & 756 & 794 & 20 \\\\\n",
       "\t21 & 1 & 756 & 794 & 21 \\\\\n",
       "\t22 & 1 & 755 & 794 & 22 \\\\\n",
       "\t23 & 1 & 749 & 794 & 23 \\\\\n",
       "\t24 & 1 & 743 & 794 & 24 \\\\\n",
       "\t25 & 1 & 729 & 794 & 25 \\\\\n",
       "\t26 & 1 & 720 & 794 & 26 \\\\\n",
       "\t27 & 1 & 720 & 794 & 27 \\\\\n",
       "\t28 & 1 & 720 & 794 & 28 \\\\\n",
       "\t29 & 1 & 719 & 794 & 29 \\\\\n",
       "\t30 & 1 & 718 & 794 & 30 \\\\\n",
       "\t$\\dots$ & $\\dots$ & $\\dots$ & $\\dots$ & $\\dots$ \\\\\n",
       "\\end{tabular}\n"
      ],
      "text/plain": [
       "\u001b[1m29903×4 DataFrame\u001b[0m\n",
       "\u001b[1m   Row \u001b[0m│\u001b[1m N     \u001b[0m\u001b[1m Gap   \u001b[0m\u001b[1m Total \u001b[0m\u001b[1m Position \u001b[0m\n",
       "       │\u001b[90m Int64 \u001b[0m\u001b[90m Int64 \u001b[0m\u001b[90m Int64 \u001b[0m\u001b[90m Int64    \u001b[0m\n",
       "───────┼───────────────────────────────\n",
       "     1 │     0    788    794         1\n",
       "     2 │     1    788    794         2\n",
       "     3 │     1    785    794         3\n",
       "     4 │     0    784    794         4\n",
       "     5 │     0    775    794         5\n",
       "     6 │     0    774    794         6\n",
       "     7 │     1    772    794         7\n",
       "     8 │     1    768    794         8\n",
       "     9 │     0    765    794         9\n",
       "    10 │     2    765    794        10\n",
       "    11 │     1    765    794        11\n",
       "   ⋮   │   ⋮      ⋮      ⋮       ⋮\n",
       " 29894 │     2    728    794     29894\n",
       " 29895 │     1    728    794     29895\n",
       " 29896 │     1    729    794     29896\n",
       " 29897 │     2    729    794     29897\n",
       " 29898 │     2    729    794     29898\n",
       " 29899 │     1    729    794     29899\n",
       " 29900 │     1    730    794     29900\n",
       " 29901 │     0    730    794     29901\n",
       " 29902 │     0    732    794     29902\n",
       " 29903 │     0    735    794     29903\n",
       "\u001b[36m                     29882 rows omitted\u001b[0m"
      ]
     },
     "execution_count": 245,
     "metadata": {},
     "output_type": "execute_result"
    }
   ],
   "source": [
    "m = aln.M\n",
    "set_dna = [DNA_N,DNA_Gap]\n",
    "out = Array{Array{Int64},1}()\n",
    "ctparse = 0\n",
    "for clm in eachcol(m)\n",
    "    cm = countmap(clm)\n",
    "    N = length(clm)\n",
    "    cmvals =  map( (x) -> x in keys(cm) ? cm[x] : 0, set_dna)\n",
    "    push!(cmvals,N)\n",
    "    push!(out,cmvals)\n",
    "    ctparse += 1\n",
    "    if mod(ctparse,1000) == 0\n",
    "        print(\"Counted $ctparse columns\\r\")\n",
    "    end\n",
    "end\n",
    "println(\"Doing transposition...\")\n",
    "outm = transpose(hcat(out...))\n",
    "println(\"Done. Converting to a data frame...\")\n",
    "outd = DataFrame(outm,[:N,:Gap,:Total])\n",
    "outd.Position = 1:length(outm[:,1])\n",
    "println(\"Done\")\n",
    "outd"
   ]
  },
  {
   "cell_type": "code",
   "execution_count": 242,
   "id": "a534a31b-7b00-4099-8eea-e0b12db009b5",
   "metadata": {},
   "outputs": [
    {
     "data": {
      "image/png": "[encoded data removed]"
     },
     "metadata": {},
     "output_type": "display_data"
    },
    {
     "data": {
      "text/plain": [
       "RObject{VecSxp}\n"
      ]
     },
     "execution_count": 242,
     "metadata": {},
     "output_type": "execute_result"
    }
   ],
   "source": [
    "@rput outd\n",
    "RCall.rcall_p(:options, rcalljl_options=Dict(:width => 1000, :height => 800))\n",
    "R\"\"\"\n",
    "p <- ggplot(data=outd) + geom_point(aes(x=Position,y=Gap))\n",
    "summary(outd)\n",
    "p\n",
    "\"\"\""
   ]
  },
  {
   "cell_type": "code",
   "execution_count": 226,
   "id": "c4bd8430-b9e8-4b0a-bce1-6f4c87af6cd7",
   "metadata": {},
   "outputs": [
    {
     "data": {
      "text/plain": [
       "1:2"
      ]
     },
     "execution_count": 226,
     "metadata": {},
     "output_type": "execute_result"
    }
   ],
   "source": [
    "1:2"
   ]
  },
  {
   "cell_type": "code",
   "execution_count": 229,
   "id": "b79b2bba-7dba-414c-9b4e-e470b22445ea",
   "metadata": {},
   "outputs": [
    {
     "name": "stdout",
     "output_type": "stream",
     "text": [
      "Doing transposition...\n",
      "Done. Converting to a data frame...\n"
     ]
    },
    {
     "data": {
      "text/html": [
       "<div><div style = \"float: left;\"><span>794×4 DataFrame</span></div><div style = \"float: right;\"><span style = \"font-style: italic;\">769 rows omitted</span></div><div style = \"clear: both;\"></div></div><div class = \"data-frame\" style = \"overflow-x: scroll;\"><table class = \"data-frame\" style = \"margin-bottom: 6px;\"><thead><tr class = \"header\"><th class = \"rowNumber\" style = \"font-weight: bold; text-align: right;\">Row</th><th style = \"text-align: left;\">N</th><th style = \"text-align: left;\">Gap</th><th style = \"text-align: left;\">Total</th><th style = \"text-align: left;\">ID</th></tr><tr class = \"subheader headerLastRow\"><th class = \"rowNumber\" style = \"font-weight: bold; text-align: right;\"></th><th title = \"Int64\" style = \"text-align: left;\">Int64</th><th title = \"Int64\" style = \"text-align: left;\">Int64</th><th title = \"Int64\" style = \"text-align: left;\">Int64</th><th title = \"String\" style = \"text-align: left;\">String</th></tr></thead><tbody><tr><td class = \"rowNumber\" style = \"font-weight: bold; text-align: right;\">1</td><td style = \"text-align: right;\">0</td><td style = \"text-align: right;\">179</td><td style = \"text-align: right;\">29903</td><td style = \"text-align: left;\">Scotland/QEUH-3C4E405/2022</td></tr><tr><td class = \"rowNumber\" style = \"font-weight: bold; text-align: right;\">2</td><td style = \"text-align: right;\">0</td><td style = \"text-align: right;\">179</td><td style = \"text-align: right;\">29903</td><td style = \"text-align: left;\">England/QEUH-3C5A530/2022</td></tr><tr><td class = \"rowNumber\" style = \"font-weight: bold; text-align: right;\">3</td><td style = \"text-align: right;\">0</td><td style = \"text-align: right;\">179</td><td style = \"text-align: right;\">29903</td><td style = \"text-align: left;\">Scotland/QEUH-3C5A7C1/2022</td></tr><tr><td class = \"rowNumber\" style = \"font-weight: bold; text-align: right;\">4</td><td style = \"text-align: right;\">0</td><td style = \"text-align: right;\">179</td><td style = \"text-align: right;\">29903</td><td style = \"text-align: left;\">England/ALDP-3C2902A/2022</td></tr><tr><td class = \"rowNumber\" style = \"font-weight: bold; text-align: right;\">5</td><td style = \"text-align: right;\">0</td><td style = \"text-align: right;\">194</td><td style = \"text-align: right;\">29903</td><td style = \"text-align: left;\">England/QEUH-3C5A8FB/2022</td></tr><tr><td class = \"rowNumber\" style = \"font-weight: bold; text-align: right;\">6</td><td style = \"text-align: right;\">500</td><td style = \"text-align: right;\">179</td><td style = \"text-align: right;\">29903</td><td style = \"text-align: left;\">Scotland/QEUH-3C2E7A8/2022</td></tr><tr><td class = \"rowNumber\" style = \"font-weight: bold; text-align: right;\">7</td><td style = \"text-align: right;\">1</td><td style = \"text-align: right;\">179</td><td style = \"text-align: right;\">29903</td><td style = \"text-align: left;\">England/PHEP-YYRT8NQ/2022</td></tr><tr><td class = \"rowNumber\" style = \"font-weight: bold; text-align: right;\">8</td><td style = \"text-align: right;\">0</td><td style = \"text-align: right;\">295</td><td style = \"text-align: right;\">29903</td><td style = \"text-align: left;\">Italy/EMR_AUSLRomagna_C030-22-29/2022</td></tr><tr><td class = \"rowNumber\" style = \"font-weight: bold; text-align: right;\">9</td><td style = \"text-align: right;\">64</td><td style = \"text-align: right;\">102</td><td style = \"text-align: right;\">29903</td><td style = \"text-align: left;\">Norway/11020/2022</td></tr><tr><td class = \"rowNumber\" style = \"font-weight: bold; text-align: right;\">10</td><td style = \"text-align: right;\">0</td><td style = \"text-align: right;\">174</td><td style = \"text-align: right;\">29903</td><td style = \"text-align: left;\">Netherlands/UT-RIVM-93929/2022</td></tr><tr><td class = \"rowNumber\" style = \"font-weight: bold; text-align: right;\">11</td><td style = \"text-align: right;\">264</td><td style = \"text-align: right;\">179</td><td style = \"text-align: right;\">29903</td><td style = \"text-align: left;\">Australia/ACT3984/2022</td></tr><tr><td class = \"rowNumber\" style = \"font-weight: bold; text-align: right;\">12</td><td style = \"text-align: right;\">2</td><td style = \"text-align: right;\">179</td><td style = \"text-align: right;\">29903</td><td style = \"text-align: left;\">France/ARA-ALPIGENE-2203230221/2022</td></tr><tr><td class = \"rowNumber\" style = \"font-weight: bold; text-align: right;\">13</td><td style = \"text-align: right;\">996</td><td style = \"text-align: right;\">90</td><td style = \"text-align: right;\">29903</td><td style = \"text-align: left;\">India/MH-KasturbaMCGM-ICMR-INSACOG-WG3406/2022</td></tr><tr><td style = \"text-align: right;\">&vellip;</td><td style = \"text-align: right;\">&vellip;</td><td style = \"text-align: right;\">&vellip;</td><td style = \"text-align: right;\">&vellip;</td><td style = \"text-align: right;\">&vellip;</td></tr><tr><td class = \"rowNumber\" style = \"font-weight: bold; text-align: right;\">783</td><td style = \"text-align: right;\">551</td><td style = \"text-align: right;\">108</td><td style = \"text-align: right;\">29903</td><td style = \"text-align: left;\">Sweden/SUS0009216/2022</td></tr><tr><td class = \"rowNumber\" style = \"font-weight: bold; text-align: right;\">784</td><td style = \"text-align: right;\">461</td><td style = \"text-align: right;\">473</td><td style = \"text-align: right;\">29903</td><td style = \"text-align: left;\">England/LSPA-3C6FD9A/2022</td></tr><tr><td class = \"rowNumber\" style = \"font-weight: bold; text-align: right;\">785</td><td style = \"text-align: right;\">0</td><td style = \"text-align: right;\">472</td><td style = \"text-align: right;\">29903</td><td style = \"text-align: left;\">Germany/BW-RKI-I-665987/2022</td></tr><tr><td class = \"rowNumber\" style = \"font-weight: bold; text-align: right;\">786</td><td style = \"text-align: right;\">0</td><td style = \"text-align: right;\">179</td><td style = \"text-align: right;\">29903</td><td style = \"text-align: left;\">England/QEUH-3C5CE06/2022</td></tr><tr><td class = \"rowNumber\" style = \"font-weight: bold; text-align: right;\">787</td><td style = \"text-align: right;\">266</td><td style = \"text-align: right;\">174</td><td style = \"text-align: right;\">29903</td><td style = \"text-align: left;\">Germany/BY-RKI-I-665045/2022</td></tr><tr><td class = \"rowNumber\" style = \"font-weight: bold; text-align: right;\">788</td><td style = \"text-align: right;\">240</td><td style = \"text-align: right;\">179</td><td style = \"text-align: right;\">29903</td><td style = \"text-align: left;\">England/LSPA-3C6C841/2022</td></tr><tr><td class = \"rowNumber\" style = \"font-weight: bold; text-align: right;\">789</td><td style = \"text-align: right;\">0</td><td style = \"text-align: right;\">179</td><td style = \"text-align: right;\">29903</td><td style = \"text-align: left;\">England/QEUH-3C7570C/2022</td></tr><tr><td class = \"rowNumber\" style = \"font-weight: bold; text-align: right;\">790</td><td style = \"text-align: right;\">0</td><td style = \"text-align: right;\">179</td><td style = \"text-align: right;\">29903</td><td style = \"text-align: left;\">England/ALDP-3C3EA51/2022</td></tr><tr><td class = \"rowNumber\" style = \"font-weight: bold; text-align: right;\">791</td><td style = \"text-align: right;\">0</td><td style = \"text-align: right;\">179</td><td style = \"text-align: right;\">29903</td><td style = \"text-align: left;\">England/ALDP-3C3F4E9/2022</td></tr><tr><td class = \"rowNumber\" style = \"font-weight: bold; text-align: right;\">792</td><td style = \"text-align: right;\">39</td><td style = \"text-align: right;\">271</td><td style = \"text-align: right;\">29903</td><td style = \"text-align: left;\">Germany/BW-RKI-I-666726/2022</td></tr><tr><td class = \"rowNumber\" style = \"font-weight: bold; text-align: right;\">793</td><td style = \"text-align: right;\">0</td><td style = \"text-align: right;\">179</td><td style = \"text-align: right;\">29903</td><td style = \"text-align: left;\">England/LSPA-3C3D2B4/2022</td></tr><tr><td class = \"rowNumber\" style = \"font-weight: bold; text-align: right;\">794</td><td style = \"text-align: right;\">370</td><td style = \"text-align: right;\">300</td><td style = \"text-align: right;\">29903</td><td style = \"text-align: left;\">Germany/BW-RKI-I-667351/2022</td></tr></tbody></table></div>"
      ],
      "text/latex": [
       "\\begin{tabular}{r|cccc}\n",
       "\t& N & Gap & Total & ID\\\\\n",
       "\t\\hline\n",
       "\t& Int64 & Int64 & Int64 & String\\\\\n",
       "\t\\hline\n",
       "\t1 & 0 & 179 & 29903 & Scotland/QEUH-3C4E405/2022 \\\\\n",
       "\t2 & 0 & 179 & 29903 & England/QEUH-3C5A530/2022 \\\\\n",
       "\t3 & 0 & 179 & 29903 & Scotland/QEUH-3C5A7C1/2022 \\\\\n",
       "\t4 & 0 & 179 & 29903 & England/ALDP-3C2902A/2022 \\\\\n",
       "\t5 & 0 & 194 & 29903 & England/QEUH-3C5A8FB/2022 \\\\\n",
       "\t6 & 500 & 179 & 29903 & Scotland/QEUH-3C2E7A8/2022 \\\\\n",
       "\t7 & 1 & 179 & 29903 & England/PHEP-YYRT8NQ/2022 \\\\\n",
       "\t8 & 0 & 295 & 29903 & Italy/EMR\\_AUSLRomagna\\_C030-22-29/2022 \\\\\n",
       "\t9 & 64 & 102 & 29903 & Norway/11020/2022 \\\\\n",
       "\t10 & 0 & 174 & 29903 & Netherlands/UT-RIVM-93929/2022 \\\\\n",
       "\t11 & 264 & 179 & 29903 & Australia/ACT3984/2022 \\\\\n",
       "\t12 & 2 & 179 & 29903 & France/ARA-ALPIGENE-2203230221/2022 \\\\\n",
       "\t13 & 996 & 90 & 29903 & India/MH-KasturbaMCGM-ICMR-INSACOG-WG3406/2022 \\\\\n",
       "\t14 & 2 & 242 & 29903 & France/ARA-ALPIGENE-2203230294/2022 \\\\\n",
       "\t15 & 886 & 174 & 29903 & Germany/BY-RKI-I-679064/2022 \\\\\n",
       "\t16 & 887 & 251 & 29903 & Germany/NW-RKI-I-677988/2022 \\\\\n",
       "\t17 & 0 & 472 & 29903 & Germany/BW-RKI-I-682678/2022 \\\\\n",
       "\t18 & 328 & 174 & 29903 & Germany/BY-RKI-I-679723/2022 \\\\\n",
       "\t19 & 21 & 472 & 29903 & Germany/HH-RKI-I-686030/2022 \\\\\n",
       "\t20 & 561 & 179 & 29903 & Germany/BE-RKI-I-686398/2022 \\\\\n",
       "\t21 & 129 & 172 & 29903 & Germany/NW-RKI-I-686498/2022 \\\\\n",
       "\t22 & 0 & 179 & 29903 & Scotland/QEUH-3813EA5/2022 \\\\\n",
       "\t23 & 0 & 174 & 29903 & Germany/NW-RKI-I-689224/2022 \\\\\n",
       "\t24 & 14 & 177 & 29903 & France/PDL-IPP14448/2022 \\\\\n",
       "\t25 & 52 & 174 & 29903 & Germany/HH-RKI-I-517617/2022 \\\\\n",
       "\t26 & 0 & 179 & 29903 & Australia/ACT3467/2022 \\\\\n",
       "\t27 & 0 & 179 & 29903 & England/QEUH-3C827C0/2022 \\\\\n",
       "\t28 & 0 & 179 & 29903 & England/LSPA-3C99CC7/2022 \\\\\n",
       "\t29 & 0 & 185 & 29903 & England/LSPA-3C92B3A/2022 \\\\\n",
       "\t30 & 0 & 179 & 29903 & England/QEUH-3C88DB9/2022 \\\\\n",
       "\t$\\dots$ & $\\dots$ & $\\dots$ & $\\dots$ & $\\dots$ \\\\\n",
       "\\end{tabular}\n"
      ],
      "text/plain": [
       "\u001b[1m794×4 DataFrame\u001b[0m\n",
       "\u001b[1m Row \u001b[0m│\u001b[1m N     \u001b[0m\u001b[1m Gap   \u001b[0m\u001b[1m Total \u001b[0m\u001b[1m ID                                \u001b[0m\n",
       "     │\u001b[90m Int64 \u001b[0m\u001b[90m Int64 \u001b[0m\u001b[90m Int64 \u001b[0m\u001b[90m String                            \u001b[0m\n",
       "─────┼────────────────────────────────────────────────────────\n",
       "   1 │     0    179  29903  Scotland/QEUH-3C4E405/2022\n",
       "   2 │     0    179  29903  England/QEUH-3C5A530/2022\n",
       "   3 │     0    179  29903  Scotland/QEUH-3C5A7C1/2022\n",
       "   4 │     0    179  29903  England/ALDP-3C2902A/2022\n",
       "   5 │     0    194  29903  England/QEUH-3C5A8FB/2022\n",
       "   6 │   500    179  29903  Scotland/QEUH-3C2E7A8/2022\n",
       "   7 │     1    179  29903  England/PHEP-YYRT8NQ/2022\n",
       "   8 │     0    295  29903  Italy/EMR_AUSLRomagna_C030-22-29…\n",
       "   9 │    64    102  29903  Norway/11020/2022\n",
       "  10 │     0    174  29903  Netherlands/UT-RIVM-93929/2022\n",
       "  11 │   264    179  29903  Australia/ACT3984/2022\n",
       "  ⋮  │   ⋮      ⋮      ⋮                    ⋮\n",
       " 785 │     0    472  29903  Germany/BW-RKI-I-665987/2022\n",
       " 786 │     0    179  29903  England/QEUH-3C5CE06/2022\n",
       " 787 │   266    174  29903  Germany/BY-RKI-I-665045/2022\n",
       " 788 │   240    179  29903  England/LSPA-3C6C841/2022\n",
       " 789 │     0    179  29903  England/QEUH-3C7570C/2022\n",
       " 790 │     0    179  29903  England/ALDP-3C3EA51/2022\n",
       " 791 │     0    179  29903  England/ALDP-3C3F4E9/2022\n",
       " 792 │    39    271  29903  Germany/BW-RKI-I-666726/2022\n",
       " 793 │     0    179  29903  England/LSPA-3C3D2B4/2022\n",
       " 794 │   370    300  29903  Germany/BW-RKI-I-667351/2022\n",
       "\u001b[36m                                              773 rows omitted\u001b[0m"
      ]
     },
     "execution_count": 229,
     "metadata": {},
     "output_type": "execute_result"
    }
   ],
   "source": [
    "m = aln.M\n",
    "set_dna = [DNA_N,DNA_Gap]\n",
    "out = Array{Array{Int64},1}()\n",
    "ctparse = 0\n",
    "for clm in eachrow(m)\n",
    "    cm = countmap(clm)\n",
    "    N = length(clm)\n",
    "    cmvals =  map( (x) -> x in keys(cm) ? cm[x] : 0, set_dna)\n",
    "    push!(cmvals,N)\n",
    "    push!(out,cmvals)\n",
    "    ctparse += 1\n",
    "    if mod(ctparse,1000) == 0\n",
    "        print(\"Counted $ctparse columns\\r\")\n",
    "    end\n",
    "end\n",
    "println(\"Doing transposition...\")\n",
    "outm = transpose(hcat(out...))\n",
    "println(\"Done. Converting to a data frame...\")\n",
    "outd = DataFrame(outm,[:N,:Gap,:Total])\n",
    "outd.ID=aln.names\n",
    "outd"
   ]
  },
  {
   "cell_type": "code",
   "execution_count": 202,
   "id": "d0cfd320-5e1c-4923-825d-909ef922555b",
   "metadata": {},
   "outputs": [
    {
     "data": {
      "text/html": [
       "<div><div style = \"float: left;\"><span>3187×3 DataFrame</span></div><div style = \"float: right;\"><span style = \"font-style: italic;\">3162 rows omitted</span></div><div style = \"clear: both;\"></div></div><div class = \"data-frame\" style = \"overflow-x: scroll;\"><table class = \"data-frame\" style = \"margin-bottom: 6px;\"><thead><tr class = \"header\"><th class = \"rowNumber\" style = \"font-weight: bold; text-align: right;\">Row</th><th style = \"text-align: left;\">N</th><th style = \"text-align: left;\">Gap</th><th style = \"text-align: left;\">Total</th></tr><tr class = \"subheader headerLastRow\"><th class = \"rowNumber\" style = \"font-weight: bold; text-align: right;\"></th><th title = \"Int64\" style = \"text-align: left;\">Int64</th><th title = \"Int64\" style = \"text-align: left;\">Int64</th><th title = \"Int64\" style = \"text-align: left;\">Int64</th></tr></thead><tbody><tr><td class = \"rowNumber\" style = \"font-weight: bold; text-align: right;\">1</td><td style = \"text-align: right;\">0</td><td style = \"text-align: right;\">493</td><td style = \"text-align: right;\">496</td></tr><tr><td class = \"rowNumber\" style = \"font-weight: bold; text-align: right;\">2</td><td style = \"text-align: right;\">0</td><td style = \"text-align: right;\">0</td><td style = \"text-align: right;\">496</td></tr><tr><td class = \"rowNumber\" style = \"font-weight: bold; text-align: right;\">3</td><td style = \"text-align: right;\">0</td><td style = \"text-align: right;\">0</td><td style = \"text-align: right;\">496</td></tr><tr><td class = \"rowNumber\" style = \"font-weight: bold; text-align: right;\">4</td><td style = \"text-align: right;\">0</td><td style = \"text-align: right;\">0</td><td style = \"text-align: right;\">496</td></tr><tr><td class = \"rowNumber\" style = \"font-weight: bold; text-align: right;\">5</td><td style = \"text-align: right;\">0</td><td style = \"text-align: right;\">0</td><td style = \"text-align: right;\">496</td></tr><tr><td class = \"rowNumber\" style = \"font-weight: bold; text-align: right;\">6</td><td style = \"text-align: right;\">0</td><td style = \"text-align: right;\">0</td><td style = \"text-align: right;\">496</td></tr><tr><td class = \"rowNumber\" style = \"font-weight: bold; text-align: right;\">7</td><td style = \"text-align: right;\">0</td><td style = \"text-align: right;\">0</td><td style = \"text-align: right;\">496</td></tr><tr><td class = \"rowNumber\" style = \"font-weight: bold; text-align: right;\">8</td><td style = \"text-align: right;\">0</td><td style = \"text-align: right;\">0</td><td style = \"text-align: right;\">496</td></tr><tr><td class = \"rowNumber\" style = \"font-weight: bold; text-align: right;\">9</td><td style = \"text-align: right;\">0</td><td style = \"text-align: right;\">0</td><td style = \"text-align: right;\">496</td></tr><tr><td class = \"rowNumber\" style = \"font-weight: bold; text-align: right;\">10</td><td style = \"text-align: right;\">0</td><td style = \"text-align: right;\">0</td><td style = \"text-align: right;\">496</td></tr><tr><td class = \"rowNumber\" style = \"font-weight: bold; text-align: right;\">11</td><td style = \"text-align: right;\">0</td><td style = \"text-align: right;\">0</td><td style = \"text-align: right;\">496</td></tr><tr><td class = \"rowNumber\" style = \"font-weight: bold; text-align: right;\">12</td><td style = \"text-align: right;\">0</td><td style = \"text-align: right;\">0</td><td style = \"text-align: right;\">496</td></tr><tr><td class = \"rowNumber\" style = \"font-weight: bold; text-align: right;\">13</td><td style = \"text-align: right;\">0</td><td style = \"text-align: right;\">0</td><td style = \"text-align: right;\">496</td></tr><tr><td style = \"text-align: right;\">&vellip;</td><td style = \"text-align: right;\">&vellip;</td><td style = \"text-align: right;\">&vellip;</td><td style = \"text-align: right;\">&vellip;</td></tr><tr><td class = \"rowNumber\" style = \"font-weight: bold; text-align: right;\">3176</td><td style = \"text-align: right;\">0</td><td style = \"text-align: right;\">0</td><td style = \"text-align: right;\">496</td></tr><tr><td class = \"rowNumber\" style = \"font-weight: bold; text-align: right;\">3177</td><td style = \"text-align: right;\">0</td><td style = \"text-align: right;\">0</td><td style = \"text-align: right;\">496</td></tr><tr><td class = \"rowNumber\" style = \"font-weight: bold; text-align: right;\">3178</td><td style = \"text-align: right;\">0</td><td style = \"text-align: right;\">0</td><td style = \"text-align: right;\">496</td></tr><tr><td class = \"rowNumber\" style = \"font-weight: bold; text-align: right;\">3179</td><td style = \"text-align: right;\">0</td><td style = \"text-align: right;\">0</td><td style = \"text-align: right;\">496</td></tr><tr><td class = \"rowNumber\" style = \"font-weight: bold; text-align: right;\">3180</td><td style = \"text-align: right;\">0</td><td style = \"text-align: right;\">0</td><td style = \"text-align: right;\">496</td></tr><tr><td class = \"rowNumber\" style = \"font-weight: bold; text-align: right;\">3181</td><td style = \"text-align: right;\">0</td><td style = \"text-align: right;\">0</td><td style = \"text-align: right;\">496</td></tr><tr><td class = \"rowNumber\" style = \"font-weight: bold; text-align: right;\">3182</td><td style = \"text-align: right;\">0</td><td style = \"text-align: right;\">0</td><td style = \"text-align: right;\">496</td></tr><tr><td class = \"rowNumber\" style = \"font-weight: bold; text-align: right;\">3183</td><td style = \"text-align: right;\">0</td><td style = \"text-align: right;\">0</td><td style = \"text-align: right;\">496</td></tr><tr><td class = \"rowNumber\" style = \"font-weight: bold; text-align: right;\">3184</td><td style = \"text-align: right;\">0</td><td style = \"text-align: right;\">0</td><td style = \"text-align: right;\">496</td></tr><tr><td class = \"rowNumber\" style = \"font-weight: bold; text-align: right;\">3185</td><td style = \"text-align: right;\">0</td><td style = \"text-align: right;\">0</td><td style = \"text-align: right;\">496</td></tr><tr><td class = \"rowNumber\" style = \"font-weight: bold; text-align: right;\">3186</td><td style = \"text-align: right;\">0</td><td style = \"text-align: right;\">0</td><td style = \"text-align: right;\">496</td></tr><tr><td class = \"rowNumber\" style = \"font-weight: bold; text-align: right;\">3187</td><td style = \"text-align: right;\">0</td><td style = \"text-align: right;\">493</td><td style = \"text-align: right;\">496</td></tr></tbody></table></div>"
      ],
      "text/latex": [
       "\\begin{tabular}{r|ccc}\n",
       "\t& N & Gap & Total\\\\\n",
       "\t\\hline\n",
       "\t& Int64 & Int64 & Int64\\\\\n",
       "\t\\hline\n",
       "\t1 & 0 & 493 & 496 \\\\\n",
       "\t2 & 0 & 0 & 496 \\\\\n",
       "\t3 & 0 & 0 & 496 \\\\\n",
       "\t4 & 0 & 0 & 496 \\\\\n",
       "\t5 & 0 & 0 & 496 \\\\\n",
       "\t6 & 0 & 0 & 496 \\\\\n",
       "\t7 & 0 & 0 & 496 \\\\\n",
       "\t8 & 0 & 0 & 496 \\\\\n",
       "\t9 & 0 & 0 & 496 \\\\\n",
       "\t10 & 0 & 0 & 496 \\\\\n",
       "\t11 & 0 & 0 & 496 \\\\\n",
       "\t12 & 0 & 0 & 496 \\\\\n",
       "\t13 & 0 & 0 & 496 \\\\\n",
       "\t14 & 0 & 0 & 496 \\\\\n",
       "\t15 & 0 & 0 & 496 \\\\\n",
       "\t16 & 0 & 0 & 496 \\\\\n",
       "\t17 & 0 & 0 & 496 \\\\\n",
       "\t18 & 0 & 0 & 496 \\\\\n",
       "\t19 & 0 & 0 & 496 \\\\\n",
       "\t20 & 0 & 0 & 496 \\\\\n",
       "\t21 & 0 & 0 & 496 \\\\\n",
       "\t22 & 0 & 0 & 496 \\\\\n",
       "\t23 & 0 & 0 & 496 \\\\\n",
       "\t24 & 0 & 0 & 496 \\\\\n",
       "\t25 & 0 & 0 & 496 \\\\\n",
       "\t26 & 0 & 0 & 496 \\\\\n",
       "\t27 & 0 & 0 & 496 \\\\\n",
       "\t28 & 0 & 0 & 496 \\\\\n",
       "\t29 & 0 & 0 & 496 \\\\\n",
       "\t30 & 0 & 0 & 496 \\\\\n",
       "\t$\\dots$ & $\\dots$ & $\\dots$ & $\\dots$ \\\\\n",
       "\\end{tabular}\n"
      ],
      "text/plain": [
       "\u001b[1m3187×3 DataFrame\u001b[0m\n",
       "\u001b[1m  Row \u001b[0m│\u001b[1m N     \u001b[0m\u001b[1m Gap   \u001b[0m\u001b[1m Total \u001b[0m\n",
       "      │\u001b[90m Int64 \u001b[0m\u001b[90m Int64 \u001b[0m\u001b[90m Int64 \u001b[0m\n",
       "──────┼─────────────────────\n",
       "    1 │     0    493    496\n",
       "    2 │     0      0    496\n",
       "    3 │     0      0    496\n",
       "    4 │     0      0    496\n",
       "    5 │     0      0    496\n",
       "    6 │     0      0    496\n",
       "    7 │     0      0    496\n",
       "    8 │     0      0    496\n",
       "    9 │     0      0    496\n",
       "   10 │     0      0    496\n",
       "   11 │     0      0    496\n",
       "  ⋮   │   ⋮      ⋮      ⋮\n",
       " 3178 │     0      0    496\n",
       " 3179 │     0      0    496\n",
       " 3180 │     0      0    496\n",
       " 3181 │     0      0    496\n",
       " 3182 │     0      0    496\n",
       " 3183 │     0      0    496\n",
       " 3184 │     0      0    496\n",
       " 3185 │     0      0    496\n",
       " 3186 │     0      0    496\n",
       " 3187 │     0    493    496\n",
       "\u001b[36m           3166 rows omitted\u001b[0m"
      ]
     },
     "execution_count": 202,
     "metadata": {},
     "output_type": "execute_result"
    }
   ],
   "source": [
    "outd"
   ]
  },
  {
   "cell_type": "code",
   "execution_count": 194,
   "id": "88cc3a28-465d-450e-83b7-648a2c83b3c3",
   "metadata": {},
   "outputs": [
    {
     "data": {
      "text/html": [
       "<div><div style = \"float: left;\"><span>5×3 DataFrame</span></div><div style = \"clear: both;\"></div></div><div class = \"data-frame\" style = \"overflow-x: scroll;\"><table class = \"data-frame\" style = \"margin-bottom: 6px;\"><thead><tr class = \"header\"><th class = \"rowNumber\" style = \"font-weight: bold; text-align: right;\">Row</th><th style = \"text-align: left;\">N</th><th style = \"text-align: left;\">Gap</th><th style = \"text-align: left;\">Total</th></tr><tr class = \"subheader headerLastRow\"><th class = \"rowNumber\" style = \"font-weight: bold; text-align: right;\"></th><th title = \"Int64\" style = \"text-align: left;\">Int64</th><th title = \"Int64\" style = \"text-align: left;\">Int64</th><th title = \"Int64\" style = \"text-align: left;\">Int64</th></tr></thead><tbody><tr><td class = \"rowNumber\" style = \"font-weight: bold; text-align: right;\">1</td><td style = \"text-align: right;\">0</td><td style = \"text-align: right;\">493</td><td style = \"text-align: right;\">496</td></tr><tr><td class = \"rowNumber\" style = \"font-weight: bold; text-align: right;\">2</td><td style = \"text-align: right;\">0</td><td style = \"text-align: right;\">0</td><td style = \"text-align: right;\">496</td></tr><tr><td class = \"rowNumber\" style = \"font-weight: bold; text-align: right;\">3</td><td style = \"text-align: right;\">0</td><td style = \"text-align: right;\">0</td><td style = \"text-align: right;\">496</td></tr><tr><td class = \"rowNumber\" style = \"font-weight: bold; text-align: right;\">4</td><td style = \"text-align: right;\">0</td><td style = \"text-align: right;\">0</td><td style = \"text-align: right;\">496</td></tr><tr><td class = \"rowNumber\" style = \"font-weight: bold; text-align: right;\">5</td><td style = \"text-align: right;\">0</td><td style = \"text-align: right;\">0</td><td style = \"text-align: right;\">496</td></tr></tbody></table></div>"
      ],
      "text/latex": [
       "\\begin{tabular}{r|ccc}\n",
       "\t& N & Gap & Total\\\\\n",
       "\t\\hline\n",
       "\t& Int64 & Int64 & Int64\\\\\n",
       "\t\\hline\n",
       "\t1 & 0 & 493 & 496 \\\\\n",
       "\t2 & 0 & 0 & 496 \\\\\n",
       "\t3 & 0 & 0 & 496 \\\\\n",
       "\t4 & 0 & 0 & 496 \\\\\n",
       "\t5 & 0 & 0 & 496 \\\\\n",
       "\\end{tabular}\n"
      ],
      "text/plain": [
       "\u001b[1m5×3 DataFrame\u001b[0m\n",
       "\u001b[1m Row \u001b[0m│\u001b[1m N     \u001b[0m\u001b[1m Gap   \u001b[0m\u001b[1m Total \u001b[0m\n",
       "     │\u001b[90m Int64 \u001b[0m\u001b[90m Int64 \u001b[0m\u001b[90m Int64 \u001b[0m\n",
       "─────┼─────────────────────\n",
       "   1 │     0    493    496\n",
       "   2 │     0      0    496\n",
       "   3 │     0      0    496\n",
       "   4 │     0      0    496\n",
       "   5 │     0      0    496"
      ]
     },
     "execution_count": 194,
     "metadata": {},
     "output_type": "execute_result"
    }
   ],
   "source": [
    "\n",
    "\n",
    "#DataFrame(t(dini),[:A,:B,:C])\n",
    "\n"
   ]
  },
  {
   "cell_type": "code",
   "execution_count": 203,
   "id": "509db58f-0b02-44ab-9f1c-a15f5cc63cde",
   "metadata": {},
   "outputs": [
    {
     "data": {
      "text/html": [
       "<div><div style = \"float: left;\"><span>3187×3 DataFrame</span></div><div style = \"float: right;\"><span style = \"font-style: italic;\">3162 rows omitted</span></div><div style = \"clear: both;\"></div></div><div class = \"data-frame\" style = \"overflow-x: scroll;\"><table class = \"data-frame\" style = \"margin-bottom: 6px;\"><thead><tr class = \"header\"><th class = \"rowNumber\" style = \"font-weight: bold; text-align: right;\">Row</th><th style = \"text-align: left;\">N</th><th style = \"text-align: left;\">Gap</th><th style = \"text-align: left;\">Total</th></tr><tr class = \"subheader headerLastRow\"><th class = \"rowNumber\" style = \"font-weight: bold; text-align: right;\"></th><th title = \"Int64\" style = \"text-align: left;\">Int64</th><th title = \"Int64\" style = \"text-align: left;\">Int64</th><th title = \"Int64\" style = \"text-align: left;\">Int64</th></tr></thead><tbody><tr><td class = \"rowNumber\" style = \"font-weight: bold; text-align: right;\">1</td><td style = \"text-align: right;\">0</td><td style = \"text-align: right;\">493</td><td style = \"text-align: right;\">496</td></tr><tr><td class = \"rowNumber\" style = \"font-weight: bold; text-align: right;\">2</td><td style = \"text-align: right;\">0</td><td style = \"text-align: right;\">0</td><td style = \"text-align: right;\">496</td></tr><tr><td class = \"rowNumber\" style = \"font-weight: bold; text-align: right;\">3</td><td style = \"text-align: right;\">0</td><td style = \"text-align: right;\">0</td><td style = \"text-align: right;\">496</td></tr><tr><td class = \"rowNumber\" style = \"font-weight: bold; text-align: right;\">4</td><td style = \"text-align: right;\">0</td><td style = \"text-align: right;\">0</td><td style = \"text-align: right;\">496</td></tr><tr><td class = \"rowNumber\" style = \"font-weight: bold; text-align: right;\">5</td><td style = \"text-align: right;\">0</td><td style = \"text-align: right;\">0</td><td style = \"text-align: right;\">496</td></tr><tr><td class = \"rowNumber\" style = \"font-weight: bold; text-align: right;\">6</td><td style = \"text-align: right;\">0</td><td style = \"text-align: right;\">0</td><td style = \"text-align: right;\">496</td></tr><tr><td class = \"rowNumber\" style = \"font-weight: bold; text-align: right;\">7</td><td style = \"text-align: right;\">0</td><td style = \"text-align: right;\">0</td><td style = \"text-align: right;\">496</td></tr><tr><td class = \"rowNumber\" style = \"font-weight: bold; text-align: right;\">8</td><td style = \"text-align: right;\">0</td><td style = \"text-align: right;\">0</td><td style = \"text-align: right;\">496</td></tr><tr><td class = \"rowNumber\" style = \"font-weight: bold; text-align: right;\">9</td><td style = \"text-align: right;\">0</td><td style = \"text-align: right;\">0</td><td style = \"text-align: right;\">496</td></tr><tr><td class = \"rowNumber\" style = \"font-weight: bold; text-align: right;\">10</td><td style = \"text-align: right;\">0</td><td style = \"text-align: right;\">0</td><td style = \"text-align: right;\">496</td></tr><tr><td class = \"rowNumber\" style = \"font-weight: bold; text-align: right;\">11</td><td style = \"text-align: right;\">0</td><td style = \"text-align: right;\">0</td><td style = \"text-align: right;\">496</td></tr><tr><td class = \"rowNumber\" style = \"font-weight: bold; text-align: right;\">12</td><td style = \"text-align: right;\">0</td><td style = \"text-align: right;\">0</td><td style = \"text-align: right;\">496</td></tr><tr><td class = \"rowNumber\" style = \"font-weight: bold; text-align: right;\">13</td><td style = \"text-align: right;\">0</td><td style = \"text-align: right;\">0</td><td style = \"text-align: right;\">496</td></tr><tr><td style = \"text-align: right;\">&vellip;</td><td style = \"text-align: right;\">&vellip;</td><td style = \"text-align: right;\">&vellip;</td><td style = \"text-align: right;\">&vellip;</td></tr><tr><td class = \"rowNumber\" style = \"font-weight: bold; text-align: right;\">3176</td><td style = \"text-align: right;\">0</td><td style = \"text-align: right;\">0</td><td style = \"text-align: right;\">496</td></tr><tr><td class = \"rowNumber\" style = \"font-weight: bold; text-align: right;\">3177</td><td style = \"text-align: right;\">0</td><td style = \"text-align: right;\">0</td><td style = \"text-align: right;\">496</td></tr><tr><td class = \"rowNumber\" style = \"font-weight: bold; text-align: right;\">3178</td><td style = \"text-align: right;\">0</td><td style = \"text-align: right;\">0</td><td style = \"text-align: right;\">496</td></tr><tr><td class = \"rowNumber\" style = \"font-weight: bold; text-align: right;\">3179</td><td style = \"text-align: right;\">0</td><td style = \"text-align: right;\">0</td><td style = \"text-align: right;\">496</td></tr><tr><td class = \"rowNumber\" style = \"font-weight: bold; text-align: right;\">3180</td><td style = \"text-align: right;\">0</td><td style = \"text-align: right;\">0</td><td style = \"text-align: right;\">496</td></tr><tr><td class = \"rowNumber\" style = \"font-weight: bold; text-align: right;\">3181</td><td style = \"text-align: right;\">0</td><td style = \"text-align: right;\">0</td><td style = \"text-align: right;\">496</td></tr><tr><td class = \"rowNumber\" style = \"font-weight: bold; text-align: right;\">3182</td><td style = \"text-align: right;\">0</td><td style = \"text-align: right;\">0</td><td style = \"text-align: right;\">496</td></tr><tr><td class = \"rowNumber\" style = \"font-weight: bold; text-align: right;\">3183</td><td style = \"text-align: right;\">0</td><td style = \"text-align: right;\">0</td><td style = \"text-align: right;\">496</td></tr><tr><td class = \"rowNumber\" style = \"font-weight: bold; text-align: right;\">3184</td><td style = \"text-align: right;\">0</td><td style = \"text-align: right;\">0</td><td style = \"text-align: right;\">496</td></tr><tr><td class = \"rowNumber\" style = \"font-weight: bold; text-align: right;\">3185</td><td style = \"text-align: right;\">0</td><td style = \"text-align: right;\">0</td><td style = \"text-align: right;\">496</td></tr><tr><td class = \"rowNumber\" style = \"font-weight: bold; text-align: right;\">3186</td><td style = \"text-align: right;\">0</td><td style = \"text-align: right;\">0</td><td style = \"text-align: right;\">496</td></tr><tr><td class = \"rowNumber\" style = \"font-weight: bold; text-align: right;\">3187</td><td style = \"text-align: right;\">0</td><td style = \"text-align: right;\">493</td><td style = \"text-align: right;\">496</td></tr></tbody></table></div>"
      ],
      "text/latex": [
       "\\begin{tabular}{r|ccc}\n",
       "\t& N & Gap & Total\\\\\n",
       "\t\\hline\n",
       "\t& Int64 & Int64 & Int64\\\\\n",
       "\t\\hline\n",
       "\t1 & 0 & 493 & 496 \\\\\n",
       "\t2 & 0 & 0 & 496 \\\\\n",
       "\t3 & 0 & 0 & 496 \\\\\n",
       "\t4 & 0 & 0 & 496 \\\\\n",
       "\t5 & 0 & 0 & 496 \\\\\n",
       "\t6 & 0 & 0 & 496 \\\\\n",
       "\t7 & 0 & 0 & 496 \\\\\n",
       "\t8 & 0 & 0 & 496 \\\\\n",
       "\t9 & 0 & 0 & 496 \\\\\n",
       "\t10 & 0 & 0 & 496 \\\\\n",
       "\t11 & 0 & 0 & 496 \\\\\n",
       "\t12 & 0 & 0 & 496 \\\\\n",
       "\t13 & 0 & 0 & 496 \\\\\n",
       "\t14 & 0 & 0 & 496 \\\\\n",
       "\t15 & 0 & 0 & 496 \\\\\n",
       "\t16 & 0 & 0 & 496 \\\\\n",
       "\t17 & 0 & 0 & 496 \\\\\n",
       "\t18 & 0 & 0 & 496 \\\\\n",
       "\t19 & 0 & 0 & 496 \\\\\n",
       "\t20 & 0 & 0 & 496 \\\\\n",
       "\t21 & 0 & 0 & 496 \\\\\n",
       "\t22 & 0 & 0 & 496 \\\\\n",
       "\t23 & 0 & 0 & 496 \\\\\n",
       "\t24 & 0 & 0 & 496 \\\\\n",
       "\t25 & 0 & 0 & 496 \\\\\n",
       "\t26 & 0 & 0 & 496 \\\\\n",
       "\t27 & 0 & 0 & 496 \\\\\n",
       "\t28 & 0 & 0 & 496 \\\\\n",
       "\t29 & 0 & 0 & 496 \\\\\n",
       "\t30 & 0 & 0 & 496 \\\\\n",
       "\t$\\dots$ & $\\dots$ & $\\dots$ & $\\dots$ \\\\\n",
       "\\end{tabular}\n"
      ],
      "text/plain": [
       "\u001b[1m3187×3 DataFrame\u001b[0m\n",
       "\u001b[1m  Row \u001b[0m│\u001b[1m N     \u001b[0m\u001b[1m Gap   \u001b[0m\u001b[1m Total \u001b[0m\n",
       "      │\u001b[90m Int64 \u001b[0m\u001b[90m Int64 \u001b[0m\u001b[90m Int64 \u001b[0m\n",
       "──────┼─────────────────────\n",
       "    1 │     0    493    496\n",
       "    2 │     0      0    496\n",
       "    3 │     0      0    496\n",
       "    4 │     0      0    496\n",
       "    5 │     0      0    496\n",
       "    6 │     0      0    496\n",
       "    7 │     0      0    496\n",
       "    8 │     0      0    496\n",
       "    9 │     0      0    496\n",
       "   10 │     0      0    496\n",
       "   11 │     0      0    496\n",
       "  ⋮   │   ⋮      ⋮      ⋮\n",
       " 3178 │     0      0    496\n",
       " 3179 │     0      0    496\n",
       " 3180 │     0      0    496\n",
       " 3181 │     0      0    496\n",
       " 3182 │     0      0    496\n",
       " 3183 │     0      0    496\n",
       " 3184 │     0      0    496\n",
       " 3185 │     0      0    496\n",
       " 3186 │     0      0    496\n",
       " 3187 │     0    493    496\n",
       "\u001b[36m           3166 rows omitted\u001b[0m"
      ]
     },
     "execution_count": 203,
     "metadata": {},
     "output_type": "execute_result"
    }
   ],
   "source": [
    "@rput outd"
   ]
  },
  {
   "cell_type": "code",
   "execution_count": 204,
   "id": "4d6d1f69-9bd4-475e-8b7b-b34e1b911ab2",
   "metadata": {},
   "outputs": [
    {
     "ename": "RCall.REvalError",
     "evalue": "REvalError: Error in `geom_point()`:\n! Problem while computing aesthetics.\nℹ Error occurred in the 1st layer.\nCaused by error in `FUN()`:\n! object 'Row' not found\nBacktrace:\n     ▆\n  1. ├─base (local) `<fn>`(x)\n  2. ├─ggplot2:::print.ggplot(x)\n  3. │ ├─ggplot2::ggplot_build(x)\n  4. │ └─ggplot2:::ggplot_build.ggplot(x)\n  5. │   └─ggplot2:::by_layer(...)\n  6. │     ├─rlang::try_fetch(...)\n  7. │     │ ├─base::tryCatch(...)\n  8. │     │ │ └─base (local) tryCatchList(expr, classes, parentenv, handlers)\n  9. │     │ │   └─base (local) tryCatchOne(expr, names, parentenv, handlers[[1L]])\n 10. │     │ │     └─base (local) doTryCatch(return(expr), name, parentenv, handler)\n 11. │     │ └─base::withCallingHandlers(...)\n 12. │     └─ggplot2 (local) f(l = layers[[i]], d = data[[i]])\n 13. │       └─l$compute_aesthetics(d, plot)\n 14. │         └─ggplot2 (local) compute_aesthetics(..., self = self)\n 15. │           └─ggplot2:::scales_add_defaults(...)\n 16. │             └─base::lapply(aesthetics[new_aesthetics], eval_tidy, data = data)\n 17. │               └─rlang (local) FUN(X[[i]], ...)\n 18. └─base::.handleSimpleError(...)\n 19.   └─rlang (local) h(simpleError(msg, call))\n 20.     └─handlers[[1L]](cnd)\n 21.       └─cli::cli_abort(...)\n 22.         └─rlang::abort(...)",
     "output_type": "error",
     "traceback": [
      "REvalError: Error in `geom_point()`:\n! Problem while computing aesthetics.\nℹ Error occurred in the 1st layer.\nCaused by error in `FUN()`:\n! object 'Row' not found\nBacktrace:\n     ▆\n  1. ├─base (local) `<fn>`(x)\n  2. ├─ggplot2:::print.ggplot(x)\n  3. │ ├─ggplot2::ggplot_build(x)\n  4. │ └─ggplot2:::ggplot_build.ggplot(x)\n  5. │   └─ggplot2:::by_layer(...)\n  6. │     ├─rlang::try_fetch(...)\n  7. │     │ ├─base::tryCatch(...)\n  8. │     │ │ └─base (local) tryCatchList(expr, classes, parentenv, handlers)\n  9. │     │ │   └─base (local) tryCatchOne(expr, names, parentenv, handlers[[1L]])\n 10. │     │ │     └─base (local) doTryCatch(return(expr), name, parentenv, handler)\n 11. │     │ └─base::withCallingHandlers(...)\n 12. │     └─ggplot2 (local) f(l = layers[[i]], d = data[[i]])\n 13. │       └─l$compute_aesthetics(d, plot)\n 14. │         └─ggplot2 (local) compute_aesthetics(..., self = self)\n 15. │           └─ggplot2:::scales_add_defaults(...)\n 16. │             └─base::lapply(aesthetics[new_aesthetics], eval_tidy, data = data)\n 17. │               └─rlang (local) FUN(X[[i]], ...)\n 18. └─base::.handleSimpleError(...)\n 19.   └─rlang (local) h(simpleError(msg, call))\n 20.     └─handlers[[1L]](cnd)\n 21.       └─cli::cli_abort(...)\n 22.         └─rlang::abort(...)",
      "",
      "Stacktrace:",
      "  [1] handle_eval_stderr(; as_warning::Bool)",
      "    @ RCall ~/.julia/packages/RCall/Wyd74/src/io.jl:174",
      "  [2] rprint(io::IOContext{IOBuffer}, s::Ptr{VecSxp})",
      "    @ RCall ~/.julia/packages/RCall/Wyd74/src/io.jl:36",
      "  [3] rprint",
      "    @ ~/.julia/packages/RCall/Wyd74/src/io.jl:46 [inlined]",
      "  [4] show",
      "    @ ~/.julia/packages/RCall/Wyd74/src/io.jl:52 [inlined]",
      "  [5] show",
      "    @ ./multimedia.jl:47 [inlined]",
      "  [6] limitstringmime(mime::MIME{Symbol(\"text/plain\")}, x::RObject{VecSxp})",
      "    @ IJulia ~/.julia/packages/IJulia/AQu2H/src/inline.jl:43",
      "  [7] display_mimestring",
      "    @ ~/.julia/packages/IJulia/AQu2H/src/display.jl:71 [inlined]",
      "  [8] display_dict(x::RObject{VecSxp})",
      "    @ IJulia ~/.julia/packages/IJulia/AQu2H/src/display.jl:102",
      "  [9] #invokelatest#2",
      "    @ ./essentials.jl:729 [inlined]",
      " [10] invokelatest",
      "    @ ./essentials.jl:726 [inlined]",
      " [11] execute_request(socket::ZMQ.Socket, msg::IJulia.Msg)",
      "    @ IJulia ~/.julia/packages/IJulia/AQu2H/src/execute_request.jl:112",
      " [12] #invokelatest#2",
      "    @ ./essentials.jl:729 [inlined]",
      " [13] invokelatest",
      "    @ ./essentials.jl:726 [inlined]",
      " [14] eventloop(socket::ZMQ.Socket)",
      "    @ IJulia ~/.julia/packages/IJulia/AQu2H/src/eventloop.jl:8",
      " [15] (::IJulia.var\"#15#18\")()",
      "    @ IJulia ./task.jl:484"
     ]
    }
   ],
   "source": [
    "RCall.rcall_p(:options, rcalljl_options=Dict(:width => 1000, :height => 800))\n",
    "R\"\"\"\n",
    "ggplot(data=outd) + geom_point(aes(x=Row,y=N))\n",
    "\"\"\""
   ]
  },
  {
   "cell_type": "code",
   "execution_count": 22,
   "id": "f8ff71cd-8f57-4f5c-b9b0-b149d6c78f4e",
   "metadata": {},
   "outputs": [
    {
     "name": "stderr",
     "output_type": "stream",
     "text": [
      "Reading aligment /mnt/raid/covid-phylogeny/audines11/rez/lineages/BA.2/alignment_nextclade.fasta.gz\n",
      "\n",
      "Parsed 480000 sequences \n",
      "Reading alignment finished, 134575 sequences were skipped due to atypical symbols\n",
      "\n"
     ]
    },
    {
     "data": {
      "text/plain": [
       "Alignment([\"Germany/BW-RKI-I-667903/2022\", \"Germany/BW-RKI-I-667524/2022\", \"England/ALDP-3C3EBE5/2022\", \"Germany/BW-RKI-I-667902/2022\", \"Denmark/DCGC-455290/2022\", \"Germany/BW-RKI-I-667089/2022\", \"England/ALDP-3C3F6D4/2022\", \"Germany/BW-RKI-I-667907/2022\", \"England/QEUH-3C5DA7A/2022\", \"England/QEUH-3C5EB3A/2022\"  …  \"Denmark/DCGC-455285/2022\", \"England/ALDP-3C4A278/2022\", \"England/PLYM-3C48FA0/2022\", \"Germany/BW-RKI-I-667522/2022\", \"England/ALDP-3C3F3A0/2022\", \"Germany/BW-RKI-I-667901/2022\", \"England/LSPA-3C3FCE1/2022\", \"England/LSPA-3C3EEFB/2022\", \"England/ALDP-3C4A296/2022\", \"Spain/MD-HULP-40481773/2022\"], BioSymbols.DNA[DNA_Gap DNA_Gap … DNA_A DNA_A; DNA_Gap DNA_Gap … DNA_Gap DNA_Gap; … ; DNA_Gap DNA_Gap … DNA_Gap DNA_Gap; DNA_Gap DNA_Gap … DNA_Gap DNA_Gap], Int32[1, 1, 1, 1, 1, 1, 1, 1, 1, 1  …  1, 1, 1, 1, 1, 1, 1, 1, 1, 1], Dict{String, Int32}(\"Scotland/QEUH-3BF2FB5/2022\" => 311832, \"Portugal/PT29200/2022\" => 149926, \"England/DHSC-CYB5A19/2022\" => 312628, \"Wales/PHWC-PETBZM/2022\" => 194050, \"Italy/VEN-IZSVe-22RS8104-3_RO/2022\" => 440046, \"France/BRE-IPP23931/2022\" => 79399, \"Switzerland/BE-ETHZ-36484445/2022\" => 247330, \"Denmark/DCGC-398380/2022\" => 190042, \"England/QEUH-3BBCC47/2022\" => 441617, \"Belgium/rega-41986/2022\" => 160170…))"
      ]
     },
     "execution_count": 22,
     "metadata": {},
     "output_type": "execute_result"
    }
   ],
   "source": [
    "# alnL = JuliaClusterAndTreeTools.Alignment(\"/mnt/raid/covid-phylogeny/audines11/rez/lineages/BA.2/alignment_nextclade.fasta.gz\")"
   ]
  },
  {
   "cell_type": "code",
   "execution_count": 8,
   "id": "374e62bd-43bf-4220-9164-71288a87e008",
   "metadata": {},
   "outputs": [
    {
     "ename": "LoadError",
     "evalue": "UndefVarError: alnL not defined",
     "output_type": "error",
     "traceback": [
      "UndefVarError: alnL not defined",
      "",
      "Stacktrace:",
      " [1] top-level scope",
      "   @ In[8]:1",
      " [2] eval",
      "   @ ./boot.jl:368 [inlined]",
      " [3] include_string(mapexpr::typeof(REPL.softscope), mod::Module, code::String, filename::String)",
      "   @ Base ./loading.jl:1428"
     ]
    }
   ],
   "source": []
  }
 ],
 "metadata": {
  "kernelspec": {
   "display_name": "Julia 1.8.3",
   "language": "julia",
   "name": "julia-1.8"
  },
  "language_info": {
   "file_extension": ".jl",
   "mimetype": "application/julia",
   "name": "julia",
   "version": "1.8.3"
  }
 },
 "nbformat": 4,
 "nbformat_minor": 5
}
