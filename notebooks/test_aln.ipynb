{
 "cells": [
  {
   "cell_type": "code",
   "execution_count": 17,
   "id": "881dba9a-ec09-4b60-bdea-e926b7db13c0",
   "metadata": {},
   "outputs": [
    {
     "data": {
      "text/plain": [
       "RObject{StrSxp}\n",
       "[1] \"ggplot2\"   \"stats\"     \"graphics\"  \"grDevices\" \"utils\"     \"datasets\" \n",
       "[7] \"methods\"   \"base\"     \n"
      ]
     },
     "execution_count": 17,
     "metadata": {},
     "output_type": "execute_result"
    }
   ],
   "source": [
    "using Revise\n",
    "using Pkg\n",
    "using RCall\n",
    "R\"\"\"\n",
    "library('ggplot2')\n",
    "\"\"\""
   ]
  },
  {
   "cell_type": "code",
   "execution_count": 18,
   "id": "f45ae8f9-7c85-4276-856e-aca10cd79273",
   "metadata": {},
   "outputs": [
    {
     "name": "stderr",
     "output_type": "stream",
     "text": [
      "\u001b[32m\u001b[1m  Activating\u001b[22m\u001b[39m project at `/mnt/raid/covid-phylogeny/scripts/julia_modules/JuliaClusterAndTreeTools`\n"
     ]
    }
   ],
   "source": [
    "Pkg.activate(\"/mnt/raid/covid-phylogeny/scripts/julia_modules/JuliaClusterAndTreeTools\")\n",
    "using JuliaClusterAndTreeTools"
   ]
  },
  {
   "cell_type": "code",
   "execution_count": 58,
   "id": "9e8e3523-e236-404b-a232-4fcfd8be32a3",
   "metadata": {},
   "outputs": [
    {
     "data": {
      "text/plain": [
       "5-element Vector{DNA}:\n",
       " DNA_A\n",
       " DNA_Gap\n",
       " DNA_T\n",
       " DNA_T\n",
       " DNA_G"
      ]
     },
     "execution_count": 58,
     "metadata": {},
     "output_type": "execute_result"
    }
   ],
   "source": [
    "DNA_A\n",
    "typeof(DNA_A)\n",
    "aa=BioSequences.@dna_str(\"A-TTG\")\n",
    "collect(aa)"
   ]
  },
  {
   "cell_type": "code",
   "execution_count": 25,
   "id": "6b0e2441-5111-4a3b-af67-18f91b51fde0",
   "metadata": {},
   "outputs": [
    {
     "name": "stdout",
     "output_type": "stream",
     "text": [
      "4040"
     ]
    }
   ],
   "source": [
    "function f()\n",
    "    a ::Array{UInt8,2}  = fill(0, 20, 200)\n",
    "    print(Base.summarysize(a))\n",
    "end\n",
    "f()"
   ]
  },
  {
   "cell_type": "code",
   "execution_count": 23,
   "id": "871d29c3-d23a-4557-8615-6a06577ef29a",
   "metadata": {},
   "outputs": [
    {
     "name": "stdout",
     "output_type": "stream",
     "text": [
      "16040"
     ]
    }
   ],
   "source": [
    "function f()\n",
    "    a ::Array{Char,2}  = fill('-', 20, 200)\n",
    "    print(Base.summarysize(a))\n",
    "end\n",
    "f()"
   ]
  },
  {
   "cell_type": "code",
   "execution_count": 37,
   "id": "560c8cf6-d154-4f35-b64a-cdfeb62e04ae",
   "metadata": {},
   "outputs": [
    {
     "name": "stdout",
     "output_type": "stream",
     "text": [
      "4040"
     ]
    }
   ],
   "source": [
    "function f()\n",
    "    a ::Array{DNA,2}  = fill(DNA_Gap, 20, 200)\n",
    "    #a ::Array{Char,2}  = fill('-', 20, 200)\n",
    "    print(Base.summarysize(a))\n",
    "end\n",
    "f()"
   ]
  },
  {
   "cell_type": "code",
   "execution_count": 16,
   "id": "c235e153-a851-4895-b741-8a7426aa1e6e",
   "metadata": {},
   "outputs": [
    {
     "data": {
      "text/plain": [
       "UndefInitializer(): array initializer with undefined values"
      ]
     },
     "execution_count": 16,
     "metadata": {},
     "output_type": "execute_result"
    }
   ],
   "source": [
    "a=\" AAA\"\n",
    "a=undef"
   ]
  },
  {
   "cell_type": "code",
   "execution_count": 20,
   "id": "54c3231a-b9bf-4303-a85a-ce50b0d6604a",
   "metadata": {},
   "outputs": [
    {
     "name": "stderr",
     "output_type": "stream",
     "text": [
      "Reading aligment ./test500.fasta\n",
      "\n",
      "\n",
      "Reading alignment finished, 4 sequences were skipped due to atypical symbols\n",
      "\n"
     ]
    },
    {
     "data": {
      "text/plain": [
       "Alignment([\"England/MILK-344B0FD/2022\", \"Scotland/QEUH-3C507DA/2022\", \"England/PLYM-3C3A77C/2022\", \"Denmark/DCGC-368291/2022\", \"Scotland/NEWC-3C54396/2022\", \"Scotland/QEUH-3C5725A/2022\", \"Denmark/DCGC-457572/2022\", \"Scotland/QEUH-3C508D7/2022\", \"Denmark/DCGC-457111/2022\", \"Denmark/DCGC-457669/2022\"  …  \"England/QEUH-3CB9B5B/2022\", \"Germany/BW-RKI-I-697324/2022\", \"Portugal/PT31056/2022\", \"England/LSPA-3C7ACEA/2022\", \"Scotland/QEUH-3700932/2022\", \"Scotland/QEUH-3870FB2/2022\", \"England/QEUH-3BD3C86/2022\", \"Sweden/1309418/2022\", \"England/PLYM-38B44C2/2022\", \"England/QEUH-3C551C8/2022\"], BioSymbols.DNA[DNA_Gap DNA_A … DNA_T DNA_Gap; DNA_Gap DNA_A … DNA_T DNA_Gap; … ; DNA_Gap DNA_A … DNA_T DNA_Gap; DNA_Gap DNA_A … DNA_T DNA_Gap], Int32[7564, 1351, 1049, 793, 547, 520, 484, 412, 387, 365  …  24, 24, 24, 24, 24, 24, 24, 24, 24, 24], Dict{String, Int32}(\"England/LSPA-3C3C938/2022\" => 395, \"Scotland/QEUH-3870FB2/2022\" => 492, \"England/ALDP-371B943/2022\" => 236, \"England/LSPA-3C847A0/2022\" => 169, \"Denmark/DCGC-457572/2022\" => 7, \"Norway/14284/2022\" => 475, \"England/LSPA-366C786/2022\" => 163, \"Scotland/QEUH-3C2A0ED/2022\" => 478, \"England/LSPA-366C8A1/2022\" => 21, \"Portugal/PT27868/2022\" => 167…))"
      ]
     },
     "execution_count": 20,
     "metadata": {},
     "output_type": "execute_result"
    }
   ],
   "source": [
    "aln = JuliaClusterAndTreeTools.Alignment(\"./test500.fasta\")\n",
    "# @rput aln_cons"
   ]
  },
  {
   "cell_type": "code",
   "execution_count": 6,
   "id": "4d6d1f69-9bd4-475e-8b7b-b34e1b911ab2",
   "metadata": {},
   "outputs": [
    {
     "data": {
      "image/png": "[encoded data removed]"
     },
     "metadata": {},
     "output_type": "display_data"
    },
    {
     "data": {
      "text/plain": [
       "RObject{VecSxp}\n"
      ]
     },
     "execution_count": 6,
     "metadata": {},
     "output_type": "execute_result"
    }
   ],
   "source": [
    "# RCall.rcall_p(:options, rcalljl_options=Dict(:width => 1000, :height => 800))\n",
    "# R\"\"\"\n",
    "# ggplot(data=data.frame(E=aln_cons,n=1:length(aln_cons))) + geom_point(aes(x=n,y=E))\n",
    "# \"\"\""
   ]
  },
  {
   "cell_type": "code",
   "execution_count": 22,
   "id": "f8ff71cd-8f57-4f5c-b9b0-b149d6c78f4e",
   "metadata": {},
   "outputs": [
    {
     "name": "stderr",
     "output_type": "stream",
     "text": [
      "Reading aligment /mnt/raid/covid-phylogeny/audines11/rez/lineages/BA.2/alignment_nextclade.fasta.gz\n",
      "\n",
      "Parsed 480000 sequences \n",
      "Reading alignment finished, 134575 sequences were skipped due to atypical symbols\n",
      "\n"
     ]
    },
    {
     "data": {
      "text/plain": [
       "Alignment([\"Germany/BW-RKI-I-667903/2022\", \"Germany/BW-RKI-I-667524/2022\", \"England/ALDP-3C3EBE5/2022\", \"Germany/BW-RKI-I-667902/2022\", \"Denmark/DCGC-455290/2022\", \"Germany/BW-RKI-I-667089/2022\", \"England/ALDP-3C3F6D4/2022\", \"Germany/BW-RKI-I-667907/2022\", \"England/QEUH-3C5DA7A/2022\", \"England/QEUH-3C5EB3A/2022\"  …  \"Denmark/DCGC-455285/2022\", \"England/ALDP-3C4A278/2022\", \"England/PLYM-3C48FA0/2022\", \"Germany/BW-RKI-I-667522/2022\", \"England/ALDP-3C3F3A0/2022\", \"Germany/BW-RKI-I-667901/2022\", \"England/LSPA-3C3FCE1/2022\", \"England/LSPA-3C3EEFB/2022\", \"England/ALDP-3C4A296/2022\", \"Spain/MD-HULP-40481773/2022\"], BioSymbols.DNA[DNA_Gap DNA_Gap … DNA_A DNA_A; DNA_Gap DNA_Gap … DNA_Gap DNA_Gap; … ; DNA_Gap DNA_Gap … DNA_Gap DNA_Gap; DNA_Gap DNA_Gap … DNA_Gap DNA_Gap], Int32[1, 1, 1, 1, 1, 1, 1, 1, 1, 1  …  1, 1, 1, 1, 1, 1, 1, 1, 1, 1], Dict{String, Int32}(\"Scotland/QEUH-3BF2FB5/2022\" => 311832, \"Portugal/PT29200/2022\" => 149926, \"England/DHSC-CYB5A19/2022\" => 312628, \"Wales/PHWC-PETBZM/2022\" => 194050, \"Italy/VEN-IZSVe-22RS8104-3_RO/2022\" => 440046, \"France/BRE-IPP23931/2022\" => 79399, \"Switzerland/BE-ETHZ-36484445/2022\" => 247330, \"Denmark/DCGC-398380/2022\" => 190042, \"England/QEUH-3BBCC47/2022\" => 441617, \"Belgium/rega-41986/2022\" => 160170…))"
      ]
     },
     "execution_count": 22,
     "metadata": {},
     "output_type": "execute_result"
    }
   ],
   "source": [
    "alnL = JuliaClusterAndTreeTools.Alignment(\"/mnt/raid/covid-phylogeny/audines11/rez/lineages/BA.2/alignment_nextclade.fasta.gz\")"
   ]
  },
  {
   "cell_type": "code",
   "execution_count": 8,
   "id": "374e62bd-43bf-4220-9164-71288a87e008",
   "metadata": {},
   "outputs": [
    {
     "ename": "LoadError",
     "evalue": "UndefVarError: alnL not defined",
     "output_type": "error",
     "traceback": [
      "UndefVarError: alnL not defined",
      "",
      "Stacktrace:",
      " [1] top-level scope",
      "   @ In[8]:1",
      " [2] eval",
      "   @ ./boot.jl:368 [inlined]",
      " [3] include_string(mapexpr::typeof(REPL.softscope), mod::Module, code::String, filename::String)",
      "   @ Base ./loading.jl:1428"
     ]
    }
   ],
   "source": [
    "# aln_cons = JuliaClusterAndTreeTools.aln_conservation(alnL)"
   ]
  }
 ],
 "metadata": {
  "kernelspec": {
   "display_name": "Julia 1.8.3",
   "language": "julia",
   "name": "julia-1.8"
  },
  "language_info": {
   "file_extension": ".jl",
   "mimetype": "application/julia",
   "name": "julia",
   "version": "1.8.3"
  }
 },
 "nbformat": 4,
 "nbformat_minor": 5
}
