{
 "cells": [
  {
   "cell_type": "code",
   "execution_count": 1,
   "id": "881dba9a-ec09-4b60-bdea-e926b7db13c0",
   "metadata": {},
   "outputs": [
    {
     "name": "stderr",
     "output_type": "stream",
     "text": [
      "\u001b[32m\u001b[1m  Activating\u001b[22m\u001b[39m project at `~/JuliaClusterAndTreeTools`\n",
      "┌ Info: Precompiling JuliaClusterAndTreeTools [588df720-2ee6-48a1-913e-41e92462f556]\n",
      "└ @ Base loading.jl:1664\n"
     ]
    },
    {
     "data": {
      "text/plain": [
       "RObject{StrSxp}\n",
       "[1] \"ggplot2\"   \"stats\"     \"graphics\"  \"grDevices\" \"utils\"     \"datasets\" \n",
       "[7] \"methods\"   \"base\"     \n"
      ]
     },
     "execution_count": 1,
     "metadata": {},
     "output_type": "execute_result"
    }
   ],
   "source": [
    "using Revise\n",
    "using Pkg\n",
    "using RCall\n",
    "Pkg.activate(\"/home/galzbutas/JuliaClusterAndTreeTools\")\n",
    "using JuliaClusterAndTreeTools\n",
    "R\"\"\"\n",
    "library('ggplot2')\n",
    "\"\"\""
   ]
  },
  {
   "cell_type": "code",
   "execution_count": 4,
   "id": "54c3231a-b9bf-4303-a85a-ce50b0d6604a",
   "metadata": {},
   "outputs": [
    {
     "name": "stderr",
     "output_type": "stream",
     "text": [
      "Reading aligment ./test500.fasta\n",
      "\n",
      "Parsed 400 sequences \n",
      "Reading alignment finished, 4 sequences were skipped due to atypical symbols\n",
      "\n"
     ]
    },
    {
     "data": {
      "text/plain": [
       "3187-element Vector{Float64}:\n",
       " -0.01827528700053027\n",
       "  2.0\n",
       "  2.0\n",
       "  2.0\n",
       "  2.0\n",
       "  2.0\n",
       "  2.0\n",
       "  2.0\n",
       "  2.0\n",
       "  2.0\n",
       "  2.0\n",
       "  2.0\n",
       "  2.0\n",
       "  ⋮\n",
       "  2.0\n",
       "  2.0\n",
       "  2.0\n",
       "  2.0\n",
       "  2.0\n",
       "  2.0\n",
       "  2.0\n",
       "  2.0\n",
       "  2.0\n",
       "  2.0\n",
       "  2.0\n",
       " -0.019284828830026912"
      ]
     },
     "execution_count": 4,
     "metadata": {},
     "output_type": "execute_result"
    }
   ],
   "source": [
    "aln = JuliaClusterAndTreeTools.Alignment(\"./test500.fasta\")\n",
    "aln_cons = JuliaClusterAndTreeTools.aln_conservation(aln)\n",
    "@rput aln_cons"
   ]
  },
  {
   "cell_type": "code",
   "execution_count": 7,
   "id": "4d6d1f69-9bd4-475e-8b7b-b34e1b911ab2",
   "metadata": {},
   "outputs": [
    {
     "data": {
      "image/png": "[encoded data removed]"
     },
     "metadata": {},
     "output_type": "display_data"
    },
    {
     "data": {
      "text/plain": [
       "RObject{VecSxp}\n"
      ]
     },
     "execution_count": 7,
     "metadata": {},
     "output_type": "execute_result"
    }
   ],
   "source": [
    "RCall.rcall_p(:options, rcalljl_options=Dict(:width => 1000, :height => 800))\n",
    "R\"\"\"\n",
    "ggplot(data=data.frame(E=aln_cons,n=1:length(aln_cons))) + geom_point(aes(x=n,y=E))\n",
    "\"\"\""
   ]
  }
 ],
 "metadata": {
  "kernelspec": {
   "display_name": "Julia 1.8.3",
   "language": "julia",
   "name": "julia-1.8"
  },
  "language_info": {
   "file_extension": ".jl",
   "mimetype": "application/julia",
   "name": "julia",
   "version": "1.8.3"
  }
 },
 "nbformat": 4,
 "nbformat_minor": 5
}
