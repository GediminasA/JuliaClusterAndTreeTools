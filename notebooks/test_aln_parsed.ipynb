{
 "cells": [
  {
   "cell_type": "code",
   "execution_count": 1,
   "id": "881dba9a-ec09-4b60-bdea-e926b7db13c0",
   "metadata": {
    "execution": {
     "iopub.execute_input": "2022-12-19T16:42:16.167000Z",
     "iopub.status.busy": "2022-12-19T16:42:15.867000Z",
     "iopub.status.idle": "2022-12-19T16:42:27.183000Z",
     "shell.execute_reply": "2022-12-19T16:42:27.171000Z"
    },
    "papermill": {
     "duration": 11.321659,
     "end_time": "2022-12-19T14:42:27.184073",
     "exception": false,
     "start_time": "2022-12-19T14:42:15.862414",
     "status": "completed"
    },
    "tags": []
   },
   "outputs": [
    {
     "name": "stderr",
     "output_type": "stream",
     "text": [
      "\u001b[32m\u001b[1m  Activating\u001b[22m\u001b[39m project at `./scripts/julia_modules/JuliaClusterAndTreeTools`\n"
     ]
    },
    {
     "name": "stderr",
     "output_type": "stream",
     "text": [
      "┌ Warning: RCall.jl: Loading required package: MASS\n",
      "│ Loading required package: survival\n",
      "└ @ RCall /home/user1/.julia/packages/RCall/Wyd74/src/io.jl:172\n",
      "┌ Warning: RCall.jl: \n",
      "│ Attaching package: ‘patchwork’\n",
      "│ \n",
      "│ The following object is masked from ‘package:MASS’:\n",
      "│ \n",
      "│     area\n",
      "│ \n",
      "└ @ RCall /home/user1/.julia/packages/RCall/Wyd74/src/io.jl:172\n"
     ]
    },
    {
     "data": {
      "text/plain": [
       "RObject{StrSxp}\n",
       " [1] \"data.table\"   \"patchwork\"    \"fitdistrplus\" \"survival\"     \"MASS\"        \n",
       " [6] \"ggplot2\"      \"stats\"        \"graphics\"     \"grDevices\"    \"utils\"       \n",
       "[11] \"datasets\"     \"methods\"      \"base\"        \n"
      ]
     },
     "execution_count": 1,
     "metadata": {},
     "output_type": "execute_result"
    }
   ],
   "source": [
    "using Pkg\n",
    "using Revise\n",
    "Pkg.activate(\"./scripts/julia_modules/JuliaClusterAndTreeTools\")\n",
    "using JuliaClusterAndTreeTools\n",
    "using Statistics\n",
    "using Pkg\n",
    "using RCall\n",
    "using DataFrames\n",
    "using StatsBase\n",
    "using CSV\n",
    "R\"\"\"\n",
    "library(ggplot2)\n",
    "library(fitdistrplus)\n",
    "library(patchwork)\n",
    "library(fitdistrplus)\n",
    "library(data.table)\n",
    "\n",
    "\"\"\"\n",
    "\n"
   ]
  },
  {
   "cell_type": "code",
   "execution_count": 2,
   "id": "aa816971-47e0-4e86-b872-19f1afc96c56",
   "metadata": {
    "execution": {
     "iopub.execute_input": "2022-12-19T16:42:27.601000Z",
     "iopub.status.busy": "2022-12-19T16:42:27.193000Z",
     "iopub.status.idle": "2022-12-19T16:42:30.319000Z",
     "shell.execute_reply": "2022-12-19T16:42:30.319000Z"
    },
    "papermill": {
     "duration": 3.131468,
     "end_time": "2022-12-19T14:42:30.320061",
     "exception": false,
     "start_time": "2022-12-19T14:42:27.188593",
     "status": "completed"
    },
    "tags": [
     "parameters"
    ]
   },
   "outputs": [
    {
     "data": {
      "text/plain": [
       "\"England\""
      ]
     },
     "execution_count": 2,
     "metadata": {},
     "output_type": "execute_result"
    }
   ],
   "source": [
    "in_file_name = \"/mnt/raid/covid-phylogeny/audines11/rez/lineages/BA.2/alignment_nextclade_1000.fasta.gz\"\n",
    "output_file_name = \"/mnt/raid/covid-phylogeny/audines11/rez/lineages/BA.2/alignment_nextclade_1000_filtered.fasta.gz\"\n",
    "output_file_nonconspoz_name = \"/mnt/raid/covid-phylogeny/audines11/rez/lineages/BA.2/alignment_nextclade_1000_filtered_nonconspoz.fasta.gz\"\n",
    "rows_after_filter = \"/mnt/raid/covid-phylogeny/audines11/rez/lineages/BA.2/alignment_nextclade_1000_kept_rows.txt\"\n",
    "columns_after_filter = \"/mnt/raid/covid-phylogeny/audines11/rez/lineages/BA.2/alignment_nextclade_1000_kept_columns.txt\"\n",
    "conservation_data =  \"/mnt/raid/covid-phylogeny/audines11/rez/lineages/BA.2/alignment_nextclade_1000_data.csv\"\n",
    "\n",
    "keepPositionsFraction = 0.8\n",
    "topNhaving_sequences_to_remove = 10\n",
    "reference_seq_id = \"England/ALDP-3C3EB7C/2022\"\n",
    "country = \"England\""
   ]
  },
  {
   "cell_type": "code",
   "execution_count": 3,
   "id": "43e9075e",
   "metadata": {
    "execution": {
     "iopub.execute_input": "2022-12-19T16:42:30.329000Z",
     "iopub.status.busy": "2022-12-19T16:42:30.329000Z",
     "iopub.status.idle": "2022-12-19T16:42:30.341000Z",
     "shell.execute_reply": "2022-12-19T16:42:30.341000Z"
    },
    "papermill": {
     "duration": 0.018056,
     "end_time": "2022-12-19T14:42:30.342525",
     "exception": false,
     "start_time": "2022-12-19T14:42:30.324469",
     "status": "completed"
    },
    "tags": [
     "injected-parameters"
    ]
   },
   "outputs": [
    {
     "data": {
      "text/plain": [
       "\"/mnt/raid/covid-phylogeny/audines11/rez/lineages/BA.2/alignment_nextclade_filteredsmall.fasta.gz\""
      ]
     },
     "execution_count": 3,
     "metadata": {},
     "output_type": "execute_result"
    }
   ],
   "source": [
    "# Parameters\n",
    "in_file_name = \"/mnt/raid/covid-phylogeny/audines11/rez/lineages/BA.2/alignment_nextclade_1000.fasta.gz\"\n",
    "output_file_name = \"/mnt/raid/covid-phylogeny/audines11/rez/lineages/BA.2/alignment_nextclade_filteredsmall.fasta.gz\"\n"
   ]
  },
  {
   "cell_type": "code",
   "execution_count": 4,
   "id": "54c3231a-b9bf-4303-a85a-ce50b0d6604a",
   "metadata": {
    "execution": {
     "iopub.execute_input": "2022-12-19T16:42:30.352000Z",
     "iopub.status.busy": "2022-12-19T16:42:30.352000Z",
     "iopub.status.idle": "2022-12-19T16:42:31.800000Z",
     "shell.execute_reply": "2022-12-19T16:42:31.800000Z"
    },
    "papermill": {
     "duration": 1.453264,
     "end_time": "2022-12-19T14:42:31.800849",
     "exception": false,
     "start_time": "2022-12-19T14:42:30.347585",
     "status": "completed"
    },
    "tags": []
   },
   "outputs": [
    {
     "name": "stderr",
     "output_type": "stream",
     "text": [
      "Reading aligment /mnt/raid/covid-phylogeny/audines11/rez/lineages/BA.2/alignment_nextclade_1000.fasta.gz\n",
      "\n"
     ]
    },
    {
     "name": "stdout",
     "output_type": "stream",
     "text": [
      "Alignment parsedInitial length and reference sequence saved"
     ]
    }
   ],
   "source": [
    "aln = JuliaClusterAndTreeTools.Alignment(in_file_name)\n",
    "#aln = JuliaClusterAndTreeTools.Alignment(\"/mnt/raid/covid-phylogeny/audines11/rez/lineages/BA.2/alignment_nextclade.fasta.gz\")\n",
    "print(\"Alignment parsed\")\n",
    "initial_length = size(aln.M)[2]\n",
    "reference_seq = collect(join(aln.M[aln.name_sequence_map[reference_seq_id],:]))\n",
    "print(\"Initial length and reference sequence saved\")"
   ]
  },
  {
   "cell_type": "code",
   "execution_count": 5,
   "id": "61e03a0c-95ea-4f04-94d9-75a74d8e10e4",
   "metadata": {
    "execution": {
     "iopub.execute_input": "2022-12-19T16:42:31.810000Z",
     "iopub.status.busy": "2022-12-19T16:42:31.810000Z",
     "iopub.status.idle": "2022-12-19T16:42:34.380000Z",
     "shell.execute_reply": "2022-12-19T16:42:34.380000Z"
    },
    "papermill": {
     "duration": 2.575615,
     "end_time": "2022-12-19T14:42:34.381272",
     "exception": false,
     "start_time": "2022-12-19T14:42:31.805657",
     "status": "completed"
    },
    "tags": []
   },
   "outputs": [
    {
     "name": "stdout",
     "output_type": "stream",
     "text": [
      "Counted 1000 columns\r",
      "Counted 2000 columns\r",
      "Counted 3000 columns\r",
      "Counted 4000 columns\r",
      "Counted 5000 columns\r",
      "Counted 6000 columns\r",
      "Counted 7000 columns\r",
      "Counted 8000 columns\r",
      "Counted 9000 columns\r",
      "Counted 10000 columns\r",
      "Counted 11000 columns\r",
      "Counted 12000 columns\r",
      "Counted 13000 columns\r",
      "Counted 14000 columns\r",
      "Counted 15000 columns\r",
      "Counted 16000 columns\r"
     ]
    },
    {
     "name": "stdout",
     "output_type": "stream",
     "text": [
      "Counted 17000 columns\r",
      "Counted 18000 columns\r",
      "Counted 19000 columns\r",
      "Counted 20000 columns\r",
      "Counted 21000 columns\r",
      "Counted 22000 columns\r",
      "Counted 23000 columns\r",
      "Counted 24000 columns\r",
      "Counted 25000 columns\r",
      "Counted 26000 columns\r",
      "Counted 27000 columns\r",
      "Counted 28000 columns\r",
      "Counted 29000 columns\r",
      "Doing transposition...\n",
      "Done. Converting to a data frame..."
     ]
    },
    {
     "name": "stdout",
     "output_type": "stream",
     "text": [
      "\n",
      "Done"
     ]
    },
    {
     "name": "stdout",
     "output_type": "stream",
     "text": [
      "\n",
      "Doing transposition..."
     ]
    },
    {
     "name": "stdout",
     "output_type": "stream",
     "text": [
      "\n",
      "Done. Converting to a data frame..."
     ]
    },
    {
     "name": "stdout",
     "output_type": "stream",
     "text": [
      "\n",
      "Initial statistics on gaps and N done"
     ]
    }
   ],
   "source": [
    "dc = JuliaClusterAndTreeTools.get_statistics_on_Gaps_Ns_collumnwise(aln)\n",
    "dr = JuliaClusterAndTreeTools.get_statistics_on_Gaps_Ns_rowwise(aln)\n",
    "print(\"Initial statistics on gaps and N done\")"
   ]
  },
  {
   "cell_type": "code",
   "execution_count": 6,
   "id": "a534a31b-7b00-4099-8eea-e0b12db009b5",
   "metadata": {
    "execution": {
     "iopub.execute_input": "2022-12-19T16:42:34.391000Z",
     "iopub.status.busy": "2022-12-19T16:42:34.391000Z",
     "iopub.status.idle": "2022-12-19T16:42:35.283000Z",
     "shell.execute_reply": "2022-12-19T16:42:35.282000Z"
    },
    "papermill": {
     "duration": 0.897972,
     "end_time": "2022-12-19T14:42:35.284409",
     "exception": false,
     "start_time": "2022-12-19T14:42:34.386437",
     "status": "completed"
    },
    "tags": []
   },
   "outputs": [
    {
     "name": "stdout",
     "output_type": "stream",
     "text": [
      "Initial distribution of gaps across the alignment\n"
     ]
    },
    {
     "data": {
      "image/png": "[encoded data removed]"
     },
     "metadata": {},
     "output_type": "display_data"
    },
    {
     "data": {
      "text/plain": [
       "RObject{VecSxp}\n"
      ]
     },
     "execution_count": 6,
     "metadata": {},
     "output_type": "execute_result"
    }
   ],
   "source": [
    "@rput dc\n",
    "\n",
    "println(\"Initial distribution of gaps across the alignment\")\n",
    "RCall.rcall_p(:options, rcalljl_options=Dict(:width => 1000, :height => 800))\n",
    "R\"\"\"\n",
    "p <- ggplot(data=dc) + geom_point(aes(x=Position,y=Gap))\n",
    "p\n",
    "\"\"\""
   ]
  },
  {
   "cell_type": "code",
   "execution_count": 7,
   "id": "de8aab6a-0b8a-413e-8526-2c47ab474077",
   "metadata": {
    "execution": {
     "iopub.execute_input": "2022-12-19T16:42:35.295000Z",
     "iopub.status.busy": "2022-12-19T16:42:35.295000Z",
     "iopub.status.idle": "2022-12-19T16:42:35.871000Z",
     "shell.execute_reply": "2022-12-19T16:42:35.871000Z"
    },
    "papermill": {
     "duration": 0.582626,
     "end_time": "2022-12-19T14:42:35.872612",
     "exception": false,
     "start_time": "2022-12-19T14:42:35.289986",
     "status": "completed"
    },
    "tags": []
   },
   "outputs": [
    {
     "data": {
      "text/plain": [
       "Int64[]"
      ]
     },
     "execution_count": 7,
     "metadata": {},
     "output_type": "execute_result"
    }
   ],
   "source": [
    "blacklist_positions = Array{Int64,1}()\n",
    "# array to keep column indices to be discarded"
   ]
  },
  {
   "cell_type": "code",
   "execution_count": 8,
   "id": "c4bd8430-b9e8-4b0a-bce1-6f4c87af6cd7",
   "metadata": {
    "execution": {
     "iopub.execute_input": "2022-12-19T16:42:35.884000Z",
     "iopub.status.busy": "2022-12-19T16:42:35.884000Z",
     "iopub.status.idle": "2022-12-19T16:42:35.977000Z",
     "shell.execute_reply": "2022-12-19T16:42:35.977000Z"
    },
    "papermill": {
     "duration": 0.10031,
     "end_time": "2022-12-19T14:42:35.978508",
     "exception": false,
     "start_time": "2022-12-19T14:42:35.878198",
     "status": "completed"
    },
    "tags": []
   },
   "outputs": [
    {
     "name": "stdout",
     "output_type": "stream",
     "text": [
      "Non gapped alignment starts at this position: 645\n",
      "Gaps terminate alignment at this position28893\n"
     ]
    }
   ],
   "source": [
    "# remove tails down to first non zero\n",
    "median_Gap = median(dc.Gap)\n",
    "starti = undef\n",
    "endi = undef\n",
    "lenAln = size(dc)[1]\n",
    "for i in  1:lenAln\n",
    "    if dc.Gap[i] ==0\n",
    "        starti = i\n",
    "        break\n",
    "    else\n",
    "        push!(blacklist_positions,i)\n",
    "    end\n",
    "end\n",
    "\n",
    "for i in  1:lenAln\n",
    "    ie = lenAln-i+1\n",
    "    if dc.Gap[ie] ==0\n",
    "        endi = ie\n",
    "        break\n",
    "    else\n",
    "        push!(blacklist_positions,ie)\n",
    "    end\n",
    "end\n",
    "println(\"Non gapped alignment starts at this position: \",starti)\n",
    "println(\"Gaps terminate alignment at this position\",endi)\n",
    "#JuliaClusterAndTreeTools.sub_alignment!(aln,starti:endi)"
   ]
  },
  {
   "cell_type": "code",
   "execution_count": 9,
   "id": "f55dd35c-183a-40ec-9705-eedbee763888",
   "metadata": {
    "execution": {
     "iopub.execute_input": "2022-12-19T16:42:35.989000Z",
     "iopub.status.busy": "2022-12-19T16:42:35.989000Z",
     "iopub.status.idle": "2022-12-19T16:42:36.161000Z",
     "shell.execute_reply": "2022-12-19T16:42:36.161000Z"
    },
    "papermill": {
     "duration": 0.179571,
     "end_time": "2022-12-19T14:42:36.163251",
     "exception": false,
     "start_time": "2022-12-19T14:42:35.983680",
     "status": "completed"
    },
    "tags": []
   },
   "outputs": [
    {
     "name": "stderr",
     "output_type": "stream",
     "text": [
      "┌ Warning: RCall.jl: `stat_bin()` using `bins = 30`. Pick better value with `binwidth`.\n",
      "└ @ RCall /home/user1/.julia/packages/RCall/Wyd74/src/io.jl:172\n"
     ]
    },
    {
     "data": {
      "image/png": "[encoded data removed]"
     },
     "metadata": {},
     "output_type": "display_data"
    },
    {
     "data": {
      "text/plain": [
       "RObject{VecSxp}\n"
      ]
     },
     "execution_count": 9,
     "metadata": {},
     "output_type": "execute_result"
    }
   ],
   "source": [
    "@rput dr\n",
    "RCall.rcall_p(:options, rcalljl_options=Dict(:width => 1000, :height => 800))\n",
    "R\"\"\"\n",
    "fit <- fitdist(dr$N, \"nbinom\")\n",
    "mu = as.double(fit$estimate[\"mu\"][[1]])\n",
    "size = as.double(fit$estimate[\"size\"][[1]])\n",
    "p <- ggplot(data=dr) + geom_histogram(aes(x=N))\n",
    "xvals <- dr$N\n",
    "fitD <- dnbinom(xvals, size=size, mu=mu)*nrow(dr)\n",
    "df = data.table(a=xvals,b=fitD)\n",
    "p <- p + geom_line(data = df, aes(a,b),color=\"blue\")\n",
    "p\n",
    "\"\"\"\n",
    "# library(fitdistrplus)\n",
    "# fit <- fitdist(dc$N, \"nbinom\")\n",
    "# mu = as.double(fit$estimate[\"mu\"][[1]])\n",
    "# size = as.double(fit$estimate[\"size\"][[1]])\n",
    "# fitD <- dnbinom(0:60, size=size, mu=mu)"
   ]
  },
  {
   "cell_type": "code",
   "execution_count": 10,
   "id": "1a3a2fc6-ba7c-4c03-b90f-2e1a2aca075c",
   "metadata": {
    "execution": {
     "iopub.execute_input": "2022-12-19T16:42:36.170000Z",
     "iopub.status.busy": "2022-12-19T16:42:36.170000Z",
     "iopub.status.idle": "2022-12-19T16:42:36.451000Z",
     "shell.execute_reply": "2022-12-19T16:42:36.451000Z"
    },
    "papermill": {
     "duration": 0.285312,
     "end_time": "2022-12-19T14:42:36.452278",
     "exception": false,
     "start_time": "2022-12-19T14:42:36.166966",
     "status": "completed"
    },
    "tags": []
   },
   "outputs": [
    {
     "name": "stdout",
     "output_type": "stream",
     "text": [
      "Sequences having N more than 597.6000000000013"
     ]
    },
    {
     "name": "stdout",
     "output_type": "stream",
     "text": [
      " will be removed\n"
     ]
    },
    {
     "name": "stdout",
     "output_type": "stream",
     "text": [
      "Alignment size after removal of top most N having sequences\n",
      "(888, 29903)\n"
     ]
    }
   ],
   "source": [
    "maxNlimit = percentile(dr.N,100-topNhaving_sequences_to_remove)\n",
    "println(\"Sequences having N more than \",maxNlimit, \" will be removed\")\n",
    "keep_ids = dr.ID[dr.N .< maxNlimit]\n",
    "sub_alignment!(aln,keep_ids)\n",
    "println(\"Alignment size after removal of top most N having sequences\")\n",
    "println(size(aln.M))\n",
    "#println(maximum(dr.N))"
   ]
  },
  {
   "cell_type": "code",
   "execution_count": 11,
   "id": "ec8f9dc9-65ef-4fcf-987e-a41f8bcad2d7",
   "metadata": {
    "execution": {
     "iopub.execute_input": "2022-12-19T16:42:36.464000Z",
     "iopub.status.busy": "2022-12-19T16:42:36.464000Z",
     "iopub.status.idle": "2022-12-19T16:42:37.985000Z",
     "shell.execute_reply": "2022-12-19T16:42:37.985000Z"
    },
    "papermill": {
     "duration": 1.528629,
     "end_time": "2022-12-19T14:42:37.986950",
     "exception": false,
     "start_time": "2022-12-19T14:42:36.458321",
     "status": "completed"
    },
    "tags": []
   },
   "outputs": [
    {
     "name": "stdout",
     "output_type": "stream",
     "text": [
      "Recalculatig data on N and Gaps per sequence - rowwise \n"
     ]
    },
    {
     "name": "stdout",
     "output_type": "stream",
     "text": [
      "Doing transposition...\n"
     ]
    },
    {
     "name": "stdout",
     "output_type": "stream",
     "text": [
      "Done. Converting to a data frame...\n"
     ]
    }
   ],
   "source": [
    "println(\"Recalculatig data on N and Gaps per sequence - rowwise \")\n",
    "dr = JuliaClusterAndTreeTools.get_statistics_on_Gaps_Ns_rowwise(aln)\n",
    "print(\"\")"
   ]
  },
  {
   "cell_type": "code",
   "execution_count": 12,
   "id": "6f9b908f-9faa-4ded-a8a5-25f0398ffeba",
   "metadata": {
    "execution": {
     "iopub.execute_input": "2022-12-19T16:42:37.997000Z",
     "iopub.status.busy": "2022-12-19T16:42:37.997000Z",
     "iopub.status.idle": "2022-12-19T16:42:38.149000Z",
     "shell.execute_reply": "2022-12-19T16:42:38.149000Z"
    },
    "papermill": {
     "duration": 0.158041,
     "end_time": "2022-12-19T14:42:38.151062",
     "exception": false,
     "start_time": "2022-12-19T14:42:37.993021",
     "status": "completed"
    },
    "tags": []
   },
   "outputs": [
    {
     "name": "stdout",
     "output_type": "stream",
     "text": [
      "replot dta on N rowwise\n"
     ]
    },
    {
     "name": "stderr",
     "output_type": "stream",
     "text": [
      "┌ Warning: RCall.jl: `stat_bin()` using `bins = 30`. Pick better value with `binwidth`.\n",
      "└ @ RCall /home/user1/.julia/packages/RCall/Wyd74/src/io.jl:172\n"
     ]
    },
    {
     "data": {
      "image/png": "[encoded data removed]"
     },
     "metadata": {},
     "output_type": "display_data"
    },
    {
     "data": {
      "text/plain": [
       "RObject{VecSxp}\n"
      ]
     },
     "execution_count": 12,
     "metadata": {},
     "output_type": "execute_result"
    }
   ],
   "source": [
    "println(\"replot dta on N rowwise\")\n",
    "@rput dr\n",
    "RCall.rcall_p(:options, rcalljl_options=Dict(:width => 1000, :height => 800))\n",
    "R\"\"\"\n",
    "fit <- fitdist(dr$N, \"nbinom\")\n",
    "mu = as.double(fit$estimate[\"mu\"][[1]])\n",
    "size = as.double(fit$estimate[\"size\"][[1]])\n",
    "p <- ggplot(data=dr) + geom_histogram(aes(x=N))\n",
    "xvals <- dr$N\n",
    "fitD <- dnbinom(xvals, size=size, mu=mu)*nrow(dr)\n",
    "df = data.table(a=xvals,b=fitD)\n",
    "p <- p + geom_line(data = df, aes(a,b),color=\"blue\")\n",
    "p\n",
    "\"\"\""
   ]
  },
  {
   "cell_type": "code",
   "execution_count": 13,
   "id": "31983448-78dc-40f3-8b52-ac58f15aadf1",
   "metadata": {
    "execution": {
     "iopub.execute_input": "2022-12-19T16:42:38.164000Z",
     "iopub.status.busy": "2022-12-19T16:42:38.164000Z",
     "iopub.status.idle": "2022-12-19T16:42:38.387000Z",
     "shell.execute_reply": "2022-12-19T16:42:38.387000Z"
    },
    "papermill": {
     "duration": 0.23114,
     "end_time": "2022-12-19T14:42:38.388749",
     "exception": false,
     "start_time": "2022-12-19T14:42:38.157609",
     "status": "completed"
    },
    "tags": []
   },
   "outputs": [
    {
     "name": "stdout",
     "output_type": "stream",
     "text": [
      "Recalculating statistics on N columnwise\n",
      "Counted 1000 columns\r",
      "Counted 2000 columns\r",
      "Counted 3000 columns\r",
      "Counted 4000 columns\r",
      "Counted 5000 columns\r",
      "Counted 6000 columns\r",
      "Counted 7000 columns\r",
      "Counted 8000 columns\r"
     ]
    },
    {
     "name": "stdout",
     "output_type": "stream",
     "text": [
      "Counted 9000 columns\r",
      "Counted 10000 columns\r",
      "Counted 11000 columns\r",
      "Counted 12000 columns\r",
      "Counted 13000 columns\r",
      "Counted 14000 columns\r",
      "Counted 15000 columns\r",
      "Counted 16000 columns\r",
      "Counted 17000 columns\r",
      "Counted 18000 columns\r",
      "Counted 19000 columns\r",
      "Counted 20000 columns\r",
      "Counted 21000 columns\r",
      "Counted 22000 columns\r",
      "Counted 23000 columns\r",
      "Counted 24000 columns\r"
     ]
    },
    {
     "name": "stdout",
     "output_type": "stream",
     "text": [
      "Counted 25000 columns\r",
      "Counted 26000 columns\r",
      "Counted 27000 columns\r",
      "Counted 28000 columns\r",
      "Counted 29000 columns\r",
      "Doing transposition...\n",
      "Done. Converting to a data frame...\n",
      "Done\n"
     ]
    }
   ],
   "source": [
    "println(\"Recalculating statistics on N columnwise\")\n",
    "dc = JuliaClusterAndTreeTools.get_statistics_on_Gaps_Ns_collumnwise(aln)\n",
    "print(\"\")"
   ]
  },
  {
   "cell_type": "code",
   "execution_count": 14,
   "id": "f4224143-3c0b-467e-a0fe-b5d4c404622c",
   "metadata": {
    "execution": {
     "iopub.execute_input": "2022-12-19T16:42:38.402000Z",
     "iopub.status.busy": "2022-12-19T16:42:38.402000Z",
     "iopub.status.idle": "2022-12-19T16:42:38.730000Z",
     "shell.execute_reply": "2022-12-19T16:42:38.730000Z"
    },
    "papermill": {
     "duration": 0.336507,
     "end_time": "2022-12-19T14:42:38.732009",
     "exception": false,
     "start_time": "2022-12-19T14:42:38.395502",
     "status": "completed"
    },
    "tags": []
   },
   "outputs": [],
   "source": [
    "# get a subset of columns without terminal gaps\n",
    "dc_woterminalgaps = filter(:Position => !in(blacklist_positions), dc)\n",
    "print(\"\")"
   ]
  },
  {
   "cell_type": "code",
   "execution_count": 15,
   "id": "0d8631eb-a7db-48cb-ade1-4ac6d76a7846",
   "metadata": {
    "execution": {
     "iopub.execute_input": "2022-12-19T16:42:38.744000Z",
     "iopub.status.busy": "2022-12-19T16:42:38.744000Z",
     "iopub.status.idle": "2022-12-19T16:42:39.043000Z",
     "shell.execute_reply": "2022-12-19T16:42:39.043000Z"
    },
    "papermill": {
     "duration": 0.306703,
     "end_time": "2022-12-19T14:42:39.045251",
     "exception": false,
     "start_time": "2022-12-19T14:42:38.738548",
     "status": "completed"
    },
    "tags": []
   },
   "outputs": [
    {
     "name": "stdout",
     "output_type": "stream",
     "text": [
      "Distribution of N across columns after removal of terminal gappy regions\n"
     ]
    },
    {
     "name": "stderr",
     "output_type": "stream",
     "text": [
      "┌ Warning: RCall.jl: `stat_bin()` using `bins = 30`. Pick better value with `binwidth`.\n",
      "└ @ RCall /home/user1/.julia/packages/RCall/Wyd74/src/io.jl:172\n"
     ]
    },
    {
     "data": {
      "image/png": "[encoded data removed]"
     },
     "metadata": {},
     "output_type": "display_data"
    },
    {
     "data": {
      "text/plain": [
       "RObject{VecSxp}\n"
      ]
     },
     "execution_count": 15,
     "metadata": {},
     "output_type": "execute_result"
    }
   ],
   "source": [
    "println(\"Distribution of N across columns after removal of terminal gappy regions\")\n",
    "@rput dc_woterminalgaps\n",
    "RCall.rcall_p(:options, rcalljl_options=Dict(:width => 1000, :height => 800))\n",
    "R\"\"\"\n",
    "df <- dc_woterminalgaps\n",
    "fit <- fitdist(df$N, \"nbinom\")\n",
    "mu = as.double(fit$estimate[\"mu\"][[1]])\n",
    "size = as.double(fit$estimate[\"size\"][[1]])\n",
    "p <- ggplot(data=df) + geom_histogram(aes(x=N))\n",
    "xvals <- seq(0,max(df$N),2)\n",
    "fitD <- dnbinom(xvals, size=size, mu=mu)*nrow(df)\n",
    "df = data.table(a=xvals,b=fitD)\n",
    "p_dc_woterminalgaps <- p + geom_line(data = df, aes(a,b),color=\"blue\") + ggtitle(\"N position across alignment columns\")\n",
    "p_dc_woterminalgaps\n",
    "\"\"\""
   ]
  },
  {
   "cell_type": "code",
   "execution_count": 16,
   "id": "2a6af7f3-a877-48d9-b0ae-4013c3987bcc",
   "metadata": {
    "execution": {
     "iopub.execute_input": "2022-12-19T16:42:39.058000Z",
     "iopub.status.busy": "2022-12-19T16:42:39.058000Z",
     "iopub.status.idle": "2022-12-19T16:42:39.297000Z",
     "shell.execute_reply": "2022-12-19T16:42:39.297000Z"
    },
    "papermill": {
     "duration": 0.246715,
     "end_time": "2022-12-19T14:42:39.299323",
     "exception": false,
     "start_time": "2022-12-19T14:42:39.052608",
     "status": "completed"
    },
    "tags": []
   },
   "outputs": [
    {
     "name": "stdout",
     "output_type": "stream",
     "text": [
      "Keeping 0.8 fraction of sequences we allow maximum number of Ns per sequence   2.0\n"
     ]
    }
   ],
   "source": [
    "#get the limit of n to remove\n",
    "@rput keepPositionsFraction dc\n",
    "RCall.rcall_p(:options, rcalljl_options=Dict(:width => 1000, :height => 800))\n",
    "\n",
    "R\"\"\"\n",
    "fit <- fitdist(dc_woterminalgaps$N, \"nbinom\")\n",
    "mu = as.double(fit$estimate[\"mu\"][[1]])\n",
    "size = as.double(fit$estimate[\"size\"][[1]])\n",
    "maxNlimit = qnbinom(keepPositionsFraction, mu = mu, size = size)\n",
    "\"\"\"\n",
    "@rget maxNlimit\n",
    "println(\"Keeping \",keepPositionsFraction,\" fraction of sequences we allow maximum number of Ns per sequence   \",maxNlimit)"
   ]
  },
  {
   "cell_type": "code",
   "execution_count": 17,
   "id": "1b96285b-5935-40dc-a7e9-5be9e57eaf9b",
   "metadata": {
    "execution": {
     "iopub.execute_input": "2022-12-19T16:42:39.325000Z",
     "iopub.status.busy": "2022-12-19T16:42:39.325000Z",
     "iopub.status.idle": "2022-12-19T16:42:39.558000Z",
     "shell.execute_reply": "2022-12-19T16:42:39.558000Z"
    },
    "papermill": {
     "duration": 0.253893,
     "end_time": "2022-12-19T14:42:39.560350",
     "exception": false,
     "start_time": "2022-12-19T14:42:39.306457",
     "status": "completed"
    },
    "tags": []
   },
   "outputs": [
    {
     "name": "stdout",
     "output_type": "stream",
     "text": [
      "Distributin of N across sequence"
     ]
    },
    {
     "data": {
      "image/png": "[encoded data removed]"
     },
     "metadata": {},
     "output_type": "display_data"
    },
    {
     "data": {
      "text/plain": [
       "RObject{VecSxp}\n"
      ]
     },
     "execution_count": 17,
     "metadata": {},
     "output_type": "execute_result"
    }
   ],
   "source": [
    "print(\"Distributin of N across sequence\")\n",
    "RCall.rcall_p(:options, rcalljl_options=Dict(:width => 1000, :height => 800))\n",
    "R\"\"\"\n",
    "pnas <- ggplot(data=dc_woterminalgaps) + geom_point(aes(x=Position,y=N)) + geom_hline(yintercept=maxNlimit,color=\"red\")\n",
    "pnas\n",
    "\"\"\""
   ]
  },
  {
   "cell_type": "code",
   "execution_count": 18,
   "id": "6e969a13-07b8-4890-8ea1-2adc3970543e",
   "metadata": {
    "execution": {
     "iopub.execute_input": "2022-12-19T16:42:39.575000Z",
     "iopub.status.busy": "2022-12-19T16:42:39.575000Z",
     "iopub.status.idle": "2022-12-19T16:42:39.745000Z",
     "shell.execute_reply": "2022-12-19T16:42:39.745000Z"
    },
    "papermill": {
     "duration": 0.177968,
     "end_time": "2022-12-19T14:42:39.746512",
     "exception": false,
     "start_time": "2022-12-19T14:42:39.568544",
     "status": "completed"
    },
    "tags": []
   },
   "outputs": [
    {
     "name": "stdout",
     "output_type": "stream",
     "text": [
      "Size of the trimmed alignment aqfter removing terminal gappy columns and columns with more than 2.0 Ns \n",
      "(888, 23373)\n"
     ]
    }
   ],
   "source": [
    "#print filter put columns based on the N threathhold\n",
    "dc_woterminalgaps_woN = filter(:N => <=(maxNlimit) ,dc_woterminalgaps) # \n",
    "sub_alignment_columnwise!(aln,dc_woterminalgaps_woN.Position)\n",
    "println(\"Size of the trimmed alignment aqfter removing terminal gappy columns and columns with more than $maxNlimit Ns \")\n",
    "println(size(aln.M))\n",
    "#sub_alignment!(aln,dc_woterminalgaps_woN.Position)"
   ]
  },
  {
   "cell_type": "code",
   "execution_count": 19,
   "id": "f64f4ea7-7f85-47c5-b9ac-ca9c97f0ef8b",
   "metadata": {
    "execution": {
     "iopub.execute_input": "2022-12-19T16:42:39.761000Z",
     "iopub.status.busy": "2022-12-19T16:42:39.761000Z",
     "iopub.status.idle": "2022-12-19T16:42:40.318000Z",
     "shell.execute_reply": "2022-12-19T16:42:40.318000Z"
    },
    "papermill": {
     "duration": 0.565768,
     "end_time": "2022-12-19T14:42:40.320277",
     "exception": false,
     "start_time": "2022-12-19T14:42:39.754509",
     "status": "completed"
    },
    "tags": []
   },
   "outputs": [
    {
     "name": "stdout",
     "output_type": "stream",
     "text": [
      "writing down the kept columns to /mnt/raid/covid-phylogeny/audines11/rez/lineages/BA.2/alignment_nextclade_1000_kept_columns.txt\n"
     ]
    },
    {
     "data": {
      "text/plain": [
       "\"/mnt/raid/covid-phylogeny/audines11/rez/lineages/BA.2/alignment_nextclade_1000_kept_columns.txt\""
      ]
     },
     "execution_count": 19,
     "metadata": {},
     "output_type": "execute_result"
    }
   ],
   "source": [
    "println(\"writing down the kept columns to $columns_after_filter\")\n",
    "CSV.write(columns_after_filter, dc_woterminalgaps_woN[:,[\"Position\"]],writeheader=false)\n"
   ]
  },
  {
   "cell_type": "code",
   "execution_count": 20,
   "id": "c95f1566-3bc8-487e-b64a-d0135aa23c76",
   "metadata": {
    "execution": {
     "iopub.execute_input": "2022-12-19T16:42:40.335000Z",
     "iopub.status.busy": "2022-12-19T16:42:40.335000Z",
     "iopub.status.idle": "2022-12-19T16:42:40.726000Z",
     "shell.execute_reply": "2022-12-19T16:42:40.726000Z"
    },
    "papermill": {
     "duration": 0.397989,
     "end_time": "2022-12-19T14:42:40.727455",
     "exception": false,
     "start_time": "2022-12-19T14:42:40.329466",
     "status": "completed"
    },
    "tags": []
   },
   "outputs": [
    {
     "name": "stdout",
     "output_type": "stream",
     "text": [
      "Test sequence with removed high N content columnsCounted 1000 columns\r",
      "Counted 2000 columns\r",
      "Counted 3000 columns\r",
      "Counted 4000 columns\r",
      "Counted 5000 columns\r",
      "Counted 6000 columns\r",
      "Counted 7000 columns\r",
      "Counted 8000 columns\r",
      "Counted 9000 columns\r"
     ]
    },
    {
     "name": "stdout",
     "output_type": "stream",
     "text": [
      "Counted 10000 columns\r",
      "Counted 11000 columns\r",
      "Counted 12000 columns\r",
      "Counted 13000 columns\r",
      "Counted 14000 columns\r",
      "Counted 15000 columns\r",
      "Counted 16000 columns\r",
      "Counted 17000 columns\r",
      "Counted 18000 columns\r",
      "Counted 19000 columns\r",
      "Counted 20000 columns\r",
      "Counted 21000 columns\r",
      "Counted 22000 columns\r",
      "Counted 23000 columns\r",
      "Doing transposition...\n"
     ]
    },
    {
     "name": "stdout",
     "output_type": "stream",
     "text": [
      "Done. Converting to a data frame...\n",
      "Done\n"
     ]
    },
    {
     "name": "stdout",
     "output_type": "stream",
     "text": [
      "Doing transposition...\n",
      "Done. Converting to a data frame...\n"
     ]
    }
   ],
   "source": [
    "print(\"Test sequence with removed high N content columns\")\n",
    "dc2 = JuliaClusterAndTreeTools.get_statistics_on_Gaps_Ns_collumnwise(aln)\n",
    "dr2 = JuliaClusterAndTreeTools.get_statistics_on_Gaps_Ns_rowwise(aln)\n",
    "@rput dc2 dr2\n",
    "print(\"\")"
   ]
  },
  {
   "cell_type": "code",
   "execution_count": 21,
   "id": "7f7e1744-7fff-451d-9aae-e8e33c85bf92",
   "metadata": {
    "execution": {
     "iopub.execute_input": "2022-12-19T16:42:40.741000Z",
     "iopub.status.busy": "2022-12-19T16:42:40.741000Z",
     "iopub.status.idle": "2022-12-19T16:42:40.962000Z",
     "shell.execute_reply": "2022-12-19T16:42:40.962000Z"
    },
    "papermill": {
     "duration": 0.227214,
     "end_time": "2022-12-19T14:42:40.963490",
     "exception": false,
     "start_time": "2022-12-19T14:42:40.736276",
     "status": "completed"
    },
    "tags": []
   },
   "outputs": [
    {
     "name": "stderr",
     "output_type": "stream",
     "text": [
      "┌ Warning: RCall.jl: `stat_bin()` using `bins = 30`. Pick better value with `binwidth`.\n",
      "└ @ RCall /home/user1/.julia/packages/RCall/Wyd74/src/io.jl:172\n"
     ]
    },
    {
     "data": {
      "image/png": "[encoded data removed]"
     },
     "metadata": {},
     "output_type": "display_data"
    },
    {
     "data": {
      "text/plain": [
       "RObject{VecSxp}\n"
      ]
     },
     "execution_count": 21,
     "metadata": {},
     "output_type": "execute_result"
    }
   ],
   "source": [
    "R\"\"\"\n",
    "df <- dc2\n",
    "fit <- fitdist(df$N, \"nbinom\")\n",
    "mu = as.double(fit$estimate[\"mu\"][[1]])\n",
    "size = as.double(fit$estimate[\"size\"][[1]])\n",
    "p <- ggplot(data=df) + geom_histogram(aes(x=N))\n",
    "xvals <- seq(0,max(df$N),2)\n",
    "fitD <- dnbinom(xvals, size=size, mu=mu)*nrow(df)\n",
    "df = data.table(a=xvals,b=fitD)\n",
    "p <- p + geom_line(data = df, aes(a,b),color=\"blue\") + ggtitle(\"N position across alignment columns\")\n",
    "p\n",
    "\"\"\"\n",
    "# xvals <- seq(0,max(df$N),2)\n",
    "# fitD <- dnbinom(xvals, size=size, mu=mu)*nrow(df)\n",
    "# df = data.table(a=xvals,b=fitD)\n",
    "# p <- p + geom_line(data = df, aes(a,b),color=\"blue\") + ggtitle(\"N position across alignment columns\")\n",
    "# p\n",
    "# \"\"\""
   ]
  },
  {
   "cell_type": "code",
   "execution_count": 22,
   "id": "d2d84f9b-ea54-499b-8036-09e6c3e9df3c",
   "metadata": {
    "execution": {
     "iopub.execute_input": "2022-12-19T16:42:40.977000Z",
     "iopub.status.busy": "2022-12-19T16:42:40.977000Z",
     "iopub.status.idle": "2022-12-19T16:42:41.173000Z",
     "shell.execute_reply": "2022-12-19T16:42:41.173000Z"
    },
    "papermill": {
     "duration": 0.202718,
     "end_time": "2022-12-19T14:42:41.175370",
     "exception": false,
     "start_time": "2022-12-19T14:42:40.972652",
     "status": "completed"
    },
    "tags": []
   },
   "outputs": [
    {
     "data": {
      "image/png": "[encoded data removed]"
     },
     "metadata": {},
     "output_type": "display_data"
    },
    {
     "data": {
      "text/plain": [
       "RObject{VecSxp}\n"
      ]
     },
     "execution_count": 22,
     "metadata": {},
     "output_type": "execute_result"
    }
   ],
   "source": [
    "RCall.rcall_p(:options, rcalljl_options=Dict(:width => 1000, :height => 800))\n",
    "R\"\"\"\n",
    "p <- ggplot(data=dc2) + geom_point(aes(x=Position,y=N))\n",
    "p\n",
    "\"\"\""
   ]
  },
  {
   "cell_type": "code",
   "execution_count": null,
   "id": "4ff48416-f7ba-4209-ad35-80e3b266754f",
   "metadata": {
    "papermill": {
     "duration": 0.008222,
     "end_time": "2022-12-19T14:42:41.192846",
     "exception": false,
     "start_time": "2022-12-19T14:42:41.184624",
     "status": "completed"
    },
    "tags": []
   },
   "outputs": [],
   "source": []
  },
  {
   "cell_type": "code",
   "execution_count": 23,
   "id": "592a8d07-4c23-4ce1-ada8-a9024bc491ee",
   "metadata": {
    "execution": {
     "iopub.execute_input": "2022-12-19T16:42:41.203000Z",
     "iopub.status.busy": "2022-12-19T16:42:41.203000Z",
     "iopub.status.idle": "2022-12-19T16:42:41.315000Z",
     "shell.execute_reply": "2022-12-19T16:42:41.315000Z"
    },
    "papermill": {
     "duration": 0.119283,
     "end_time": "2022-12-19T14:42:41.317295",
     "exception": false,
     "start_time": "2022-12-19T14:42:41.198012",
     "status": "completed"
    },
    "tags": []
   },
   "outputs": [
    {
     "name": "stderr",
     "output_type": "stream",
     "text": [
      "┌ Warning: RCall.jl: `stat_bin()` using `bins = 30`. Pick better value with `binwidth`.\n",
      "└ @ RCall /home/user1/.julia/packages/RCall/Wyd74/src/io.jl:172\n"
     ]
    },
    {
     "data": {
      "image/png": "[encoded data removed]"
     },
     "metadata": {},
     "output_type": "display_data"
    },
    {
     "data": {
      "text/plain": [
       "RObject{VecSxp}\n"
      ]
     },
     "execution_count": 23,
     "metadata": {},
     "output_type": "execute_result"
    }
   ],
   "source": [
    "R\"\"\"\n",
    "df <- dr2\n",
    "fit <- fitdist(df$N, \"nbinom\")\n",
    "mu = as.double(fit$estimate[\"mu\"][[1]])\n",
    "size = as.double(fit$estimate[\"size\"][[1]])\n",
    "p <- ggplot(data=df) + geom_histogram(aes(x=N))\n",
    "xvals <- seq(0,max(df$N),2)\n",
    "fitD <- dnbinom(xvals, size=size, mu=mu)*nrow(df)\n",
    "df = data.table(a=xvals,b=fitD)\n",
    "p <- p + geom_line(data = df, aes(a,b),color=\"blue\") + ggtitle(\"N position across alignment columns\")\n",
    "p\n",
    "\"\"\""
   ]
  },
  {
   "cell_type": "code",
   "execution_count": 24,
   "id": "071cf625-8864-4264-9f25-72d65bc76ad5",
   "metadata": {
    "execution": {
     "iopub.execute_input": "2022-12-19T16:42:41.335000Z",
     "iopub.status.busy": "2022-12-19T16:42:41.335000Z",
     "iopub.status.idle": "2022-12-19T16:42:41.679000Z",
     "shell.execute_reply": "2022-12-19T16:42:41.679000Z"
    },
    "papermill": {
     "duration": 0.353168,
     "end_time": "2022-12-19T14:42:41.680578",
     "exception": false,
     "start_time": "2022-12-19T14:42:41.327410",
     "status": "completed"
    },
    "tags": []
   },
   "outputs": [
    {
     "name": "stderr",
     "output_type": "stream",
     "text": [
      "┌ Warning: RCall.jl: Warning: The dot-dot notation (`..count..`) was deprecated in ggplot2 3.4.0.\n",
      "│ ℹ Please use `after_stat(count)` instead.\n",
      "│ `stat_bin()` using `bins = 30`. Pick better value with `binwidth`.\n",
      "│ `stat_bin()` using `bins = 30`. Pick better value with `binwidth`.\n",
      "│ `stat_bin()` using `bins = 30`. Pick better value with `binwidth`.\n",
      "│ `stat_bin()` using `bins = 30`. Pick better value with `binwidth`.\n",
      "└ @ RCall /home/user1/.julia/packages/RCall/Wyd74/src/io.jl:172\n"
     ]
    },
    {
     "data": {
      "image/png": "[encoded data removed]"
     },
     "metadata": {},
     "output_type": "display_data"
    },
    {
     "data": {
      "text/plain": [
       "RObject{VecSxp}\n"
      ]
     },
     "execution_count": 24,
     "metadata": {},
     "output_type": "execute_result"
    }
   ],
   "source": [
    "@rput dc dc2 dr dr2\n",
    "R\"\"\"\n",
    "pini<-ggplot(dc, aes(x=N)) + \n",
    "    stat_bin(aes(y=..count../sum(..count..))) + ylim(0,1.0)\n",
    "p<-ggplot(dc2, aes(x=N)) + \n",
    "    stat_bin(aes(y=..count../sum(..count..))) + ylim(0,1.0)\n",
    "\n",
    "pinir<-ggplot(dr, aes(x=N)) + \n",
    "    stat_bin(aes(y=..count../sum(..count..))) + ylim(0,1.0)\n",
    "pr<-ggplot(dr2, aes(x=N)) + \n",
    "    stat_bin(aes(y=..count../sum(..count..))) + ylim(0,1.0)\n",
    "\n",
    "(p|pini)/(pr|pinir)\n",
    "\"\"\""
   ]
  },
  {
   "cell_type": "code",
   "execution_count": 25,
   "id": "5b07f1dd-0e38-4845-8172-6eabe1f1d60f",
   "metadata": {
    "execution": {
     "iopub.execute_input": "2022-12-19T16:42:41.697000Z",
     "iopub.status.busy": "2022-12-19T16:42:41.697000Z",
     "iopub.status.idle": "2022-12-19T16:42:41.853000Z",
     "shell.execute_reply": "2022-12-19T16:42:41.853000Z"
    },
    "papermill": {
     "duration": 0.164028,
     "end_time": "2022-12-19T14:42:41.855356",
     "exception": false,
     "start_time": "2022-12-19T14:42:41.691328",
     "status": "completed"
    },
    "tags": []
   },
   "outputs": [
    {
     "name": "stdout",
     "output_type": "stream",
     "text": [
      "Kept 0.84 747"
     ]
    }
   ],
   "source": [
    "dr2_N0 = filter(row -> row.N ==0, dr2)\n",
    "print(\"Kept \",round(size(dr2_N0)[1]/size(dr2)[1],digits=2),\" \",size(dr2_N0)[1])"
   ]
  },
  {
   "cell_type": "code",
   "execution_count": 26,
   "id": "a1eaec10-3a86-42d1-bcfb-1daafe8a4641",
   "metadata": {
    "execution": {
     "iopub.execute_input": "2022-12-19T16:42:41.872000Z",
     "iopub.status.busy": "2022-12-19T16:42:41.872000Z",
     "iopub.status.idle": "2022-12-19T16:42:42.927000Z",
     "shell.execute_reply": "2022-12-19T16:42:42.927000Z"
    },
    "papermill": {
     "duration": 1.063685,
     "end_time": "2022-12-19T14:42:42.929073",
     "exception": false,
     "start_time": "2022-12-19T14:42:41.865388",
     "status": "completed"
    },
    "tags": []
   },
   "outputs": [
    {
     "name": "stdout",
     "output_type": "stream",
     "text": [
      "(747, 23373)\n"
     ]
    },
    {
     "data": {
      "text/plain": [
       "0"
      ]
     },
     "execution_count": 26,
     "metadata": {},
     "output_type": "execute_result"
    }
   ],
   "source": [
    "#get the final set odf sequences\n",
    "sub_alignment!(aln, dr2_N0.ID)\n",
    "println(size(aln.M))\n",
    "JuliaClusterAndTreeTools.write_to_fasta(aln, output_file_name)"
   ]
  },
  {
   "cell_type": "code",
   "execution_count": null,
   "id": "c3fa298f-82b6-4fe5-aea9-ef912b127708",
   "metadata": {
    "papermill": {
     "duration": 0.006086,
     "end_time": "2022-12-19T14:42:42.945230",
     "exception": false,
     "start_time": "2022-12-19T14:42:42.939144",
     "status": "completed"
    },
    "tags": []
   },
   "outputs": [],
   "source": []
  },
  {
   "cell_type": "code",
   "execution_count": 27,
   "id": "dbd6da24-7a70-4355-8da2-ff302c1f72e8",
   "metadata": {
    "execution": {
     "iopub.execute_input": "2022-12-19T16:42:42.957000Z",
     "iopub.status.busy": "2022-12-19T16:42:42.957000Z",
     "iopub.status.idle": "2022-12-19T16:42:43.055000Z",
     "shell.execute_reply": "2022-12-19T16:42:43.055000Z"
    },
    "papermill": {
     "duration": 0.106255,
     "end_time": "2022-12-19T14:42:43.057292",
     "exception": false,
     "start_time": "2022-12-19T14:42:42.951037",
     "status": "completed"
    },
    "tags": []
   },
   "outputs": [
    {
     "data": {
      "text/plain": [
       "\"/mnt/raid/covid-phylogeny/audines11/rez/lineages/BA.2/alignment_nextclade_1000_kept_rows.txt\""
      ]
     },
     "execution_count": 27,
     "metadata": {},
     "output_type": "execute_result"
    }
   ],
   "source": [
    "CSV.write(rows_after_filter, dr2_N0[:,[\"ID\"]],writeheader=false)"
   ]
  },
  {
   "cell_type": "code",
   "execution_count": 28,
   "id": "8d67074b-aecb-4eae-bb08-deabcf2735eb",
   "metadata": {
    "execution": {
     "iopub.execute_input": "2022-12-19T16:42:43.076000Z",
     "iopub.status.busy": "2022-12-19T16:42:43.076000Z",
     "iopub.status.idle": "2022-12-19T16:42:44.589000Z",
     "shell.execute_reply": "2022-12-19T16:42:44.589000Z"
    },
    "papermill": {
     "duration": 1.52136,
     "end_time": "2022-12-19T14:42:44.590642",
     "exception": false,
     "start_time": "2022-12-19T14:42:43.069282",
     "status": "completed"
    },
    "tags": []
   },
   "outputs": [
    {
     "data": {
      "text/plain": [
       "23373-element Vector{Char}:\n",
       " 'G': ASCII/Unicode U+0047 (category Lu: Letter, uppercase)\n",
       " 'T': ASCII/Unicode U+0054 (category Lu: Letter, uppercase)\n",
       " 'A': ASCII/Unicode U+0041 (category Lu: Letter, uppercase)\n",
       " 'A': ASCII/Unicode U+0041 (category Lu: Letter, uppercase)\n",
       " 'T': ASCII/Unicode U+0054 (category Lu: Letter, uppercase)\n",
       " 'A': ASCII/Unicode U+0041 (category Lu: Letter, uppercase)\n",
       " 'A': ASCII/Unicode U+0041 (category Lu: Letter, uppercase)\n",
       " 'A': ASCII/Unicode U+0041 (category Lu: Letter, uppercase)\n",
       " 'G': ASCII/Unicode U+0047 (category Lu: Letter, uppercase)\n",
       " 'G': ASCII/Unicode U+0047 (category Lu: Letter, uppercase)\n",
       " 'A': ASCII/Unicode U+0041 (category Lu: Letter, uppercase)\n",
       " 'G': ASCII/Unicode U+0047 (category Lu: Letter, uppercase)\n",
       " 'C': ASCII/Unicode U+0043 (category Lu: Letter, uppercase)\n",
       " ⋮\n",
       " 'A': ASCII/Unicode U+0041 (category Lu: Letter, uppercase)\n",
       " 'A': ASCII/Unicode U+0041 (category Lu: Letter, uppercase)\n",
       " 'G': ASCII/Unicode U+0047 (category Lu: Letter, uppercase)\n",
       " 'A': ASCII/Unicode U+0041 (category Lu: Letter, uppercase)\n",
       " 'A': ASCII/Unicode U+0041 (category Lu: Letter, uppercase)\n",
       " 'C': ASCII/Unicode U+0043 (category Lu: Letter, uppercase)\n",
       " 'T': ASCII/Unicode U+0054 (category Lu: Letter, uppercase)\n",
       " 'T': ASCII/Unicode U+0054 (category Lu: Letter, uppercase)\n",
       " 'C': ASCII/Unicode U+0043 (category Lu: Letter, uppercase)\n",
       " 'T': ASCII/Unicode U+0054 (category Lu: Letter, uppercase)\n",
       " 'C': ASCII/Unicode U+0043 (category Lu: Letter, uppercase)\n",
       " 'C': ASCII/Unicode U+0043 (category Lu: Letter, uppercase)"
      ]
     },
     "execution_count": 28,
     "metadata": {},
     "output_type": "execute_result"
    }
   ],
   "source": [
    "#remove the conservative columns\n",
    "entropy_values_full, conservation_values_full = aln_conservation(aln)\n",
    "refs = collect(join(aln.M[aln.name_sequence_map[reference_seq_id],:]))\n",
    "#collect(join(aln.M[1,:]))"
   ]
  },
  {
   "cell_type": "code",
   "execution_count": 29,
   "id": "eb9977d3-e560-44e0-a565-30efd0a58eaf",
   "metadata": {
    "execution": {
     "iopub.execute_input": "2022-12-19T16:42:44.607000Z",
     "iopub.status.busy": "2022-12-19T16:42:44.607000Z",
     "iopub.status.idle": "2022-12-19T16:42:44.622000Z",
     "shell.execute_reply": "2022-12-19T16:42:44.622000Z"
    },
    "papermill": {
     "duration": 0.022881,
     "end_time": "2022-12-19T14:42:44.624188",
     "exception": false,
     "start_time": "2022-12-19T14:42:44.601307",
     "status": "completed"
    },
    "tags": []
   },
   "outputs": [
    {
     "name": "stdout",
     "output_type": "stream",
     "text": [
      "Final length: 23373\n",
      "Initial length: 29903\n"
     ]
    }
   ],
   "source": [
    "println(\"Final length: \",length(refs))\n",
    "initial_length - length(blacklist_positions)\n",
    "println(\"Initial length: \",initial_length)"
   ]
  },
  {
   "cell_type": "code",
   "execution_count": 30,
   "id": "073a5e2d-9783-4ddb-a9dd-9483c7f7afe8",
   "metadata": {
    "execution": {
     "iopub.execute_input": "2022-12-19T16:42:44.643000Z",
     "iopub.status.busy": "2022-12-19T16:42:44.643000Z",
     "iopub.status.idle": "2022-12-19T16:42:44.897000Z",
     "shell.execute_reply": "2022-12-19T16:42:44.897000Z"
    },
    "papermill": {
     "duration": 0.262946,
     "end_time": "2022-12-19T14:42:44.898943",
     "exception": false,
     "start_time": "2022-12-19T14:42:44.635997",
     "status": "completed"
    },
    "tags": []
   },
   "outputs": [
    {
     "data": {
      "text/plain": [
       "(23373, 5)"
      ]
     },
     "execution_count": 30,
     "metadata": {},
     "output_type": "execute_result"
    }
   ],
   "source": [
    "df_full_set = DataFrame(Reference=refs,ConsFull = conservation_values_full,EntropyFull = entropy_values_full,NRorg = dc_woterminalgaps_woN.Position, NR=1:length(refs))\n",
    "size(df_full_set)"
   ]
  },
  {
   "cell_type": "code",
   "execution_count": 31,
   "id": "9acc3a21-9443-4a43-a177-01380df3e563",
   "metadata": {
    "execution": {
     "iopub.execute_input": "2022-12-19T16:42:44.916000Z",
     "iopub.status.busy": "2022-12-19T16:42:44.916000Z",
     "iopub.status.idle": "2022-12-19T16:42:45.008000Z",
     "shell.execute_reply": "2022-12-19T16:42:45.007000Z"
    },
    "papermill": {
     "duration": 0.099934,
     "end_time": "2022-12-19T14:42:45.009345",
     "exception": false,
     "start_time": "2022-12-19T14:42:44.909411",
     "status": "completed"
    },
    "tags": []
   },
   "outputs": [
    {
     "data": {
      "text/plain": [
       "23373-element Vector{Char}:\n",
       " 'G': ASCII/Unicode U+0047 (category Lu: Letter, uppercase)\n",
       " 'T': ASCII/Unicode U+0054 (category Lu: Letter, uppercase)\n",
       " 'A': ASCII/Unicode U+0041 (category Lu: Letter, uppercase)\n",
       " 'A': ASCII/Unicode U+0041 (category Lu: Letter, uppercase)\n",
       " 'T': ASCII/Unicode U+0054 (category Lu: Letter, uppercase)\n",
       " 'A': ASCII/Unicode U+0041 (category Lu: Letter, uppercase)\n",
       " 'A': ASCII/Unicode U+0041 (category Lu: Letter, uppercase)\n",
       " 'A': ASCII/Unicode U+0041 (category Lu: Letter, uppercase)\n",
       " 'G': ASCII/Unicode U+0047 (category Lu: Letter, uppercase)\n",
       " 'G': ASCII/Unicode U+0047 (category Lu: Letter, uppercase)\n",
       " 'A': ASCII/Unicode U+0041 (category Lu: Letter, uppercase)\n",
       " 'G': ASCII/Unicode U+0047 (category Lu: Letter, uppercase)\n",
       " 'C': ASCII/Unicode U+0043 (category Lu: Letter, uppercase)\n",
       " ⋮\n",
       " 'A': ASCII/Unicode U+0041 (category Lu: Letter, uppercase)\n",
       " 'A': ASCII/Unicode U+0041 (category Lu: Letter, uppercase)\n",
       " 'G': ASCII/Unicode U+0047 (category Lu: Letter, uppercase)\n",
       " 'A': ASCII/Unicode U+0041 (category Lu: Letter, uppercase)\n",
       " 'A': ASCII/Unicode U+0041 (category Lu: Letter, uppercase)\n",
       " 'C': ASCII/Unicode U+0043 (category Lu: Letter, uppercase)\n",
       " 'T': ASCII/Unicode U+0054 (category Lu: Letter, uppercase)\n",
       " 'T': ASCII/Unicode U+0054 (category Lu: Letter, uppercase)\n",
       " 'C': ASCII/Unicode U+0043 (category Lu: Letter, uppercase)\n",
       " 'T': ASCII/Unicode U+0054 (category Lu: Letter, uppercase)\n",
       " 'C': ASCII/Unicode U+0043 (category Lu: Letter, uppercase)\n",
       " 'C': ASCII/Unicode U+0043 (category Lu: Letter, uppercase)"
      ]
     },
     "execution_count": 31,
     "metadata": {},
     "output_type": "execute_result"
    }
   ],
   "source": [
    "df_full_set.Rorg = map((x) -> reference_seq[x], df_full_set.NRorg)"
   ]
  },
  {
   "cell_type": "code",
   "execution_count": 32,
   "id": "74c6705d-ec36-486c-8a7c-cc8ec7e3ead1",
   "metadata": {
    "execution": {
     "iopub.execute_input": "2022-12-19T16:42:45.027000Z",
     "iopub.status.busy": "2022-12-19T16:42:45.027000Z",
     "iopub.status.idle": "2022-12-19T16:42:47.535000Z",
     "shell.execute_reply": "2022-12-19T16:42:47.535000Z"
    },
    "papermill": {
     "duration": 2.517671,
     "end_time": "2022-12-19T14:42:47.537255",
     "exception": false,
     "start_time": "2022-12-19T14:42:45.019584",
     "status": "completed"
    },
    "tags": []
   },
   "outputs": [
    {
     "data": {
      "text/html": [
       "<div><div style = \"float: left;\"><span>23373×6 DataFrame</span></div><div style = \"float: right;\"><span style = \"font-style: italic;\">23348 rows omitted</span></div><div style = \"clear: both;\"></div></div><div class = \"data-frame\" style = \"overflow-x: scroll;\"><table class = \"data-frame\" style = \"margin-bottom: 6px;\"><thead><tr class = \"header\"><th class = \"rowNumber\" style = \"font-weight: bold; text-align: right;\">Row</th><th style = \"text-align: left;\">Reference</th><th style = \"text-align: left;\">ConsFull</th><th style = \"text-align: left;\">EntropyFull</th><th style = \"text-align: left;\">NRorg</th><th style = \"text-align: left;\">NR</th><th style = \"text-align: left;\">Rorg</th></tr><tr class = \"subheader headerLastRow\"><th class = \"rowNumber\" style = \"font-weight: bold; text-align: right;\"></th><th title = \"Char\" style = \"text-align: left;\">Char</th><th title = \"Float64\" style = \"text-align: left;\">Float64</th><th title = \"Float64\" style = \"text-align: left;\">Float64</th><th title = \"Int64\" style = \"text-align: left;\">Int64</th><th title = \"Int64\" style = \"text-align: left;\">Int64</th><th title = \"Char\" style = \"text-align: left;\">Char</th></tr></thead><tbody><tr><td class = \"rowNumber\" style = \"font-weight: bold; text-align: right;\">1</td><td style = \"text-align: left;\">G</td><td style = \"text-align: right;\">1.0</td><td style = \"text-align: right;\">0.0</td><td style = \"text-align: right;\">645</td><td style = \"text-align: right;\">1</td><td style = \"text-align: left;\">G</td></tr><tr><td class = \"rowNumber\" style = \"font-weight: bold; text-align: right;\">2</td><td style = \"text-align: left;\">T</td><td style = \"text-align: right;\">1.0</td><td style = \"text-align: right;\">0.0</td><td style = \"text-align: right;\">646</td><td style = \"text-align: right;\">2</td><td style = \"text-align: left;\">T</td></tr><tr><td class = \"rowNumber\" style = \"font-weight: bold; text-align: right;\">3</td><td style = \"text-align: left;\">A</td><td style = \"text-align: right;\">1.0</td><td style = \"text-align: right;\">0.0</td><td style = \"text-align: right;\">647</td><td style = \"text-align: right;\">3</td><td style = \"text-align: left;\">A</td></tr><tr><td class = \"rowNumber\" style = \"font-weight: bold; text-align: right;\">4</td><td style = \"text-align: left;\">A</td><td style = \"text-align: right;\">1.0</td><td style = \"text-align: right;\">0.0</td><td style = \"text-align: right;\">648</td><td style = \"text-align: right;\">4</td><td style = \"text-align: left;\">A</td></tr><tr><td class = \"rowNumber\" style = \"font-weight: bold; text-align: right;\">5</td><td style = \"text-align: left;\">T</td><td style = \"text-align: right;\">1.0</td><td style = \"text-align: right;\">0.0</td><td style = \"text-align: right;\">649</td><td style = \"text-align: right;\">5</td><td style = \"text-align: left;\">T</td></tr><tr><td class = \"rowNumber\" style = \"font-weight: bold; text-align: right;\">6</td><td style = \"text-align: left;\">A</td><td style = \"text-align: right;\">1.0</td><td style = \"text-align: right;\">0.0</td><td style = \"text-align: right;\">650</td><td style = \"text-align: right;\">6</td><td style = \"text-align: left;\">A</td></tr><tr><td class = \"rowNumber\" style = \"font-weight: bold; text-align: right;\">7</td><td style = \"text-align: left;\">A</td><td style = \"text-align: right;\">1.0</td><td style = \"text-align: right;\">0.0</td><td style = \"text-align: right;\">651</td><td style = \"text-align: right;\">7</td><td style = \"text-align: left;\">A</td></tr><tr><td class = \"rowNumber\" style = \"font-weight: bold; text-align: right;\">8</td><td style = \"text-align: left;\">A</td><td style = \"text-align: right;\">1.0</td><td style = \"text-align: right;\">0.0</td><td style = \"text-align: right;\">652</td><td style = \"text-align: right;\">8</td><td style = \"text-align: left;\">A</td></tr><tr><td class = \"rowNumber\" style = \"font-weight: bold; text-align: right;\">9</td><td style = \"text-align: left;\">G</td><td style = \"text-align: right;\">1.0</td><td style = \"text-align: right;\">0.0</td><td style = \"text-align: right;\">653</td><td style = \"text-align: right;\">9</td><td style = \"text-align: left;\">G</td></tr><tr><td class = \"rowNumber\" style = \"font-weight: bold; text-align: right;\">10</td><td style = \"text-align: left;\">G</td><td style = \"text-align: right;\">1.0</td><td style = \"text-align: right;\">0.0</td><td style = \"text-align: right;\">654</td><td style = \"text-align: right;\">10</td><td style = \"text-align: left;\">G</td></tr><tr><td class = \"rowNumber\" style = \"font-weight: bold; text-align: right;\">11</td><td style = \"text-align: left;\">A</td><td style = \"text-align: right;\">1.0</td><td style = \"text-align: right;\">0.0</td><td style = \"text-align: right;\">655</td><td style = \"text-align: right;\">11</td><td style = \"text-align: left;\">A</td></tr><tr><td class = \"rowNumber\" style = \"font-weight: bold; text-align: right;\">12</td><td style = \"text-align: left;\">G</td><td style = \"text-align: right;\">0.998661</td><td style = \"text-align: right;\">0.0147078</td><td style = \"text-align: right;\">656</td><td style = \"text-align: right;\">12</td><td style = \"text-align: left;\">G</td></tr><tr><td class = \"rowNumber\" style = \"font-weight: bold; text-align: right;\">13</td><td style = \"text-align: left;\">C</td><td style = \"text-align: right;\">0.997323</td><td style = \"text-align: right;\">0.0267355</td><td style = \"text-align: right;\">657</td><td style = \"text-align: right;\">13</td><td style = \"text-align: left;\">C</td></tr><tr><td style = \"text-align: right;\">&vellip;</td><td style = \"text-align: right;\">&vellip;</td><td style = \"text-align: right;\">&vellip;</td><td style = \"text-align: right;\">&vellip;</td><td style = \"text-align: right;\">&vellip;</td><td style = \"text-align: right;\">&vellip;</td><td style = \"text-align: right;\">&vellip;</td></tr><tr><td class = \"rowNumber\" style = \"font-weight: bold; text-align: right;\">23362</td><td style = \"text-align: left;\">A</td><td style = \"text-align: right;\">1.0</td><td style = \"text-align: right;\">0.0</td><td style = \"text-align: right;\">28880</td><td style = \"text-align: right;\">23362</td><td style = \"text-align: left;\">A</td></tr><tr><td class = \"rowNumber\" style = \"font-weight: bold; text-align: right;\">23363</td><td style = \"text-align: left;\">A</td><td style = \"text-align: right;\">0.997323</td><td style = \"text-align: right;\">0.0267355</td><td style = \"text-align: right;\">28881</td><td style = \"text-align: right;\">23363</td><td style = \"text-align: left;\">A</td></tr><tr><td class = \"rowNumber\" style = \"font-weight: bold; text-align: right;\">23364</td><td style = \"text-align: left;\">G</td><td style = \"text-align: right;\">0.998661</td><td style = \"text-align: right;\">0.0147078</td><td style = \"text-align: right;\">28884</td><td style = \"text-align: right;\">23364</td><td style = \"text-align: left;\">G</td></tr><tr><td class = \"rowNumber\" style = \"font-weight: bold; text-align: right;\">23365</td><td style = \"text-align: left;\">A</td><td style = \"text-align: right;\">1.0</td><td style = \"text-align: right;\">0.0</td><td style = \"text-align: right;\">28885</td><td style = \"text-align: right;\">23365</td><td style = \"text-align: left;\">A</td></tr><tr><td class = \"rowNumber\" style = \"font-weight: bold; text-align: right;\">23366</td><td style = \"text-align: left;\">A</td><td style = \"text-align: right;\">1.0</td><td style = \"text-align: right;\">0.0</td><td style = \"text-align: right;\">28886</td><td style = \"text-align: right;\">23366</td><td style = \"text-align: left;\">A</td></tr><tr><td class = \"rowNumber\" style = \"font-weight: bold; text-align: right;\">23367</td><td style = \"text-align: left;\">C</td><td style = \"text-align: right;\">1.0</td><td style = \"text-align: right;\">0.0</td><td style = \"text-align: right;\">28887</td><td style = \"text-align: right;\">23367</td><td style = \"text-align: left;\">C</td></tr><tr><td class = \"rowNumber\" style = \"font-weight: bold; text-align: right;\">23368</td><td style = \"text-align: left;\">T</td><td style = \"text-align: right;\">1.0</td><td style = \"text-align: right;\">0.0</td><td style = \"text-align: right;\">28888</td><td style = \"text-align: right;\">23368</td><td style = \"text-align: left;\">T</td></tr><tr><td class = \"rowNumber\" style = \"font-weight: bold; text-align: right;\">23369</td><td style = \"text-align: left;\">T</td><td style = \"text-align: right;\">1.0</td><td style = \"text-align: right;\">0.0</td><td style = \"text-align: right;\">28889</td><td style = \"text-align: right;\">23369</td><td style = \"text-align: left;\">T</td></tr><tr><td class = \"rowNumber\" style = \"font-weight: bold; text-align: right;\">23370</td><td style = \"text-align: left;\">C</td><td style = \"text-align: right;\">1.0</td><td style = \"text-align: right;\">0.0</td><td style = \"text-align: right;\">28890</td><td style = \"text-align: right;\">23370</td><td style = \"text-align: left;\">C</td></tr><tr><td class = \"rowNumber\" style = \"font-weight: bold; text-align: right;\">23371</td><td style = \"text-align: left;\">T</td><td style = \"text-align: right;\">1.0</td><td style = \"text-align: right;\">0.0</td><td style = \"text-align: right;\">28891</td><td style = \"text-align: right;\">23371</td><td style = \"text-align: left;\">T</td></tr><tr><td class = \"rowNumber\" style = \"font-weight: bold; text-align: right;\">23372</td><td style = \"text-align: left;\">C</td><td style = \"text-align: right;\">1.0</td><td style = \"text-align: right;\">0.0</td><td style = \"text-align: right;\">28892</td><td style = \"text-align: right;\">23372</td><td style = \"text-align: left;\">C</td></tr><tr><td class = \"rowNumber\" style = \"font-weight: bold; text-align: right;\">23373</td><td style = \"text-align: left;\">C</td><td style = \"text-align: right;\">1.0</td><td style = \"text-align: right;\">0.0</td><td style = \"text-align: right;\">28893</td><td style = \"text-align: right;\">23373</td><td style = \"text-align: left;\">C</td></tr></tbody></table></div>"
      ],
      "text/latex": [
       "\\begin{tabular}{r|cccccc}\n",
       "\t& Reference & ConsFull & EntropyFull & NRorg & NR & Rorg\\\\\n",
       "\t\\hline\n",
       "\t& Char & Float64 & Float64 & Int64 & Int64 & Char\\\\\n",
       "\t\\hline\n",
       "\t1 & G & 1.0 & 0.0 & 645 & 1 & G \\\\\n",
       "\t2 & T & 1.0 & 0.0 & 646 & 2 & T \\\\\n",
       "\t3 & A & 1.0 & 0.0 & 647 & 3 & A \\\\\n",
       "\t4 & A & 1.0 & 0.0 & 648 & 4 & A \\\\\n",
       "\t5 & T & 1.0 & 0.0 & 649 & 5 & T \\\\\n",
       "\t6 & A & 1.0 & 0.0 & 650 & 6 & A \\\\\n",
       "\t7 & A & 1.0 & 0.0 & 651 & 7 & A \\\\\n",
       "\t8 & A & 1.0 & 0.0 & 652 & 8 & A \\\\\n",
       "\t9 & G & 1.0 & 0.0 & 653 & 9 & G \\\\\n",
       "\t10 & G & 1.0 & 0.0 & 654 & 10 & G \\\\\n",
       "\t11 & A & 1.0 & 0.0 & 655 & 11 & A \\\\\n",
       "\t12 & G & 0.998661 & 0.0147078 & 656 & 12 & G \\\\\n",
       "\t13 & C & 0.997323 & 0.0267355 & 657 & 13 & C \\\\\n",
       "\t14 & T & 1.0 & 0.0 & 658 & 14 & T \\\\\n",
       "\t15 & G & 1.0 & 0.0 & 659 & 15 & G \\\\\n",
       "\t16 & G & 1.0 & 0.0 & 660 & 16 & G \\\\\n",
       "\t17 & T & 1.0 & 0.0 & 661 & 17 & T \\\\\n",
       "\t18 & G & 1.0 & 0.0 & 662 & 18 & G \\\\\n",
       "\t19 & G & 1.0 & 0.0 & 663 & 19 & G \\\\\n",
       "\t20 & C & 1.0 & 0.0 & 664 & 20 & C \\\\\n",
       "\t21 & C & 1.0 & 0.0 & 665 & 21 & C \\\\\n",
       "\t22 & A & 1.0 & 0.0 & 666 & 22 & A \\\\\n",
       "\t23 & T & 1.0 & 0.0 & 667 & 23 & T \\\\\n",
       "\t24 & A & 1.0 & 0.0 & 668 & 24 & A \\\\\n",
       "\t25 & G & 0.998661 & 0.0147078 & 669 & 25 & G \\\\\n",
       "\t26 & G & 1.0 & 0.0 & 670 & 26 & G \\\\\n",
       "\t27 & T & 1.0 & 0.0 & 671 & 27 & T \\\\\n",
       "\t28 & A & 1.0 & 0.0 & 672 & 28 & A \\\\\n",
       "\t29 & C & 0.998661 & 0.0147078 & 673 & 29 & C \\\\\n",
       "\t30 & G & 0.998661 & 0.0147078 & 674 & 30 & G \\\\\n",
       "\t$\\dots$ & $\\dots$ & $\\dots$ & $\\dots$ & $\\dots$ & $\\dots$ & $\\dots$ \\\\\n",
       "\\end{tabular}\n"
      ],
      "text/plain": [
       "\u001b[1m23373×6 DataFrame\u001b[0m\n",
       "\u001b[1m   Row \u001b[0m│\u001b[1m Reference \u001b[0m\u001b[1m ConsFull \u001b[0m\u001b[1m EntropyFull \u001b[0m\u001b[1m NRorg \u001b[0m\u001b[1m NR    \u001b[0m\u001b[1m Rorg \u001b[0m\n",
       "       │\u001b[90m Char      \u001b[0m\u001b[90m Float64  \u001b[0m\u001b[90m Float64     \u001b[0m\u001b[90m Int64 \u001b[0m\u001b[90m Int64 \u001b[0m\u001b[90m Char \u001b[0m\n",
       "───────┼──────────────────────────────────────────────────────\n",
       "     1 │ G          1.0         0.0          645      1  G\n",
       "     2 │ T          1.0         0.0          646      2  T\n",
       "     3 │ A          1.0         0.0          647      3  A\n",
       "     4 │ A          1.0         0.0          648      4  A\n",
       "     5 │ T          1.0         0.0          649      5  T\n",
       "     6 │ A          1.0         0.0          650      6  A\n",
       "     7 │ A          1.0         0.0          651      7  A\n",
       "     8 │ A          1.0         0.0          652      8  A\n",
       "     9 │ G          1.0         0.0          653      9  G\n",
       "    10 │ G          1.0         0.0          654     10  G\n",
       "    11 │ A          1.0         0.0          655     11  A\n",
       "   ⋮   │     ⋮         ⋮           ⋮         ⋮      ⋮     ⋮\n",
       " 23364 │ G          0.998661    0.0147078  28884  23364  G\n",
       " 23365 │ A          1.0         0.0        28885  23365  A\n",
       " 23366 │ A          1.0         0.0        28886  23366  A\n",
       " 23367 │ C          1.0         0.0        28887  23367  C\n",
       " 23368 │ T          1.0         0.0        28888  23368  T\n",
       " 23369 │ T          1.0         0.0        28889  23369  T\n",
       " 23370 │ C          1.0         0.0        28890  23370  C\n",
       " 23371 │ T          1.0         0.0        28891  23371  T\n",
       " 23372 │ C          1.0         0.0        28892  23372  C\n",
       " 23373 │ C          1.0         0.0        28893  23373  C\n",
       "\u001b[36m                                            23352 rows omitted\u001b[0m"
      ]
     },
     "execution_count": 32,
     "metadata": {},
     "output_type": "execute_result"
    }
   ],
   "source": [
    "df_full_set"
   ]
  },
  {
   "cell_type": "code",
   "execution_count": 33,
   "id": "f8f5138b-b498-4d2c-99e9-3e8b041bc20f",
   "metadata": {
    "execution": {
     "iopub.execute_input": "2022-12-19T16:42:47.555000Z",
     "iopub.status.busy": "2022-12-19T16:42:47.555000Z",
     "iopub.status.idle": "2022-12-19T16:42:47.646000Z",
     "shell.execute_reply": "2022-12-19T16:42:47.645000Z"
    },
    "papermill": {
     "duration": 0.099447,
     "end_time": "2022-12-19T14:42:47.647515",
     "exception": false,
     "start_time": "2022-12-19T14:42:47.548068",
     "status": "completed"
    },
    "tags": []
   },
   "outputs": [
    {
     "data": {
      "text/plain": [
       "29903-element Vector{Int64}:\n",
       "     0\n",
       "     0\n",
       "     0\n",
       "     0\n",
       "     0\n",
       "     0\n",
       "     0\n",
       "     0\n",
       "     0\n",
       "     0\n",
       "     0\n",
       "     0\n",
       "     0\n",
       "     ⋮\n",
       " 29724\n",
       " 29724\n",
       " 29724\n",
       " 29724\n",
       " 29724\n",
       " 29724\n",
       " 29724\n",
       " 29724\n",
       " 29724\n",
       " 29724\n",
       " 29724\n",
       " 29724"
      ]
     },
     "execution_count": 33,
     "metadata": {},
     "output_type": "execute_result"
    }
   ],
   "source": [
    "refdf = DataFrame(Reference=collect(join(reference_seq)), NRorg = 1:length(reference_seq))\n",
    "NRref = Array{Int64,1}()\n",
    "ct = 0\n",
    "for s in refdf.Reference\n",
    "    s != '-' ? ct = ct + 1 : \"\"\n",
    "    push!(NRref, ct)\n",
    "end\n",
    "refdf.NRref = NRref\n"
   ]
  },
  {
   "cell_type": "code",
   "execution_count": 34,
   "id": "3e4802b8-46db-495a-ba84-7c356709671a",
   "metadata": {
    "execution": {
     "iopub.execute_input": "2022-12-19T16:42:47.665000Z",
     "iopub.status.busy": "2022-12-19T16:42:47.665000Z",
     "iopub.status.idle": "2022-12-19T16:42:50.060000Z",
     "shell.execute_reply": "2022-12-19T16:42:50.060000Z"
    },
    "papermill": {
     "duration": 2.404466,
     "end_time": "2022-12-19T14:42:50.062644",
     "exception": false,
     "start_time": "2022-12-19T14:42:47.658178",
     "status": "completed"
    },
    "tags": []
   },
   "outputs": [
    {
     "data": {
      "text/html": [
       "<div><div style = \"float: left;\"><span>23373×6 DataFrame</span></div><div style = \"float: right;\"><span style = \"font-style: italic;\">23348 rows omitted</span></div><div style = \"clear: both;\"></div></div><div class = \"data-frame\" style = \"overflow-x: scroll;\"><table class = \"data-frame\" style = \"margin-bottom: 6px;\"><thead><tr class = \"header\"><th class = \"rowNumber\" style = \"font-weight: bold; text-align: right;\">Row</th><th style = \"text-align: left;\">Reference</th><th style = \"text-align: left;\">ConsFull</th><th style = \"text-align: left;\">EntropyFull</th><th style = \"text-align: left;\">NRorg</th><th style = \"text-align: left;\">NR</th><th style = \"text-align: left;\">NRref</th></tr><tr class = \"subheader headerLastRow\"><th class = \"rowNumber\" style = \"font-weight: bold; text-align: right;\"></th><th title = \"Char\" style = \"text-align: left;\">Char</th><th title = \"Float64\" style = \"text-align: left;\">Float64</th><th title = \"Float64\" style = \"text-align: left;\">Float64</th><th title = \"Int64\" style = \"text-align: left;\">Int64</th><th title = \"Int64\" style = \"text-align: left;\">Int64</th><th title = \"Union{Missing, Int64}\" style = \"text-align: left;\">Int64?</th></tr></thead><tbody><tr><td class = \"rowNumber\" style = \"font-weight: bold; text-align: right;\">1</td><td style = \"text-align: left;\">G</td><td style = \"text-align: right;\">1.0</td><td style = \"text-align: right;\">0.0</td><td style = \"text-align: right;\">645</td><td style = \"text-align: right;\">1</td><td style = \"text-align: right;\">595</td></tr><tr><td class = \"rowNumber\" style = \"font-weight: bold; text-align: right;\">2</td><td style = \"text-align: left;\">T</td><td style = \"text-align: right;\">1.0</td><td style = \"text-align: right;\">0.0</td><td style = \"text-align: right;\">646</td><td style = \"text-align: right;\">2</td><td style = \"text-align: right;\">596</td></tr><tr><td class = \"rowNumber\" style = \"font-weight: bold; text-align: right;\">3</td><td style = \"text-align: left;\">A</td><td style = \"text-align: right;\">1.0</td><td style = \"text-align: right;\">0.0</td><td style = \"text-align: right;\">647</td><td style = \"text-align: right;\">3</td><td style = \"text-align: right;\">597</td></tr><tr><td class = \"rowNumber\" style = \"font-weight: bold; text-align: right;\">4</td><td style = \"text-align: left;\">A</td><td style = \"text-align: right;\">1.0</td><td style = \"text-align: right;\">0.0</td><td style = \"text-align: right;\">648</td><td style = \"text-align: right;\">4</td><td style = \"text-align: right;\">598</td></tr><tr><td class = \"rowNumber\" style = \"font-weight: bold; text-align: right;\">5</td><td style = \"text-align: left;\">T</td><td style = \"text-align: right;\">1.0</td><td style = \"text-align: right;\">0.0</td><td style = \"text-align: right;\">649</td><td style = \"text-align: right;\">5</td><td style = \"text-align: right;\">599</td></tr><tr><td class = \"rowNumber\" style = \"font-weight: bold; text-align: right;\">6</td><td style = \"text-align: left;\">A</td><td style = \"text-align: right;\">1.0</td><td style = \"text-align: right;\">0.0</td><td style = \"text-align: right;\">650</td><td style = \"text-align: right;\">6</td><td style = \"text-align: right;\">600</td></tr><tr><td class = \"rowNumber\" style = \"font-weight: bold; text-align: right;\">7</td><td style = \"text-align: left;\">A</td><td style = \"text-align: right;\">1.0</td><td style = \"text-align: right;\">0.0</td><td style = \"text-align: right;\">651</td><td style = \"text-align: right;\">7</td><td style = \"text-align: right;\">601</td></tr><tr><td class = \"rowNumber\" style = \"font-weight: bold; text-align: right;\">8</td><td style = \"text-align: left;\">A</td><td style = \"text-align: right;\">1.0</td><td style = \"text-align: right;\">0.0</td><td style = \"text-align: right;\">652</td><td style = \"text-align: right;\">8</td><td style = \"text-align: right;\">602</td></tr><tr><td class = \"rowNumber\" style = \"font-weight: bold; text-align: right;\">9</td><td style = \"text-align: left;\">G</td><td style = \"text-align: right;\">1.0</td><td style = \"text-align: right;\">0.0</td><td style = \"text-align: right;\">653</td><td style = \"text-align: right;\">9</td><td style = \"text-align: right;\">603</td></tr><tr><td class = \"rowNumber\" style = \"font-weight: bold; text-align: right;\">10</td><td style = \"text-align: left;\">G</td><td style = \"text-align: right;\">1.0</td><td style = \"text-align: right;\">0.0</td><td style = \"text-align: right;\">654</td><td style = \"text-align: right;\">10</td><td style = \"text-align: right;\">604</td></tr><tr><td class = \"rowNumber\" style = \"font-weight: bold; text-align: right;\">11</td><td style = \"text-align: left;\">A</td><td style = \"text-align: right;\">1.0</td><td style = \"text-align: right;\">0.0</td><td style = \"text-align: right;\">655</td><td style = \"text-align: right;\">11</td><td style = \"text-align: right;\">605</td></tr><tr><td class = \"rowNumber\" style = \"font-weight: bold; text-align: right;\">12</td><td style = \"text-align: left;\">G</td><td style = \"text-align: right;\">0.998661</td><td style = \"text-align: right;\">0.0147078</td><td style = \"text-align: right;\">656</td><td style = \"text-align: right;\">12</td><td style = \"text-align: right;\">606</td></tr><tr><td class = \"rowNumber\" style = \"font-weight: bold; text-align: right;\">13</td><td style = \"text-align: left;\">C</td><td style = \"text-align: right;\">0.997323</td><td style = \"text-align: right;\">0.0267355</td><td style = \"text-align: right;\">657</td><td style = \"text-align: right;\">13</td><td style = \"text-align: right;\">607</td></tr><tr><td style = \"text-align: right;\">&vellip;</td><td style = \"text-align: right;\">&vellip;</td><td style = \"text-align: right;\">&vellip;</td><td style = \"text-align: right;\">&vellip;</td><td style = \"text-align: right;\">&vellip;</td><td style = \"text-align: right;\">&vellip;</td><td style = \"text-align: right;\">&vellip;</td></tr><tr><td class = \"rowNumber\" style = \"font-weight: bold; text-align: right;\">23362</td><td style = \"text-align: left;\">A</td><td style = \"text-align: right;\">1.0</td><td style = \"text-align: right;\">0.0</td><td style = \"text-align: right;\">28880</td><td style = \"text-align: right;\">23362</td><td style = \"text-align: right;\">28803</td></tr><tr><td class = \"rowNumber\" style = \"font-weight: bold; text-align: right;\">23363</td><td style = \"text-align: left;\">A</td><td style = \"text-align: right;\">0.997323</td><td style = \"text-align: right;\">0.0267355</td><td style = \"text-align: right;\">28881</td><td style = \"text-align: right;\">23363</td><td style = \"text-align: right;\">28804</td></tr><tr><td class = \"rowNumber\" style = \"font-weight: bold; text-align: right;\">23364</td><td style = \"text-align: left;\">G</td><td style = \"text-align: right;\">0.998661</td><td style = \"text-align: right;\">0.0147078</td><td style = \"text-align: right;\">28884</td><td style = \"text-align: right;\">23364</td><td style = \"text-align: right;\">28807</td></tr><tr><td class = \"rowNumber\" style = \"font-weight: bold; text-align: right;\">23365</td><td style = \"text-align: left;\">A</td><td style = \"text-align: right;\">1.0</td><td style = \"text-align: right;\">0.0</td><td style = \"text-align: right;\">28885</td><td style = \"text-align: right;\">23365</td><td style = \"text-align: right;\">28808</td></tr><tr><td class = \"rowNumber\" style = \"font-weight: bold; text-align: right;\">23366</td><td style = \"text-align: left;\">A</td><td style = \"text-align: right;\">1.0</td><td style = \"text-align: right;\">0.0</td><td style = \"text-align: right;\">28886</td><td style = \"text-align: right;\">23366</td><td style = \"text-align: right;\">28809</td></tr><tr><td class = \"rowNumber\" style = \"font-weight: bold; text-align: right;\">23367</td><td style = \"text-align: left;\">C</td><td style = \"text-align: right;\">1.0</td><td style = \"text-align: right;\">0.0</td><td style = \"text-align: right;\">28887</td><td style = \"text-align: right;\">23367</td><td style = \"text-align: right;\">28810</td></tr><tr><td class = \"rowNumber\" style = \"font-weight: bold; text-align: right;\">23368</td><td style = \"text-align: left;\">T</td><td style = \"text-align: right;\">1.0</td><td style = \"text-align: right;\">0.0</td><td style = \"text-align: right;\">28888</td><td style = \"text-align: right;\">23368</td><td style = \"text-align: right;\">28811</td></tr><tr><td class = \"rowNumber\" style = \"font-weight: bold; text-align: right;\">23369</td><td style = \"text-align: left;\">T</td><td style = \"text-align: right;\">1.0</td><td style = \"text-align: right;\">0.0</td><td style = \"text-align: right;\">28889</td><td style = \"text-align: right;\">23369</td><td style = \"text-align: right;\">28812</td></tr><tr><td class = \"rowNumber\" style = \"font-weight: bold; text-align: right;\">23370</td><td style = \"text-align: left;\">C</td><td style = \"text-align: right;\">1.0</td><td style = \"text-align: right;\">0.0</td><td style = \"text-align: right;\">28890</td><td style = \"text-align: right;\">23370</td><td style = \"text-align: right;\">28813</td></tr><tr><td class = \"rowNumber\" style = \"font-weight: bold; text-align: right;\">23371</td><td style = \"text-align: left;\">T</td><td style = \"text-align: right;\">1.0</td><td style = \"text-align: right;\">0.0</td><td style = \"text-align: right;\">28891</td><td style = \"text-align: right;\">23371</td><td style = \"text-align: right;\">28814</td></tr><tr><td class = \"rowNumber\" style = \"font-weight: bold; text-align: right;\">23372</td><td style = \"text-align: left;\">C</td><td style = \"text-align: right;\">1.0</td><td style = \"text-align: right;\">0.0</td><td style = \"text-align: right;\">28892</td><td style = \"text-align: right;\">23372</td><td style = \"text-align: right;\">28815</td></tr><tr><td class = \"rowNumber\" style = \"font-weight: bold; text-align: right;\">23373</td><td style = \"text-align: left;\">C</td><td style = \"text-align: right;\">1.0</td><td style = \"text-align: right;\">0.0</td><td style = \"text-align: right;\">28893</td><td style = \"text-align: right;\">23373</td><td style = \"text-align: right;\">28816</td></tr></tbody></table></div>"
      ],
      "text/latex": [
       "\\begin{tabular}{r|cccccc}\n",
       "\t& Reference & ConsFull & EntropyFull & NRorg & NR & NRref\\\\\n",
       "\t\\hline\n",
       "\t& Char & Float64 & Float64 & Int64 & Int64 & Int64?\\\\\n",
       "\t\\hline\n",
       "\t1 & G & 1.0 & 0.0 & 645 & 1 & 595 \\\\\n",
       "\t2 & T & 1.0 & 0.0 & 646 & 2 & 596 \\\\\n",
       "\t3 & A & 1.0 & 0.0 & 647 & 3 & 597 \\\\\n",
       "\t4 & A & 1.0 & 0.0 & 648 & 4 & 598 \\\\\n",
       "\t5 & T & 1.0 & 0.0 & 649 & 5 & 599 \\\\\n",
       "\t6 & A & 1.0 & 0.0 & 650 & 6 & 600 \\\\\n",
       "\t7 & A & 1.0 & 0.0 & 651 & 7 & 601 \\\\\n",
       "\t8 & A & 1.0 & 0.0 & 652 & 8 & 602 \\\\\n",
       "\t9 & G & 1.0 & 0.0 & 653 & 9 & 603 \\\\\n",
       "\t10 & G & 1.0 & 0.0 & 654 & 10 & 604 \\\\\n",
       "\t11 & A & 1.0 & 0.0 & 655 & 11 & 605 \\\\\n",
       "\t12 & G & 0.998661 & 0.0147078 & 656 & 12 & 606 \\\\\n",
       "\t13 & C & 0.997323 & 0.0267355 & 657 & 13 & 607 \\\\\n",
       "\t14 & T & 1.0 & 0.0 & 658 & 14 & 608 \\\\\n",
       "\t15 & G & 1.0 & 0.0 & 659 & 15 & 609 \\\\\n",
       "\t16 & G & 1.0 & 0.0 & 660 & 16 & 610 \\\\\n",
       "\t17 & T & 1.0 & 0.0 & 661 & 17 & 611 \\\\\n",
       "\t18 & G & 1.0 & 0.0 & 662 & 18 & 612 \\\\\n",
       "\t19 & G & 1.0 & 0.0 & 663 & 19 & 613 \\\\\n",
       "\t20 & C & 1.0 & 0.0 & 664 & 20 & 614 \\\\\n",
       "\t21 & C & 1.0 & 0.0 & 665 & 21 & 615 \\\\\n",
       "\t22 & A & 1.0 & 0.0 & 666 & 22 & 616 \\\\\n",
       "\t23 & T & 1.0 & 0.0 & 667 & 23 & 617 \\\\\n",
       "\t24 & A & 1.0 & 0.0 & 668 & 24 & 618 \\\\\n",
       "\t25 & G & 0.998661 & 0.0147078 & 669 & 25 & 619 \\\\\n",
       "\t26 & G & 1.0 & 0.0 & 670 & 26 & 620 \\\\\n",
       "\t27 & T & 1.0 & 0.0 & 671 & 27 & 621 \\\\\n",
       "\t28 & A & 1.0 & 0.0 & 672 & 28 & 622 \\\\\n",
       "\t29 & C & 0.998661 & 0.0147078 & 673 & 29 & 623 \\\\\n",
       "\t30 & G & 0.998661 & 0.0147078 & 674 & 30 & 624 \\\\\n",
       "\t$\\dots$ & $\\dots$ & $\\dots$ & $\\dots$ & $\\dots$ & $\\dots$ & $\\dots$ \\\\\n",
       "\\end{tabular}\n"
      ],
      "text/plain": [
       "\u001b[1m23373×6 DataFrame\u001b[0m\n",
       "\u001b[1m   Row \u001b[0m│\u001b[1m Reference \u001b[0m\u001b[1m ConsFull \u001b[0m\u001b[1m EntropyFull \u001b[0m\u001b[1m NRorg \u001b[0m\u001b[1m NR    \u001b[0m\u001b[1m NRref  \u001b[0m\n",
       "       │\u001b[90m Char      \u001b[0m\u001b[90m Float64  \u001b[0m\u001b[90m Float64     \u001b[0m\u001b[90m Int64 \u001b[0m\u001b[90m Int64 \u001b[0m\u001b[90m Int64? \u001b[0m\n",
       "───────┼────────────────────────────────────────────────────────\n",
       "     1 │ G          1.0         0.0          645      1     595\n",
       "     2 │ T          1.0         0.0          646      2     596\n",
       "     3 │ A          1.0         0.0          647      3     597\n",
       "     4 │ A          1.0         0.0          648      4     598\n",
       "     5 │ T          1.0         0.0          649      5     599\n",
       "     6 │ A          1.0         0.0          650      6     600\n",
       "     7 │ A          1.0         0.0          651      7     601\n",
       "     8 │ A          1.0         0.0          652      8     602\n",
       "     9 │ G          1.0         0.0          653      9     603\n",
       "    10 │ G          1.0         0.0          654     10     604\n",
       "    11 │ A          1.0         0.0          655     11     605\n",
       "   ⋮   │     ⋮         ⋮           ⋮         ⋮      ⋮      ⋮\n",
       " 23364 │ G          0.998661    0.0147078  28884  23364   28807\n",
       " 23365 │ A          1.0         0.0        28885  23365   28808\n",
       " 23366 │ A          1.0         0.0        28886  23366   28809\n",
       " 23367 │ C          1.0         0.0        28887  23367   28810\n",
       " 23368 │ T          1.0         0.0        28888  23368   28811\n",
       " 23369 │ T          1.0         0.0        28889  23369   28812\n",
       " 23370 │ C          1.0         0.0        28890  23370   28813\n",
       " 23371 │ T          1.0         0.0        28891  23371   28814\n",
       " 23372 │ C          1.0         0.0        28892  23372   28815\n",
       " 23373 │ C          1.0         0.0        28893  23373   28816\n",
       "\u001b[36m                                              23352 rows omitted\u001b[0m"
      ]
     },
     "execution_count": 34,
     "metadata": {},
     "output_type": "execute_result"
    }
   ],
   "source": [
    "out_full = leftjoin(df_full_set,refdf, on = [:Reference,:NRorg])\n",
    "select(out_full, Not([:Rorg]) )"
   ]
  },
  {
   "cell_type": "code",
   "execution_count": 35,
   "id": "3d9faf2c-43c4-4779-a0e4-547941a7f902",
   "metadata": {
    "execution": {
     "iopub.execute_input": "2022-12-19T16:42:50.080000Z",
     "iopub.status.busy": "2022-12-19T16:42:50.080000Z",
     "iopub.status.idle": "2022-12-19T16:42:50.391000Z",
     "shell.execute_reply": "2022-12-19T16:42:50.390000Z"
    },
    "papermill": {
     "duration": 0.318368,
     "end_time": "2022-12-19T14:42:50.392517",
     "exception": false,
     "start_time": "2022-12-19T14:42:50.074149",
     "status": "completed"
    },
    "tags": []
   },
   "outputs": [
    {
     "data": {
      "text/plain": [
       "276-element Vector{String}:\n",
       " \"England/ALDP-3C3EB7C/2022\"\n",
       " \"England/QEUH-3C5A530/2022\"\n",
       " \"England/ALDP-3C2902A/2022\"\n",
       " \"England/QEUH-3C5A8FB/2022\"\n",
       " \"England/PHEC-YYDUCS7/2022\"\n",
       " \"England/PHEP-YYRT8NQ/2022\"\n",
       " \"England/MILK-365C279/2022\"\n",
       " \"England/QEUH-3C827C0/2022\"\n",
       " \"England/LSPA-3C99CC7/2022\"\n",
       " \"England/LSPA-3C92B3A/2022\"\n",
       " \"England/LSPA-3C842FA/2022\"\n",
       " \"England/QEUH-3C88DB9/2022\"\n",
       " \"England/LSPA-3C7C046/2022\"\n",
       " ⋮\n",
       " \"England/QEUH-3C4E5B7/2022\"\n",
       " \"England/MILK-395051F/2022\"\n",
       " \"England/QEUH-3BDE40B/2022\"\n",
       " \"England/MILK-3875885/2022\"\n",
       " \"England/LSPA-3C6FD9A/2022\"\n",
       " \"England/QEUH-3C5CE06/2022\"\n",
       " \"England/LSPA-3C6C841/2022\"\n",
       " \"England/QEUH-3C7570C/2022\"\n",
       " \"England/ALDP-3BE4B1C/2022\"\n",
       " \"England/ALDP-3C3EA51/2022\"\n",
       " \"England/ALDP-3C3F4E9/2022\"\n",
       " \"England/LSPA-3C3D2B4/2022\""
      ]
     },
     "execution_count": 35,
     "metadata": {},
     "output_type": "execute_result"
    }
   ],
   "source": [
    "country_ids = aln.names[map((x) -> occursin(country,x),aln.names)]"
   ]
  },
  {
   "cell_type": "code",
   "execution_count": 36,
   "id": "a93ff8f4-a9b9-432c-bcbd-1e0a84a38b39",
   "metadata": {
    "execution": {
     "iopub.execute_input": "2022-12-19T16:42:50.411000Z",
     "iopub.status.busy": "2022-12-19T16:42:50.411000Z",
     "iopub.status.idle": "2022-12-19T16:42:50.422000Z",
     "shell.execute_reply": "2022-12-19T16:42:50.422000Z"
    },
    "papermill": {
     "duration": 0.020288,
     "end_time": "2022-12-19T14:42:50.423826",
     "exception": false,
     "start_time": "2022-12-19T14:42:50.403538",
     "status": "completed"
    },
    "tags": []
   },
   "outputs": [],
   "source": [
    "#get country aspecific\n",
    "#sub_alignment!(aln, country_ids)"
   ]
  },
  {
   "cell_type": "code",
   "execution_count": 37,
   "id": "3a7c9311-a5c3-4d7b-ba6f-e2cf25987e5b",
   "metadata": {
    "execution": {
     "iopub.execute_input": "2022-12-19T16:42:50.443000Z",
     "iopub.status.busy": "2022-12-19T16:42:50.442000Z",
     "iopub.status.idle": "2022-12-19T16:42:51.566000Z",
     "shell.execute_reply": "2022-12-19T16:42:51.566000Z"
    },
    "papermill": {
     "duration": 1.131932,
     "end_time": "2022-12-19T14:42:51.568376",
     "exception": false,
     "start_time": "2022-12-19T14:42:50.436444",
     "status": "completed"
    },
    "tags": []
   },
   "outputs": [
    {
     "data": {
      "text/plain": [
       "([0.0, 0.0, 0.0, 0.0, 0.0, 0.0, 0.0, 0.0, 0.0, 0.0  …  0.014707755533002362, 0.0, 0.0, 0.0, 0.0, 0.0, 0.0, 0.0, 0.0, 0.0], [1.0, 1.0, 1.0, 1.0, 1.0, 1.0, 1.0, 1.0, 1.0, 1.0  …  0.998661311914324, 1.0, 1.0, 1.0, 1.0, 1.0, 1.0, 1.0, 1.0, 1.0])"
      ]
     },
     "execution_count": 37,
     "metadata": {},
     "output_type": "execute_result"
    }
   ],
   "source": [
    "size(out_full)\n",
    "entropy_values_country, conservation_values_country = aln_conservation(aln)\n",
    "\n"
   ]
  },
  {
   "cell_type": "code",
   "execution_count": 38,
   "id": "20997e26-c8e2-4bef-ac9a-ac24bf715ccb",
   "metadata": {
    "execution": {
     "iopub.execute_input": "2022-12-19T16:42:51.587000Z",
     "iopub.status.busy": "2022-12-19T16:42:51.587000Z",
     "iopub.status.idle": "2022-12-19T16:42:51.803000Z",
     "shell.execute_reply": "2022-12-19T16:42:51.803000Z"
    },
    "papermill": {
     "duration": 0.225428,
     "end_time": "2022-12-19T14:42:51.805092",
     "exception": false,
     "start_time": "2022-12-19T14:42:51.579664",
     "status": "completed"
    },
    "tags": []
   },
   "outputs": [
    {
     "data": {
      "text/plain": [
       "23373-element Vector{Float64}:\n",
       " 0.0\n",
       " 0.0\n",
       " 0.0\n",
       " 0.0\n",
       " 0.0\n",
       " 0.0\n",
       " 0.0\n",
       " 0.0\n",
       " 0.0\n",
       " 0.0\n",
       " 0.0\n",
       " 0.014707755533002362\n",
       " 0.02673554599486592\n",
       " ⋮\n",
       " 0.0\n",
       " 0.02673554599486592\n",
       " 0.014707755533002362\n",
       " 0.0\n",
       " 0.0\n",
       " 0.0\n",
       " 0.0\n",
       " 0.0\n",
       " 0.0\n",
       " 0.0\n",
       " 0.0\n",
       " 0.0"
      ]
     },
     "execution_count": 38,
     "metadata": {},
     "output_type": "execute_result"
    }
   ],
   "source": [
    "df_full_set.ConsCountry = conservation_values_country\n",
    "df_full_set.EntropyCountry = entropy_values_country"
   ]
  },
  {
   "cell_type": "code",
   "execution_count": 39,
   "id": "b060e603-efff-44d0-b546-fe276c35c342",
   "metadata": {
    "execution": {
     "iopub.execute_input": "2022-12-19T16:42:51.824000Z",
     "iopub.status.busy": "2022-12-19T16:42:51.824000Z",
     "iopub.status.idle": "2022-12-19T16:42:52.013000Z",
     "shell.execute_reply": "2022-12-19T16:42:52.013000Z"
    },
    "papermill": {
     "duration": 0.198556,
     "end_time": "2022-12-19T14:42:52.015334",
     "exception": false,
     "start_time": "2022-12-19T14:42:51.816778",
     "status": "completed"
    },
    "tags": []
   },
   "outputs": [
    {
     "data": {
      "text/plain": [
       "\"/mnt/raid/covid-phylogeny/audines11/rez/lineages/BA.2/alignment_nextclade_1000_data.csv\""
      ]
     },
     "execution_count": 39,
     "metadata": {},
     "output_type": "execute_result"
    }
   ],
   "source": [
    "df_full_set.Reference = map( (x) -> string(x), df_full_set.Reference )\n",
    "df_full_set.Rorg = map( (x) -> string(x), df_full_set.Rorg )\n",
    "#select!(df_full_set, Not([:Rorg]))\n",
    "CSV.write(conservation_data,df_full_set)"
   ]
  },
  {
   "cell_type": "code",
   "execution_count": 40,
   "id": "be9b75ad-198b-42d3-accf-e4de38d10ba4",
   "metadata": {
    "execution": {
     "iopub.execute_input": "2022-12-19T16:42:52.034000Z",
     "iopub.status.busy": "2022-12-19T16:42:52.034000Z",
     "iopub.status.idle": "2022-12-19T16:42:52.150000Z",
     "shell.execute_reply": "2022-12-19T16:42:52.150000Z"
    },
    "papermill": {
     "duration": 0.123923,
     "end_time": "2022-12-19T14:42:52.152037",
     "exception": false,
     "start_time": "2022-12-19T14:42:52.028114",
     "status": "completed"
    },
    "tags": []
   },
   "outputs": [
    {
     "name": "stderr",
     "output_type": "stream",
     "text": [
      "┌ Warning: RCall.jl: `stat_bin()` using `bins = 30`. Pick better value with `binwidth`.\n",
      "└ @ RCall /home/user1/.julia/packages/RCall/Wyd74/src/io.jl:172\n"
     ]
    },
    {
     "data": {
      "image/png": "[encoded data removed]"
     },
     "metadata": {},
     "output_type": "display_data"
    },
    {
     "data": {
      "text/plain": [
       "RObject{VecSxp}\n"
      ]
     },
     "execution_count": 40,
     "metadata": {},
     "output_type": "execute_result"
    }
   ],
   "source": [
    "@rput df_full_set\n",
    "R\"\"\"\n",
    "ggplot(data = df_full_set) +\n",
    "geom_histogram(aes(x=ConsCountry))\n",
    "\"\"\""
   ]
  },
  {
   "cell_type": "code",
   "execution_count": 41,
   "id": "6e0cd1b7-e678-4613-a86f-5eca7742e7b5",
   "metadata": {
    "execution": {
     "iopub.execute_input": "2022-12-19T16:42:52.171000Z",
     "iopub.status.busy": "2022-12-19T16:42:52.171000Z",
     "iopub.status.idle": "2022-12-19T16:42:52.277000Z",
     "shell.execute_reply": "2022-12-19T16:42:52.277000Z"
    },
    "papermill": {
     "duration": 0.114268,
     "end_time": "2022-12-19T14:42:52.278951",
     "exception": false,
     "start_time": "2022-12-19T14:42:52.164683",
     "status": "completed"
    },
    "tags": []
   },
   "outputs": [
    {
     "name": "stdout",
     "output_type": "stream",
     "text": [
      "(747, 1097)\n"
     ]
    },
    {
     "data": {
      "text/plain": [
       "0"
      ]
     },
     "execution_count": 41,
     "metadata": {},
     "output_type": "execute_result"
    }
   ],
   "source": [
    "size(aln.M)\n",
    "df_full_set\n",
    "#spit out only non conservative columns\n",
    "pos_non_cons = df_full_set.NR[df_full_set.EntropyFull .> 0]\n",
    "sub_alignment_columnwise!(aln, pos_non_cons)\n",
    "println(size(aln.M))\n",
    "JuliaClusterAndTreeTools.write_to_fasta(aln, output_file_nonconspoz_name)"
   ]
  }
 ],
 "metadata": {
  "kernelspec": {
   "display_name": "Julia 1.9.2",
   "language": "julia",
   "name": "julia-1.9"
  },
  "language_info": {
   "file_extension": ".jl",
   "mimetype": "application/julia",
   "name": "julia",
   "version": "1.9.2"
  },
  "papermill": {
   "default_parameters": {},
   "duration": 42.675655,
   "end_time": "2022-12-19T14:42:55.324600",
   "environment_variables": {},
   "exception": null,
   "input_path": "scripts/julia_modules/JuliaClusterAndTreeTools/notebooks/test_aln.ipynb",
   "output_path": "scripts/julia_modules/JuliaClusterAndTreeTools/notebooks/test_aln_parsed.ipynb",
   "parameters": {
    "in_file_name": "/mnt/raid/covid-phylogeny/audines11/rez/lineages/BA.2/alignment_nextclade_1000.fasta.gz",
    "output_file_name": "/mnt/raid/covid-phylogeny/audines11/rez/lineages/BA.2/alignment_nextclade_filteredsmall.fasta.gz"
   },
   "start_time": "2022-12-19T14:42:12.648945",
   "version": "2.4.0"
  }
 },
 "nbformat": 4,
 "nbformat_minor": 5
}